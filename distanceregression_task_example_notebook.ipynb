{
 "cells": [
  {
   "cell_type": "markdown",
   "id": "15808533",
   "metadata": {},
   "source": [
    "## Distance Regression with CHILI-3K using GCN model"
   ]
  },
  {
   "cell_type": "markdown",
   "id": "e34fa071",
   "metadata": {},
   "source": [
    "### Imports"
   ]
  },
  {
   "cell_type": "code",
   "execution_count": 2,
   "id": "d7730d98",
   "metadata": {},
   "outputs": [],
   "source": [
    "import warnings\n",
    "import torch\n",
    "import torch.nn as nn\n",
    "from torch_geometric.loader import DataLoader\n",
    "from torch_geometric.nn.models import GCN\n",
    "from benchmark.dataset_class import CHILI"
   ]
  },
  {
   "cell_type": "markdown",
   "id": "1ab7f578",
   "metadata": {},
   "source": [
    "### Model Setup"
   ]
  },
  {
   "cell_type": "code",
   "execution_count": 3,
   "id": "0bc9bf7d",
   "metadata": {},
   "outputs": [],
   "source": [
    "# Hyperparamters\n",
    "learning_rate = 0.001\n",
    "batch_size = 16\n",
    "max_epochs = 10\n",
    "seeds = 42\n",
    "max_patience = 50  # Epochs\n",
    "device = torch.device(\"cuda\" if torch.cuda.is_available() else \"cpu\")\n",
    "\n",
    "# Model and Optimizer\n",
    "model = GCN(in_channels = 7, hidden_channels = 32, out_channels = 1, num_layers = 4).to(device=device)\n",
    "optimizer = torch.optim.Adam(model.parameters(), lr = learning_rate)"
   ]
  },
  {
   "cell_type": "markdown",
   "id": "f4e324cc",
   "metadata": {},
   "source": [
    "### Dataset Module"
   ]
  },
  {
   "cell_type": "code",
   "execution_count": 4,
   "id": "644300bc",
   "metadata": {},
   "outputs": [
    {
     "name": "stdout",
     "output_type": "stream",
     "text": [
      "Number of training samples: 2544\n",
      "Number of validation samples: 318\n",
      "Number of test samples: 318\n"
     ]
    }
   ],
   "source": [
    "# Create dataset\n",
    "root = 'benchmark/dataset/'\n",
    "dataset='CHILI-3K'\n",
    "dataset = CHILI(root, dataset)\n",
    "\n",
    "# Create random split and load that into the dataset class\n",
    "with warnings.catch_warnings():\n",
    "    warnings.simplefilter('ignore')\n",
    "    dataset.create_data_split(split_strategy = 'random', test_size=0.1)\n",
    "    dataset.load_data_split(split_strategy = 'random')\n",
    "    \n",
    "# Define dataloaders\n",
    "train_loader = DataLoader(dataset.train_set, batch_size=batch_size, shuffle=True)\n",
    "val_loader = DataLoader(dataset.validation_set, batch_size=batch_size, shuffle=False)\n",
    "test_loader = DataLoader(dataset.test_set, batch_size=batch_size, shuffle=False)\n",
    "\n",
    "print(f\"Number of training samples: {len(dataset.train_set)}\", flush=True)\n",
    "print(f\"Number of validation samples: {len(dataset.validation_set)}\", flush=True)\n",
    "print(f\"Number of test samples: {len(dataset.test_set)}\", flush=True)"
   ]
  },
  {
   "cell_type": "markdown",
   "id": "72ab91a6",
   "metadata": {},
   "source": [
    "### Train, validate and test"
   ]
  },
  {
   "cell_type": "code",
   "execution_count": 7,
   "id": "cb278f30",
   "metadata": {
    "scrolled": false
   },
   "outputs": [
    {
     "name": "stdout",
     "output_type": "stream",
     "text": [
      "Epoch: 1/10, Train Loss: 0.1338, Val MSE: 0.4014\n",
      "Epoch: 2/10, Train Loss: 0.1083, Val MSE: 0.1797\n",
      "Epoch: 3/10, Train Loss: 0.1229, Val MSE: 0.1745\n",
      "Epoch: 4/10, Train Loss: 0.1301, Val MSE: 0.2399\n",
      "Epoch: 5/10, Train Loss: 0.1554, Val MSE: 0.1780\n",
      "Epoch: 6/10, Train Loss: 0.1135, Val MSE: 0.1552\n",
      "Epoch: 7/10, Train Loss: 0.0890, Val MSE: 0.1476\n",
      "Epoch: 8/10, Train Loss: 0.0866, Val MSE: 0.3199\n",
      "Epoch: 9/10, Train Loss: 0.0993, Val MSE: 0.6644\n",
      "Epoch: 10/10, Train Loss: 0.0972, Val MSE: 0.3611\n",
      "Test MSE: 0.3055\n"
     ]
    }
   ],
   "source": [
    "# Initialise loss function and metric function\n",
    "loss_function = nn.SmoothL1Loss()\n",
    "metric_function = nn.MSELoss()\n",
    "improved_function = lambda best, new: new < best if best is not None else True\n",
    "\n",
    "# Training & Validation\n",
    "patience = 0\n",
    "best_error = None\n",
    "for epoch in range(max_epochs):\n",
    "    \n",
    "    # Patience\n",
    "    if patience >= max_patience:\n",
    "        print(\"Max Patience reached, quitting...\", flush=True)\n",
    "        break\n",
    "\n",
    "    # Training loop\n",
    "    model.train()\n",
    "    train_loss = 0\n",
    "    for data in train_loader:\n",
    "\n",
    "        # Send to device\n",
    "        data = data.to(device)\n",
    "\n",
    "        # Perform forward pass\n",
    "        pred = model.forward(\n",
    "            x = torch.cat((data.x, data.pos_abs), dim=1),\n",
    "            edge_index = data.edge_index,\n",
    "            edge_attr = None,\n",
    "            edge_weight = None,\n",
    "            batch = data.batch\n",
    "        )\n",
    "        pred = torch.sum(pred[data.edge_index[0, :]] * pred[data.edge_index[1, :]], dim = -1)\n",
    "        truth = data.edge_attr\n",
    "        loss = loss_function(pred, truth)\n",
    "\n",
    "        # Back prop. loss\n",
    "        optimizer.zero_grad()\n",
    "        loss.backward()\n",
    "        optimizer.step()\n",
    "\n",
    "        train_loss += loss.item()\n",
    "    \n",
    "    # Training loss\n",
    "    train_loss = train_loss / len(train_loader)\n",
    "\n",
    "    # Validation loop\n",
    "    model.eval()\n",
    "    val_error = 0\n",
    "    for data in val_loader:\n",
    "        \n",
    "        # Send to device\n",
    "        data = data.to(device)\n",
    "\n",
    "        # Perform forward pass\n",
    "        with torch.no_grad():\n",
    "            pred = model.forward(\n",
    "                x = torch.cat((data.x, data.pos_abs), dim=1),\n",
    "                edge_index = data.edge_index,\n",
    "                edge_attr = None,\n",
    "                edge_weight = None,\n",
    "                batch = data.batch\n",
    "            )\n",
    "            pred = torch.sum(pred[data.edge_index[0, :]] * pred[data.edge_index[1, :]], dim = -1)\n",
    "            truth = data.edge_attr\n",
    "            metric = metric_function(pred, truth)\n",
    "\n",
    "        # Aggregate errors\n",
    "        val_error += metric.item()\n",
    "\n",
    "    val_error = val_error / len(val_loader)\n",
    "\n",
    "    if improved_function(best_error, val_error):\n",
    "        best_error = val_error\n",
    "        patience = 0\n",
    "    else:\n",
    "        patience += 1\n",
    "\n",
    "    # Print checkpoint\n",
    "    print(f'Epoch: {epoch+1}/{max_epochs}, Train Loss: {train_loss:.4f}, Val MSE: {val_error:.4f}')\n",
    "\n",
    "# Testing loop\n",
    "model.eval()\n",
    "test_error = 0\n",
    "for data in test_loader:\n",
    "\n",
    "    # Send to device\n",
    "    data = data.to(device)\n",
    "\n",
    "    # Perform forward pass\n",
    "    with torch.no_grad():\n",
    "        pred = model.forward( \n",
    "            x = torch.cat((data.x, data.pos_abs), dim=1),\n",
    "            edge_index = data.edge_index,\n",
    "            edge_attr = None,\n",
    "            edge_weight = None,\n",
    "            batch = data.batch\n",
    "        )\n",
    "        pred = torch.sum(pred[data.edge_index[0, :]] * pred[data.edge_index[1, :]], dim = -1)\n",
    "        truth = data.edge_attr\n",
    "        metric = metric_function(pred, truth)\n",
    "\n",
    "    # Aggregate errors\n",
    "    test_error += metric.item()\n",
    "\n",
    "# Final test error\n",
    "test_error = test_error / len(test_loader)\n",
    "print(f\"Test MSE: {test_error:.4f}\")"
   ]
  }
 ],
 "metadata": {
  "kernelspec": {
   "display_name": "Python 3 (ipykernel)",
   "language": "python",
   "name": "python3"
  },
  "language_info": {
   "codemirror_mode": {
    "name": "ipython",
    "version": 3
   },
   "file_extension": ".py",
   "mimetype": "text/x-python",
   "name": "python",
   "nbconvert_exporter": "python",
   "pygments_lexer": "ipython3",
   "version": "3.10.13"
  }
 },
 "nbformat": 4,
 "nbformat_minor": 5
}
