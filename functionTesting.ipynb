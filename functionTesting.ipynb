{
 "cells": [
  {
   "cell_type": "code",
   "execution_count": 1,
   "metadata": {},
   "outputs": [],
   "source": [
    "# Imports\n",
    "from Code.h5Constructor import h5Constructor"
   ]
  },
  {
   "cell_type": "code",
   "execution_count": 2,
   "metadata": {},
   "outputs": [],
   "source": [
    "gc = h5Constructor('./Dataset/CIFs/Val/', './Dataset/h5/Val/')"
   ]
  },
  {
   "cell_type": "code",
   "execution_count": 3,
   "metadata": {},
   "outputs": [
    {
     "name": "stdout",
     "output_type": "stream",
     "text": [
      "\n",
      "Constructing graphs from cif files:\n"
     ]
    },
    {
     "name": "stderr",
     "output_type": "stream",
     "text": [
      "  0%|          | 0/7 [00:00<?, ?it/s]"
     ]
    },
    {
     "name": "stderr",
     "output_type": "stream",
     "text": [
      "\n"
     ]
    },
    {
     "ename": "TypeError",
     "evalue": "unsupported format string passed to type.__format__",
     "output_type": "error",
     "traceback": [
      "\u001b[0;31m---------------------------------------------------------------------------\u001b[0m",
      "\u001b[0;31mTypeError\u001b[0m                                 Traceback (most recent call last)",
      "\u001b[0;32m/tmp/ipykernel_28358/1054242542.py\u001b[0m in \u001b[0;36m<module>\u001b[0;34m\u001b[0m\n\u001b[0;32m----> 1\u001b[0;31m \u001b[0mgc\u001b[0m\u001b[0;34m.\u001b[0m\u001b[0mgen_h5s\u001b[0m\u001b[0;34m(\u001b[0m\u001b[0mparallelize\u001b[0m\u001b[0;34m=\u001b[0m\u001b[0;32mFalse\u001b[0m\u001b[0;34m)\u001b[0m\u001b[0;34m\u001b[0m\u001b[0;34m\u001b[0m\u001b[0m\n\u001b[0m",
      "\u001b[0;32m~/InOrgMatDataset/Code/h5Constructor.py\u001b[0m in \u001b[0;36mgen_h5s\u001b[0;34m(self, num_processes, parallelize)\u001b[0m\n\u001b[1;32m    235\u001b[0m         \u001b[0;32melse\u001b[0m\u001b[0;34m:\u001b[0m\u001b[0;34m\u001b[0m\u001b[0;34m\u001b[0m\u001b[0m\n\u001b[1;32m    236\u001b[0m             \u001b[0;32mfor\u001b[0m \u001b[0mcif\u001b[0m \u001b[0;32min\u001b[0m \u001b[0mtqdm\u001b[0m\u001b[0;34m(\u001b[0m\u001b[0mself\u001b[0m\u001b[0;34m.\u001b[0m\u001b[0mcifs\u001b[0m\u001b[0;34m)\u001b[0m\u001b[0;34m:\u001b[0m\u001b[0;34m\u001b[0m\u001b[0;34m\u001b[0m\u001b[0m\n\u001b[0;32m--> 237\u001b[0;31m                 \u001b[0mself\u001b[0m\u001b[0;34m.\u001b[0m\u001b[0mgen_single_h5\u001b[0m\u001b[0;34m(\u001b[0m\u001b[0mcif\u001b[0m\u001b[0;34m)\u001b[0m\u001b[0;34m\u001b[0m\u001b[0;34m\u001b[0m\u001b[0m\n\u001b[0m\u001b[1;32m    238\u001b[0m         \u001b[0;32mreturn\u001b[0m \u001b[0;32mNone\u001b[0m\u001b[0;34m\u001b[0m\u001b[0;34m\u001b[0m\u001b[0m\n\u001b[1;32m    239\u001b[0m \u001b[0;34m\u001b[0m\u001b[0m\n",
      "\u001b[0;32m~/InOrgMatDataset/Code/h5Constructor.py\u001b[0m in \u001b[0;36mgen_single_h5\u001b[0;34m(self, cif, override)\u001b[0m\n\u001b[1;32m    105\u001b[0m         \u001b[0;32melse\u001b[0m\u001b[0;34m:\u001b[0m\u001b[0;34m\u001b[0m\u001b[0;34m\u001b[0m\u001b[0m\n\u001b[1;32m    106\u001b[0m             \u001b[0medge_features\u001b[0m \u001b[0;34m=\u001b[0m \u001b[0munit_cell_dist\u001b[0m\u001b[0;34m[\u001b[0m\u001b[0mlc_mask\u001b[0m\u001b[0;34m]\u001b[0m\u001b[0;34m\u001b[0m\u001b[0;34m\u001b[0m\u001b[0m\n\u001b[0;32m--> 107\u001b[0;31m             \u001b[0mprint\u001b[0m\u001b[0;34m(\u001b[0m\u001b[0;34m[\u001b[0m\u001b[0melement\u001b[0m\u001b[0;34m(\u001b[0m\u001b[0matom\u001b[0m\u001b[0;34m[\u001b[0m\u001b[0;36m0\u001b[0m\u001b[0;34m]\u001b[0m\u001b[0;34m)\u001b[0m \u001b[0;32mfor\u001b[0m \u001b[0matom\u001b[0m \u001b[0;32min\u001b[0m \u001b[0munit_cell_atoms\u001b[0m\u001b[0;34m]\u001b[0m\u001b[0;34m)\u001b[0m\u001b[0;34m\u001b[0m\u001b[0;34m\u001b[0m\u001b[0m\n\u001b[0m\u001b[1;32m    108\u001b[0m             \u001b[0mnode_features\u001b[0m \u001b[0;34m=\u001b[0m \u001b[0;34m[\u001b[0m\u001b[0;34m[\u001b[0m\u001b[0melement\u001b[0m\u001b[0;34m(\u001b[0m\u001b[0matom\u001b[0m\u001b[0;34m[\u001b[0m\u001b[0;36m0\u001b[0m\u001b[0;34m]\u001b[0m\u001b[0;34m)\u001b[0m\u001b[0;34m.\u001b[0m\u001b[0matomic_number\u001b[0m\u001b[0;34m,\u001b[0m \u001b[0melement\u001b[0m\u001b[0;34m(\u001b[0m\u001b[0matom\u001b[0m\u001b[0;34m[\u001b[0m\u001b[0;36m0\u001b[0m\u001b[0;34m]\u001b[0m\u001b[0;34m)\u001b[0m\u001b[0;34m.\u001b[0m\u001b[0matomic_radius\u001b[0m\u001b[0;34m,\u001b[0m \u001b[0melement\u001b[0m\u001b[0;34m(\u001b[0m\u001b[0matom\u001b[0m\u001b[0;34m[\u001b[0m\u001b[0;36m0\u001b[0m\u001b[0;34m]\u001b[0m\u001b[0;34m)\u001b[0m\u001b[0;34m.\u001b[0m\u001b[0matomic_weight\u001b[0m\u001b[0;34m,\u001b[0m \u001b[0melement\u001b[0m\u001b[0;34m(\u001b[0m\u001b[0matom\u001b[0m\u001b[0;34m[\u001b[0m\u001b[0;36m0\u001b[0m\u001b[0;34m]\u001b[0m\u001b[0;34m)\u001b[0m\u001b[0;34m.\u001b[0m\u001b[0melectron_affinity\u001b[0m\u001b[0;34m]\u001b[0m \u001b[0;32mfor\u001b[0m \u001b[0matom\u001b[0m \u001b[0;32min\u001b[0m \u001b[0munit_cell_atoms\u001b[0m\u001b[0;34m]\u001b[0m\u001b[0;34m\u001b[0m\u001b[0;34m\u001b[0m\u001b[0m\n\u001b[1;32m    109\u001b[0m             \u001b[0mnode_pos_real\u001b[0m \u001b[0;34m=\u001b[0m \u001b[0munit_cell\u001b[0m\u001b[0;34m.\u001b[0m\u001b[0mget_positions\u001b[0m\u001b[0;34m(\u001b[0m\u001b[0;34m)\u001b[0m\u001b[0;34m\u001b[0m\u001b[0;34m\u001b[0m\u001b[0m\n",
      "\u001b[0;32m~/InOrgMatDataset/Code/h5Constructor.py\u001b[0m in \u001b[0;36m<listcomp>\u001b[0;34m(.0)\u001b[0m\n\u001b[1;32m    105\u001b[0m         \u001b[0;32melse\u001b[0m\u001b[0;34m:\u001b[0m\u001b[0;34m\u001b[0m\u001b[0;34m\u001b[0m\u001b[0m\n\u001b[1;32m    106\u001b[0m             \u001b[0medge_features\u001b[0m \u001b[0;34m=\u001b[0m \u001b[0munit_cell_dist\u001b[0m\u001b[0;34m[\u001b[0m\u001b[0mlc_mask\u001b[0m\u001b[0;34m]\u001b[0m\u001b[0;34m\u001b[0m\u001b[0;34m\u001b[0m\u001b[0m\n\u001b[0;32m--> 107\u001b[0;31m             \u001b[0mprint\u001b[0m\u001b[0;34m(\u001b[0m\u001b[0;34m[\u001b[0m\u001b[0melement\u001b[0m\u001b[0;34m(\u001b[0m\u001b[0matom\u001b[0m\u001b[0;34m[\u001b[0m\u001b[0;36m0\u001b[0m\u001b[0;34m]\u001b[0m\u001b[0;34m)\u001b[0m \u001b[0;32mfor\u001b[0m \u001b[0matom\u001b[0m \u001b[0;32min\u001b[0m \u001b[0munit_cell_atoms\u001b[0m\u001b[0;34m]\u001b[0m\u001b[0;34m)\u001b[0m\u001b[0;34m\u001b[0m\u001b[0;34m\u001b[0m\u001b[0m\n\u001b[0m\u001b[1;32m    108\u001b[0m             \u001b[0mnode_features\u001b[0m \u001b[0;34m=\u001b[0m \u001b[0;34m[\u001b[0m\u001b[0;34m[\u001b[0m\u001b[0melement\u001b[0m\u001b[0;34m(\u001b[0m\u001b[0matom\u001b[0m\u001b[0;34m[\u001b[0m\u001b[0;36m0\u001b[0m\u001b[0;34m]\u001b[0m\u001b[0;34m)\u001b[0m\u001b[0;34m.\u001b[0m\u001b[0matomic_number\u001b[0m\u001b[0;34m,\u001b[0m \u001b[0melement\u001b[0m\u001b[0;34m(\u001b[0m\u001b[0matom\u001b[0m\u001b[0;34m[\u001b[0m\u001b[0;36m0\u001b[0m\u001b[0;34m]\u001b[0m\u001b[0;34m)\u001b[0m\u001b[0;34m.\u001b[0m\u001b[0matomic_radius\u001b[0m\u001b[0;34m,\u001b[0m \u001b[0melement\u001b[0m\u001b[0;34m(\u001b[0m\u001b[0matom\u001b[0m\u001b[0;34m[\u001b[0m\u001b[0;36m0\u001b[0m\u001b[0;34m]\u001b[0m\u001b[0;34m)\u001b[0m\u001b[0;34m.\u001b[0m\u001b[0matomic_weight\u001b[0m\u001b[0;34m,\u001b[0m \u001b[0melement\u001b[0m\u001b[0;34m(\u001b[0m\u001b[0matom\u001b[0m\u001b[0;34m[\u001b[0m\u001b[0;36m0\u001b[0m\u001b[0;34m]\u001b[0m\u001b[0;34m)\u001b[0m\u001b[0;34m.\u001b[0m\u001b[0melectron_affinity\u001b[0m\u001b[0;34m]\u001b[0m \u001b[0;32mfor\u001b[0m \u001b[0matom\u001b[0m \u001b[0;32min\u001b[0m \u001b[0munit_cell_atoms\u001b[0m\u001b[0;34m]\u001b[0m\u001b[0;34m\u001b[0m\u001b[0;34m\u001b[0m\u001b[0m\n\u001b[1;32m    109\u001b[0m             \u001b[0mnode_pos_real\u001b[0m \u001b[0;34m=\u001b[0m \u001b[0munit_cell\u001b[0m\u001b[0;34m.\u001b[0m\u001b[0mget_positions\u001b[0m\u001b[0;34m(\u001b[0m\u001b[0;34m)\u001b[0m\u001b[0;34m\u001b[0m\u001b[0;34m\u001b[0m\u001b[0m\n",
      "\u001b[0;32m~/anaconda3/envs/dataset_env/lib/python3.7/site-packages/mendeleev/mendeleev.py\u001b[0m in \u001b[0;36melement\u001b[0;34m(ids)\u001b[0m\n\u001b[1;32m     65\u001b[0m     \u001b[0;32melse\u001b[0m\u001b[0;34m:\u001b[0m\u001b[0;34m\u001b[0m\u001b[0;34m\u001b[0m\u001b[0m\n\u001b[1;32m     66\u001b[0m         raise ValueError(\n\u001b[0;32m---> 67\u001b[0;31m             \u001b[0;34m\"Expected a <list>, <tuple>, <str> or <int>, got: {0:s}\"\u001b[0m\u001b[0;34m.\u001b[0m\u001b[0mformat\u001b[0m\u001b[0;34m(\u001b[0m\u001b[0mtype\u001b[0m\u001b[0;34m(\u001b[0m\u001b[0mids\u001b[0m\u001b[0;34m)\u001b[0m\u001b[0;34m)\u001b[0m\u001b[0;34m\u001b[0m\u001b[0;34m\u001b[0m\u001b[0m\n\u001b[0m\u001b[1;32m     68\u001b[0m         )\n\u001b[1;32m     69\u001b[0m \u001b[0;34m\u001b[0m\u001b[0m\n",
      "\u001b[0;31mTypeError\u001b[0m: unsupported format string passed to type.__format__"
     ]
    }
   ],
   "source": [
    "gc.gen_h5s(parallelize=False)"
   ]
  },
  {
   "cell_type": "code",
   "execution_count": 5,
   "metadata": {},
   "outputs": [
    {
     "data": {
      "text/plain": [
       "Element(\n",
       "\tabundance_crust=461000.0,\n",
       " \tabundance_sea=857000.0,\n",
       " \tannotation='density(@ -183C), ',\n",
       " \tatomic_number=8,\n",
       " \tatomic_radius=60.0,\n",
       " \tatomic_radius_rahm=171.0,\n",
       " \tatomic_volume=14.0,\n",
       " \tatomic_weight=15.999,\n",
       " \tatomic_weight_uncertainty=None,\n",
       " \tblock='p',\n",
       " \tc6=15.6,\n",
       " \tc6_gb=16.7,\n",
       " \tcas='7782-44-7',\n",
       " \tcovalent_radius_bragg=65.0,\n",
       " \tcovalent_radius_cordero=66.0,\n",
       " \tcovalent_radius_pyykko=63.0,\n",
       " \tcovalent_radius_pyykko_double=57.0,\n",
       " \tcovalent_radius_pyykko_triple=53.0,\n",
       " \tcpk_color='#f00000',\n",
       " \tdensity=0.0013080000000000001,\n",
       " \tdescription=\"A colourless, odourless gaseous element belonging to group 16 of the periodic table. It is the most abundant element present in the earth's crust. It also makes up 20.8% of the Earth's atmosphere. For industrial purposes, it is separated from liquid air by fractional distillation. It is used in high temperature welding, and in breathing. It commonly comes in the form of Oxygen, but is found as Ozone in the upper atmosphere. It was discovered by Priestley in 1774.\",\n",
       " \tdipole_polarizability=5.3,\n",
       " \tdipole_polarizability_unc=0.2,\n",
       " \tdiscoverers='Joseph Priestly, Carl Wilhelm Scheele',\n",
       " \tdiscovery_location='England/Sweden',\n",
       " \tdiscovery_year=1774,\n",
       " \tec=<ElectronicConfiguration(conf=\"1s2 2s2 2p4\")>,\n",
       " \teconf='[He] 2s2 2p4',\n",
       " \telectron_affinity=1.4611135,\n",
       " \ten_allen=21.36,\n",
       " \ten_ghosh=0.304575,\n",
       " \ten_pauling=3.44,\n",
       " \tevaporation_heat=None,\n",
       " \tfusion_heat=None,\n",
       " \tgas_basicity=459.6,\n",
       " \tgeochemical_class='major',\n",
       " \tglawe_number=97,\n",
       " \tgoldschmidt_class='litophile',\n",
       " \tgroup=<Group(symbol=VIA, name=Chalcogens)>,\n",
       " \tgroup_id=16,\n",
       " \theat_of_formation=249.229,\n",
       " \tionic_radii=[IonicRadius(\n",
       "\tatomic_number=8,\n",
       " \tcharge=-2,\n",
       " \tcoordination='II',\n",
       " \tcrystal_radius=121.0,\n",
       " \teconf='2p6',\n",
       " \tid=284,\n",
       " \tionic_radius=135.0,\n",
       " \tmost_reliable=False,\n",
       " \torigin='',\n",
       " \tspin='',\n",
       "), IonicRadius(\n",
       "\tatomic_number=8,\n",
       " \tcharge=-2,\n",
       " \tcoordination='III',\n",
       " \tcrystal_radius=122.0,\n",
       " \teconf='2p6',\n",
       " \tid=285,\n",
       " \tionic_radius=136.0,\n",
       " \tmost_reliable=False,\n",
       " \torigin='',\n",
       " \tspin='',\n",
       "), IonicRadius(\n",
       "\tatomic_number=8,\n",
       " \tcharge=-2,\n",
       " \tcoordination='IV',\n",
       " \tcrystal_radius=124.0,\n",
       " \teconf='2p6',\n",
       " \tid=286,\n",
       " \tionic_radius=138.0,\n",
       " \tmost_reliable=False,\n",
       " \torigin='',\n",
       " \tspin='',\n",
       "), IonicRadius(\n",
       "\tatomic_number=8,\n",
       " \tcharge=-2,\n",
       " \tcoordination='VI',\n",
       " \tcrystal_radius=126.0,\n",
       " \teconf='2p6',\n",
       " \tid=287,\n",
       " \tionic_radius=140.0,\n",
       " \tmost_reliable=False,\n",
       " \torigin='',\n",
       " \tspin='',\n",
       "), IonicRadius(\n",
       "\tatomic_number=8,\n",
       " \tcharge=-2,\n",
       " \tcoordination='VIII',\n",
       " \tcrystal_radius=128.0,\n",
       " \teconf='2p6',\n",
       " \tid=288,\n",
       " \tionic_radius=142.0,\n",
       " \tmost_reliable=False,\n",
       " \torigin='',\n",
       " \tspin='',\n",
       ")],\n",
       " \tis_monoisotopic=None,\n",
       " \tis_radioactive=False,\n",
       " \tisotopes=[<Isotope(Z=8, A=11, mass=11.05125(6), abundance=None)>, <Isotope(Z=8, A=12, mass=12.03437(1), abundance=None)>, <Isotope(Z=8, A=13, mass=13.02482(1), abundance=None)>, <Isotope(Z=8, A=14, mass=14.00859671(3), abundance=None)>, <Isotope(Z=8, A=15, mass=15.0030656(5), abundance=None)>, <Isotope(Z=8, A=16, mass=15.9949146193(3), abundance=99.76(1))>, <Isotope(Z=8, A=17, mass=16.9991317559(7), abundance=0.0384(10))>, <Isotope(Z=8, A=18, mass=17.9991596121(7), abundance=0.20(1))>, <Isotope(Z=8, A=19, mass=19.003578(3), abundance=None)>, <Isotope(Z=8, A=20, mass=20.0040754(10), abundance=None)>, <Isotope(Z=8, A=21, mass=21.00865(1), abundance=None)>, <Isotope(Z=8, A=22, mass=22.00997(6), abundance=None)>, <Isotope(Z=8, A=23, mass=23.0157(1), abundance=None)>, <Isotope(Z=8, A=24, mass=24.0199(2), abundance=None)>, <Isotope(Z=8, A=25, mass=25.0293(2), abundance=None)>, <Isotope(Z=8, A=26, mass=26.0372(2), abundance=None)>, <Isotope(Z=8, A=27, mass=27.0480(5), abundance=None)>, <Isotope(Z=8, A=28, mass=28.0559(8), abundance=None)>],\n",
       " \tjmol_color='#ff0d0d',\n",
       " \tlattice_constant=6.83,\n",
       " \tlattice_structure='CUB',\n",
       " \tmendeleev_number=99,\n",
       " \tmetallic_radius=None,\n",
       " \tmetallic_radius_c12=None,\n",
       " \tmolar_heat_capacity=29.378,\n",
       " \tmolcas_gv_color='#f32e42',\n",
       " \tname='Oxygen',\n",
       " \tname_origin='Greek: oxys and genes, (acid former).',\n",
       " \tperiod=2,\n",
       " \tpettifor_number=101,\n",
       " \tphase_transitions=[8 Tm=54.359999999999985 Tb=90.18799999999999],\n",
       " \tproton_affinity=485.2,\n",
       " \tscreening_constants=[<ScreeningConstant(Z=   8, n=  1, s=s, screening=    0.3421)>, <ScreeningConstant(Z=   8, n=  2, s=p, screening=    3.5468)>, <ScreeningConstant(Z=   8, n=  2, s=s, screening=    3.5084)>],\n",
       " \tsources='Obtained primarily from liquid air by fractional distillation. Small amounts are made in the laboratory by electrolysis of water or heating potassium chlorate (KClO3) with manganese dioxide (MnO2) catalyst.',\n",
       " \tspecific_heat_capacity=0.918,\n",
       " \tsymbol='O',\n",
       " \tthermal_conductivity=0.027,\n",
       " \tuses='Used in steel making, welding, and supporting life. Naturally occuring ozone (O3) in the upper atmosphere shields the earth from ultraviolet radiation.',\n",
       " \tvdw_radius=152.0,\n",
       " \tvdw_radius_alvarez=150.0,\n",
       " \tvdw_radius_batsanov=155.0,\n",
       " \tvdw_radius_bondi=152.0,\n",
       " \tvdw_radius_dreiding=340.46,\n",
       " \tvdw_radius_mm3=182.0,\n",
       " \tvdw_radius_rt=158.0,\n",
       " \tvdw_radius_truhlar=None,\n",
       " \tvdw_radius_uff=350.0,\n",
       ")"
      ]
     },
     "execution_count": 5,
     "metadata": {},
     "output_type": "execute_result"
    }
   ],
   "source": [
    "from mendeleev import element\n",
    "element(8)"
   ]
  },
  {
   "cell_type": "code",
   "execution_count": 1,
   "metadata": {},
   "outputs": [
    {
     "name": "stderr",
     "output_type": "stream",
     "text": [
      "Downloading https://sid.erda.dk/share_redirect/HiFeydCIqA/DatasetTest.zip\n",
      "Extracting Dataset/DatasetTest/raw/DatasetTest.zip\n",
      "Processing...\n",
      "Done!\n"
     ]
    }
   ],
   "source": [
    "from Code.datasetClass import InOrgMatDatasets\n",
    "\n",
    "test = InOrgMatDatasets('DatasetTest', root='./Dataset/')"
   ]
  },
  {
   "cell_type": "code",
   "execution_count": 2,
   "metadata": {},
   "outputs": [
    {
     "data": {
      "text/plain": [
       "Data(\n",
       "  x=[12, 4],\n",
       "  edge_index=[2, 64],\n",
       "  edge_attr=[88],\n",
       "  y={\n",
       "    np_size=11.35,\n",
       "    nd=[580],\n",
       "    xrd=[580],\n",
       "    nPDF=[301],\n",
       "    xPDF=[301],\n",
       "    sans=[300],\n",
       "    saxs=[300]\n",
       "  }\n",
       ")"
      ]
     },
     "execution_count": 2,
     "metadata": {},
     "output_type": "execute_result"
    }
   ],
   "source": [
    "test.get(100)"
   ]
  }
 ],
 "metadata": {
  "kernelspec": {
   "display_name": "cvae",
   "language": "python",
   "name": "python3"
  },
  "language_info": {
   "codemirror_mode": {
    "name": "ipython",
    "version": 3
   },
   "file_extension": ".py",
   "mimetype": "text/x-python",
   "name": "python",
   "nbconvert_exporter": "python",
   "pygments_lexer": "ipython3",
   "version": "3.7.16"
  },
  "orig_nbformat": 4
 },
 "nbformat": 4,
 "nbformat_minor": 2
}
