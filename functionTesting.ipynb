{
 "cells": [
  {
   "cell_type": "code",
   "execution_count": 1,
   "metadata": {},
   "outputs": [],
   "source": [
    "# Imports\n",
    "from Code.h5Constructor import h5Constructor"
   ]
  },
  {
   "cell_type": "code",
   "execution_count": 2,
   "metadata": {},
   "outputs": [],
   "source": [
    "gc = h5Constructor('./Dataset/CIFs/Train/', './Dataset/h5/Train/')"
   ]
  },
  {
   "cell_type": "code",
   "execution_count": 3,
   "metadata": {},
   "outputs": [
    {
     "name": "stdout",
     "output_type": "stream",
     "text": [
      "3.4403785463884637\n",
      "3.4403785463884637\n",
      "3.4403785463884637\n",
      "2.432715\n",
      "4.213585980334922\n",
      "2.432715\n",
      "2.432715\n",
      "2.1067929901674605\n",
      "2.1067929901674605\n",
      "2.1067929901674605\n",
      "2.1067929901674605\n",
      "3.4403785463884637\n",
      "3.4403785463884637\n",
      "4.213585980334922\n",
      "2.432715\n",
      "2.432715\n",
      "2.432715\n",
      "2.1067929901674605\n",
      "2.106792990167461\n",
      "2.106792990167461\n",
      "2.1067929901674614\n",
      "3.4403785463884637\n",
      "2.432715\n",
      "2.432715\n",
      "4.213585980334922\n",
      "2.432715\n",
      "2.1067929901674605\n",
      "2.106792990167461\n",
      "2.1067929901674614\n",
      "2.106792990167461\n",
      "2.432715\n",
      "2.432715\n",
      "2.432715\n",
      "4.213585980334922\n",
      "2.1067929901674605\n",
      "2.1067929901674614\n",
      "2.106792990167461\n",
      "2.106792990167461\n",
      "3.4403785463884637\n",
      "3.4403785463884637\n",
      "3.4403785463884637\n",
      "2.1067929901674605\n",
      "2.106792990167461\n",
      "2.106792990167461\n",
      "2.1067929901674605\n",
      "3.4403785463884637\n",
      "3.4403785463884637\n",
      "2.106792990167461\n",
      "2.1067929901674614\n",
      "2.1067929901674614\n",
      "2.1067929901674614\n",
      "3.4403785463884637\n",
      "2.1067929901674605\n",
      "2.106792990167461\n",
      "2.1067929901674605\n",
      "2.106792990167461\n",
      "2.1067929901674605\n",
      "2.1067929901674605\n",
      "2.106792990167461\n",
      "2.106792990167461\n",
      "3.4403785463884633\n",
      "3.4403785463884633\n",
      "3.4403785463884633\n",
      "3.4403785463884633\n",
      "3.4403785463884633\n",
      "3.4403785463884633\n",
      "\n",
      "AntiFlourite_Co2O.cif\n",
      "\n"
     ]
    }
   ],
   "source": [
    "gc.gen_single_h5('AntiFlourite_Co2O.cif')"
   ]
  },
  {
   "cell_type": "code",
   "execution_count": 4,
   "metadata": {},
   "outputs": [],
   "source": [
    "# gc.gen_h5s()"
   ]
  },
  {
   "cell_type": "code",
   "execution_count": null,
   "metadata": {},
   "outputs": [],
   "source": []
  },
  {
   "cell_type": "code",
   "execution_count": 5,
   "metadata": {},
   "outputs": [
    {
     "name": "stderr",
     "output_type": "stream",
     "text": [
      "Downloading https://sid.erda.dk/share_redirect/HiFeydCIqA/DatasetTest.zip\n",
      "Extracting Dataset/DatasetTest/raw/DatasetTest.zip\n",
      "Processing...\n",
      "Done!\n"
     ]
    }
   ],
   "source": [
    "from Code.datasetClass import InOrgMatDatasets\n",
    "\n",
    "test = InOrgMatDatasets('DatasetTest', root='./Dataset/')"
   ]
  },
  {
   "cell_type": "code",
   "execution_count": 6,
   "metadata": {},
   "outputs": [
    {
     "data": {
      "text/plain": [
       "'Dataset/DatasetTest/raw'"
      ]
     },
     "execution_count": 6,
     "metadata": {},
     "output_type": "execute_result"
    }
   ],
   "source": [
    "test.raw_dir"
   ]
  }
 ],
 "metadata": {
  "kernelspec": {
   "display_name": "cvae",
   "language": "python",
   "name": "python3"
  },
  "language_info": {
   "codemirror_mode": {
    "name": "ipython",
    "version": 3
   },
   "file_extension": ".py",
   "mimetype": "text/x-python",
   "name": "python",
   "nbconvert_exporter": "python",
   "pygments_lexer": "ipython3",
   "version": "3.7.7"
  },
  "orig_nbformat": 4
 },
 "nbformat": 4,
 "nbformat_minor": 2
}
