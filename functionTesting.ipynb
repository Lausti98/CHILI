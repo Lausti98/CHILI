{
 "cells": [
  {
   "cell_type": "code",
   "execution_count": 1,
   "metadata": {},
   "outputs": [],
   "source": [
    "# Imports\n",
    "from Code.h5Constructor import h5Constructor"
   ]
  },
  {
   "cell_type": "code",
   "execution_count": 2,
   "metadata": {},
   "outputs": [
    {
     "name": "stdout",
     "output_type": "stream",
     "text": [
      "Save directory doesn't exist.\n",
      "Created the save directory at Dataset/h5/Train\n"
     ]
    }
   ],
   "source": [
    "gc = h5Constructor('./Dataset/CIFs/Train/', './Dataset/h5/Train/')"
   ]
  },
  {
   "cell_type": "code",
   "execution_count": 3,
   "metadata": {},
   "outputs": [
    {
     "name": "stdout",
     "output_type": "stream",
     "text": [
      "\n",
      "Constructing graphs from cif files:\n"
     ]
    },
    {
     "data": {
      "application/vnd.jupyter.widget-view+json": {
       "model_id": "6430a3d59ee14f338cbf8d222e50ceab",
       "version_major": 2,
       "version_minor": 0
      },
      "text/plain": [
       "  0%|          | 0/28 [00:00<?, ?it/s]"
      ]
     },
     "metadata": {},
     "output_type": "display_data"
    },
    {
     "data": {
      "application/vnd.jupyter.widget-view+json": {
       "model_id": "f805bd149603471f833d2c0b397c2dd9",
       "version_major": 2,
       "version_minor": 0
      },
      "text/plain": [
       "Batched distance matrix calculation:   0%|          | 0/22 [00:00<?, ?it/s]"
      ]
     },
     "metadata": {},
     "output_type": "display_data"
    },
    {
     "data": {
      "application/vnd.jupyter.widget-view+json": {
       "model_id": "9d2abd2d86f54fa8b6abcbfba7ed3169",
       "version_major": 2,
       "version_minor": 0
      },
      "text/plain": [
       "Generating NPs:   0%|          | 0/5 [00:00<?, ?it/s]"
      ]
     },
     "metadata": {},
     "output_type": "display_data"
    },
    {
     "data": {
      "application/vnd.jupyter.widget-view+json": {
       "model_id": "ce063eb4a75744ae85f70923db00de6b",
       "version_major": 2,
       "version_minor": 0
      },
      "text/plain": [
       "Checking atoms: 0it [00:00, ?it/s]"
      ]
     },
     "metadata": {},
     "output_type": "display_data"
    },
    {
     "data": {
      "application/vnd.jupyter.widget-view+json": {
       "model_id": "24df199fe8ba4f2181900e49f9a1afda",
       "version_major": 2,
       "version_minor": 0
      },
      "text/plain": [
       "Checking atoms: 0it [00:00, ?it/s]"
      ]
     },
     "metadata": {},
     "output_type": "display_data"
    },
    {
     "data": {
      "application/vnd.jupyter.widget-view+json": {
       "model_id": "15b7e7b1e2df41268d2039cbe1d5770e",
       "version_major": 2,
       "version_minor": 0
      },
      "text/plain": [
       "Checking atoms: 0it [00:00, ?it/s]"
      ]
     },
     "metadata": {},
     "output_type": "display_data"
    },
    {
     "data": {
      "application/vnd.jupyter.widget-view+json": {
       "model_id": "1ea5515356bc401f8d646fcc8eb0d94e",
       "version_major": 2,
       "version_minor": 0
      },
      "text/plain": [
       "Checking atoms: 0it [00:00, ?it/s]"
      ]
     },
     "metadata": {},
     "output_type": "display_data"
    },
    {
     "data": {
      "application/vnd.jupyter.widget-view+json": {
       "model_id": "c2a0bcf16d074285ba5a394ce2ec9cec",
       "version_major": 2,
       "version_minor": 0
      },
      "text/plain": [
       "Checking atoms: 0it [00:00, ?it/s]"
      ]
     },
     "metadata": {},
     "output_type": "display_data"
    },
    {
     "data": {
      "application/vnd.jupyter.widget-view+json": {
       "model_id": "c72b822455fb47e5a6662596bea0b0c4",
       "version_major": 2,
       "version_minor": 0
      },
      "text/plain": [
       "Batched distance matrix calculation:   0%|          | 0/8 [00:00<?, ?it/s]"
      ]
     },
     "metadata": {},
     "output_type": "display_data"
    },
    {
     "data": {
      "application/vnd.jupyter.widget-view+json": {
       "model_id": "f87beb77eb114e7282f686a326afe9ae",
       "version_major": 2,
       "version_minor": 0
      },
      "text/plain": [
       "Simulating spectra: 0it [00:00, ?it/s]"
      ]
     },
     "metadata": {},
     "output_type": "display_data"
    },
    {
     "data": {
      "application/vnd.jupyter.widget-view+json": {
       "model_id": "15ac48e27f36401597ad4a7a95483520",
       "version_major": 2,
       "version_minor": 0
      },
      "text/plain": [
       "Batched distance matrix calculation:   0%|          | 0/24 [00:00<?, ?it/s]"
      ]
     },
     "metadata": {},
     "output_type": "display_data"
    },
    {
     "data": {
      "application/vnd.jupyter.widget-view+json": {
       "model_id": "f2879d7671ec436b9b29392d8960ab50",
       "version_major": 2,
       "version_minor": 0
      },
      "text/plain": [
       "Generating NPs:   0%|          | 0/5 [00:00<?, ?it/s]"
      ]
     },
     "metadata": {},
     "output_type": "display_data"
    },
    {
     "data": {
      "application/vnd.jupyter.widget-view+json": {
       "model_id": "3b8f20cdd8c54cce829d7d2c53bbc73c",
       "version_major": 2,
       "version_minor": 0
      },
      "text/plain": [
       "Checking atoms: 0it [00:00, ?it/s]"
      ]
     },
     "metadata": {},
     "output_type": "display_data"
    },
    {
     "data": {
      "application/vnd.jupyter.widget-view+json": {
       "model_id": "76cbd172bf9447659efe6e34c01390c6",
       "version_major": 2,
       "version_minor": 0
      },
      "text/plain": [
       "Checking atoms: 0it [00:00, ?it/s]"
      ]
     },
     "metadata": {},
     "output_type": "display_data"
    },
    {
     "data": {
      "application/vnd.jupyter.widget-view+json": {
       "model_id": "38bc46844d6341d48e67898af516709e",
       "version_major": 2,
       "version_minor": 0
      },
      "text/plain": [
       "Checking atoms: 0it [00:00, ?it/s]"
      ]
     },
     "metadata": {},
     "output_type": "display_data"
    },
    {
     "data": {
      "application/vnd.jupyter.widget-view+json": {
       "model_id": "129f2abc678a4fd6ae2a2f48efecc94c",
       "version_major": 2,
       "version_minor": 0
      },
      "text/plain": [
       "Checking atoms: 0it [00:00, ?it/s]"
      ]
     },
     "metadata": {},
     "output_type": "display_data"
    },
    {
     "data": {
      "application/vnd.jupyter.widget-view+json": {
       "model_id": "7dd9647780f1435f903083c5eb41c309",
       "version_major": 2,
       "version_minor": 0
      },
      "text/plain": [
       "Checking atoms: 0it [00:00, ?it/s]"
      ]
     },
     "metadata": {},
     "output_type": "display_data"
    },
    {
     "data": {
      "application/vnd.jupyter.widget-view+json": {
       "model_id": "29a8e8f77f08412ab58a604341e7adef",
       "version_major": 2,
       "version_minor": 0
      },
      "text/plain": [
       "Batched distance matrix calculation:   0%|          | 0/8 [00:00<?, ?it/s]"
      ]
     },
     "metadata": {},
     "output_type": "display_data"
    },
    {
     "data": {
      "application/vnd.jupyter.widget-view+json": {
       "model_id": "bccee21bd21e46e2a90ac25504e9ca77",
       "version_major": 2,
       "version_minor": 0
      },
      "text/plain": [
       "Simulating spectra: 0it [00:00, ?it/s]"
      ]
     },
     "metadata": {},
     "output_type": "display_data"
    },
    {
     "data": {
      "application/vnd.jupyter.widget-view+json": {
       "model_id": "106f9b8df2f44ba0abefab7fb3fca67d",
       "version_major": 2,
       "version_minor": 0
      },
      "text/plain": [
       "Batched distance matrix calculation:   0%|          | 0/11 [00:00<?, ?it/s]"
      ]
     },
     "metadata": {},
     "output_type": "display_data"
    },
    {
     "data": {
      "application/vnd.jupyter.widget-view+json": {
       "model_id": "211a32f274674f74b69aa247e7521eff",
       "version_major": 2,
       "version_minor": 0
      },
      "text/plain": [
       "Generating NPs:   0%|          | 0/5 [00:00<?, ?it/s]"
      ]
     },
     "metadata": {},
     "output_type": "display_data"
    },
    {
     "data": {
      "application/vnd.jupyter.widget-view+json": {
       "model_id": "be7ba580bbfd494eac4c193e9e29770e",
       "version_major": 2,
       "version_minor": 0
      },
      "text/plain": [
       "Checking atoms: 0it [00:00, ?it/s]"
      ]
     },
     "metadata": {},
     "output_type": "display_data"
    },
    {
     "data": {
      "application/vnd.jupyter.widget-view+json": {
       "model_id": "a6ece0fa91e5446e9170073d44ff81c8",
       "version_major": 2,
       "version_minor": 0
      },
      "text/plain": [
       "Checking atoms: 0it [00:00, ?it/s]"
      ]
     },
     "metadata": {},
     "output_type": "display_data"
    },
    {
     "data": {
      "application/vnd.jupyter.widget-view+json": {
       "model_id": "f075e54eedbc40c7aa95e92abc2040d9",
       "version_major": 2,
       "version_minor": 0
      },
      "text/plain": [
       "Checking atoms: 0it [00:00, ?it/s]"
      ]
     },
     "metadata": {},
     "output_type": "display_data"
    },
    {
     "data": {
      "application/vnd.jupyter.widget-view+json": {
       "model_id": "9630ebb57f35474e9cf1d6f1b3fa97a4",
       "version_major": 2,
       "version_minor": 0
      },
      "text/plain": [
       "Checking atoms: 0it [00:00, ?it/s]"
      ]
     },
     "metadata": {},
     "output_type": "display_data"
    },
    {
     "data": {
      "application/vnd.jupyter.widget-view+json": {
       "model_id": "c10d694e8aec4a90b80dfbd2e43d5449",
       "version_major": 2,
       "version_minor": 0
      },
      "text/plain": [
       "Checking atoms: 0it [00:00, ?it/s]"
      ]
     },
     "metadata": {},
     "output_type": "display_data"
    },
    {
     "data": {
      "application/vnd.jupyter.widget-view+json": {
       "model_id": "f65bbecf88e94128910677caf358bbc3",
       "version_major": 2,
       "version_minor": 0
      },
      "text/plain": [
       "Batched distance matrix calculation:   0%|          | 0/8 [00:00<?, ?it/s]"
      ]
     },
     "metadata": {},
     "output_type": "display_data"
    },
    {
     "data": {
      "application/vnd.jupyter.widget-view+json": {
       "model_id": "cdef758fdecb4f929528749023544a32",
       "version_major": 2,
       "version_minor": 0
      },
      "text/plain": [
       "Simulating spectra: 0it [00:00, ?it/s]"
      ]
     },
     "metadata": {},
     "output_type": "display_data"
    },
    {
     "data": {
      "application/vnd.jupyter.widget-view+json": {
       "model_id": "d64e86264ab7471d828cae23ce5b8330",
       "version_major": 2,
       "version_minor": 0
      },
      "text/plain": [
       "Batched distance matrix calculation:   0%|          | 0/6 [00:00<?, ?it/s]"
      ]
     },
     "metadata": {},
     "output_type": "display_data"
    },
    {
     "data": {
      "application/vnd.jupyter.widget-view+json": {
       "model_id": "60a39422f25747ed9779fa07e6fddb36",
       "version_major": 2,
       "version_minor": 0
      },
      "text/plain": [
       "Generating NPs:   0%|          | 0/5 [00:00<?, ?it/s]"
      ]
     },
     "metadata": {},
     "output_type": "display_data"
    },
    {
     "data": {
      "application/vnd.jupyter.widget-view+json": {
       "model_id": "0cb207a3dbcd4ff8bbabccce215645f9",
       "version_major": 2,
       "version_minor": 0
      },
      "text/plain": [
       "Checking atoms: 0it [00:00, ?it/s]"
      ]
     },
     "metadata": {},
     "output_type": "display_data"
    },
    {
     "data": {
      "application/vnd.jupyter.widget-view+json": {
       "model_id": "0652562fbe144aa7a0561a2f9f6f5f5a",
       "version_major": 2,
       "version_minor": 0
      },
      "text/plain": [
       "Checking atoms: 0it [00:00, ?it/s]"
      ]
     },
     "metadata": {},
     "output_type": "display_data"
    },
    {
     "data": {
      "application/vnd.jupyter.widget-view+json": {
       "model_id": "104fce4844f94557a0ea537e547755a7",
       "version_major": 2,
       "version_minor": 0
      },
      "text/plain": [
       "Checking atoms: 0it [00:00, ?it/s]"
      ]
     },
     "metadata": {},
     "output_type": "display_data"
    },
    {
     "data": {
      "application/vnd.jupyter.widget-view+json": {
       "model_id": "f75f9597f98747ffb0db0826e7644d81",
       "version_major": 2,
       "version_minor": 0
      },
      "text/plain": [
       "Checking atoms: 0it [00:00, ?it/s]"
      ]
     },
     "metadata": {},
     "output_type": "display_data"
    },
    {
     "data": {
      "application/vnd.jupyter.widget-view+json": {
       "model_id": "995f083d97c246dbb9aa2c0c3f05e7f7",
       "version_major": 2,
       "version_minor": 0
      },
      "text/plain": [
       "Checking atoms: 0it [00:00, ?it/s]"
      ]
     },
     "metadata": {},
     "output_type": "display_data"
    },
    {
     "data": {
      "application/vnd.jupyter.widget-view+json": {
       "model_id": "64c447a26a634e66a86828bf7564b571",
       "version_major": 2,
       "version_minor": 0
      },
      "text/plain": [
       "Batched distance matrix calculation:   0%|          | 0/8 [00:00<?, ?it/s]"
      ]
     },
     "metadata": {},
     "output_type": "display_data"
    },
    {
     "data": {
      "application/vnd.jupyter.widget-view+json": {
       "model_id": "a53285a783d84687aa1f1c51a35e4a46",
       "version_major": 2,
       "version_minor": 0
      },
      "text/plain": [
       "Simulating spectra: 0it [00:00, ?it/s]"
      ]
     },
     "metadata": {},
     "output_type": "display_data"
    },
    {
     "data": {
      "application/vnd.jupyter.widget-view+json": {
       "model_id": "38522368f47b492984b4f15de31f1924",
       "version_major": 2,
       "version_minor": 0
      },
      "text/plain": [
       "Batched distance matrix calculation:   0%|          | 0/7 [00:00<?, ?it/s]"
      ]
     },
     "metadata": {},
     "output_type": "display_data"
    },
    {
     "data": {
      "application/vnd.jupyter.widget-view+json": {
       "model_id": "24135e86d1d3495c82bb7463fe0fdfe8",
       "version_major": 2,
       "version_minor": 0
      },
      "text/plain": [
       "Generating NPs:   0%|          | 0/5 [00:00<?, ?it/s]"
      ]
     },
     "metadata": {},
     "output_type": "display_data"
    },
    {
     "data": {
      "application/vnd.jupyter.widget-view+json": {
       "model_id": "68c8b5adacf84e3b939c614a42463bde",
       "version_major": 2,
       "version_minor": 0
      },
      "text/plain": [
       "Checking atoms: 0it [00:00, ?it/s]"
      ]
     },
     "metadata": {},
     "output_type": "display_data"
    },
    {
     "data": {
      "application/vnd.jupyter.widget-view+json": {
       "model_id": "97ea11456ed8406b9ce01cf17b4c586b",
       "version_major": 2,
       "version_minor": 0
      },
      "text/plain": [
       "Checking atoms: 0it [00:00, ?it/s]"
      ]
     },
     "metadata": {},
     "output_type": "display_data"
    },
    {
     "data": {
      "application/vnd.jupyter.widget-view+json": {
       "model_id": "c68e4358256942e691cf3b420b76b01b",
       "version_major": 2,
       "version_minor": 0
      },
      "text/plain": [
       "Checking atoms: 0it [00:00, ?it/s]"
      ]
     },
     "metadata": {},
     "output_type": "display_data"
    },
    {
     "data": {
      "application/vnd.jupyter.widget-view+json": {
       "model_id": "1e993d8f33de4826a287bede53e76399",
       "version_major": 2,
       "version_minor": 0
      },
      "text/plain": [
       "Checking atoms: 0it [00:00, ?it/s]"
      ]
     },
     "metadata": {},
     "output_type": "display_data"
    },
    {
     "data": {
      "application/vnd.jupyter.widget-view+json": {
       "model_id": "ac7b8704e7bb4b3ab09feda30f3bb94d",
       "version_major": 2,
       "version_minor": 0
      },
      "text/plain": [
       "Checking atoms: 0it [00:00, ?it/s]"
      ]
     },
     "metadata": {},
     "output_type": "display_data"
    },
    {
     "data": {
      "application/vnd.jupyter.widget-view+json": {
       "model_id": "49cad76092124afb8fc187e144be860c",
       "version_major": 2,
       "version_minor": 0
      },
      "text/plain": [
       "Batched distance matrix calculation:   0%|          | 0/7 [00:00<?, ?it/s]"
      ]
     },
     "metadata": {},
     "output_type": "display_data"
    },
    {
     "data": {
      "application/vnd.jupyter.widget-view+json": {
       "model_id": "2c81989176b04145bbd3e50964780d82",
       "version_major": 2,
       "version_minor": 0
      },
      "text/plain": [
       "Simulating spectra: 0it [00:00, ?it/s]"
      ]
     },
     "metadata": {},
     "output_type": "display_data"
    },
    {
     "data": {
      "application/vnd.jupyter.widget-view+json": {
       "model_id": "edfdc5271947460580cca1d2a71cd762",
       "version_major": 2,
       "version_minor": 0
      },
      "text/plain": [
       "Batched distance matrix calculation:   0%|          | 0/8 [00:00<?, ?it/s]"
      ]
     },
     "metadata": {},
     "output_type": "display_data"
    },
    {
     "data": {
      "application/vnd.jupyter.widget-view+json": {
       "model_id": "b922d78539e44c81854cd6a7acdaf5fe",
       "version_major": 2,
       "version_minor": 0
      },
      "text/plain": [
       "Generating NPs:   0%|          | 0/5 [00:00<?, ?it/s]"
      ]
     },
     "metadata": {},
     "output_type": "display_data"
    },
    {
     "data": {
      "application/vnd.jupyter.widget-view+json": {
       "model_id": "d7d5aad2b949415396b933830b21f459",
       "version_major": 2,
       "version_minor": 0
      },
      "text/plain": [
       "Checking atoms: 0it [00:00, ?it/s]"
      ]
     },
     "metadata": {},
     "output_type": "display_data"
    },
    {
     "data": {
      "application/vnd.jupyter.widget-view+json": {
       "model_id": "006ca8ad2ec949f08c9cc986e2b60de3",
       "version_major": 2,
       "version_minor": 0
      },
      "text/plain": [
       "Checking atoms: 0it [00:00, ?it/s]"
      ]
     },
     "metadata": {},
     "output_type": "display_data"
    },
    {
     "data": {
      "application/vnd.jupyter.widget-view+json": {
       "model_id": "89a5cae2a6744d9c9f81fbdccbb5e5cd",
       "version_major": 2,
       "version_minor": 0
      },
      "text/plain": [
       "Checking atoms: 0it [00:00, ?it/s]"
      ]
     },
     "metadata": {},
     "output_type": "display_data"
    },
    {
     "data": {
      "application/vnd.jupyter.widget-view+json": {
       "model_id": "1e26bbe6b6ea415482c150d92d7b8399",
       "version_major": 2,
       "version_minor": 0
      },
      "text/plain": [
       "Checking atoms: 0it [00:00, ?it/s]"
      ]
     },
     "metadata": {},
     "output_type": "display_data"
    },
    {
     "data": {
      "application/vnd.jupyter.widget-view+json": {
       "model_id": "fba93e2e873e495e8ee2e451d1f9d225",
       "version_major": 2,
       "version_minor": 0
      },
      "text/plain": [
       "Checking atoms: 0it [00:00, ?it/s]"
      ]
     },
     "metadata": {},
     "output_type": "display_data"
    },
    {
     "data": {
      "application/vnd.jupyter.widget-view+json": {
       "model_id": "9f0ae1518c9d48d288c81e761ec898dd",
       "version_major": 2,
       "version_minor": 0
      },
      "text/plain": [
       "Batched distance matrix calculation:   0%|          | 0/7 [00:00<?, ?it/s]"
      ]
     },
     "metadata": {},
     "output_type": "display_data"
    },
    {
     "data": {
      "application/vnd.jupyter.widget-view+json": {
       "model_id": "5f23efe40c854a95ae8658ee401c4957",
       "version_major": 2,
       "version_minor": 0
      },
      "text/plain": [
       "Simulating spectra: 0it [00:00, ?it/s]"
      ]
     },
     "metadata": {},
     "output_type": "display_data"
    },
    {
     "data": {
      "application/vnd.jupyter.widget-view+json": {
       "model_id": "d3f726cabbfc4dbfb31d2390754019e0",
       "version_major": 2,
       "version_minor": 0
      },
      "text/plain": [
       "Batched distance matrix calculation:   0%|          | 0/5 [00:00<?, ?it/s]"
      ]
     },
     "metadata": {},
     "output_type": "display_data"
    },
    {
     "data": {
      "application/vnd.jupyter.widget-view+json": {
       "model_id": "cceab1d1048f47df90bda864e67af30a",
       "version_major": 2,
       "version_minor": 0
      },
      "text/plain": [
       "Generating NPs:   0%|          | 0/5 [00:00<?, ?it/s]"
      ]
     },
     "metadata": {},
     "output_type": "display_data"
    },
    {
     "data": {
      "application/vnd.jupyter.widget-view+json": {
       "model_id": "d4f0c9ff072641ec9588e1b9ad1fa3a5",
       "version_major": 2,
       "version_minor": 0
      },
      "text/plain": [
       "Checking atoms: 0it [00:00, ?it/s]"
      ]
     },
     "metadata": {},
     "output_type": "display_data"
    },
    {
     "data": {
      "application/vnd.jupyter.widget-view+json": {
       "model_id": "20004b39705f4e12abf6f0da7dc605ba",
       "version_major": 2,
       "version_minor": 0
      },
      "text/plain": [
       "Checking atoms: 0it [00:00, ?it/s]"
      ]
     },
     "metadata": {},
     "output_type": "display_data"
    },
    {
     "data": {
      "application/vnd.jupyter.widget-view+json": {
       "model_id": "5a5001496c064095af6d0af3ce27aec9",
       "version_major": 2,
       "version_minor": 0
      },
      "text/plain": [
       "Checking atoms: 0it [00:00, ?it/s]"
      ]
     },
     "metadata": {},
     "output_type": "display_data"
    },
    {
     "data": {
      "application/vnd.jupyter.widget-view+json": {
       "model_id": "5d1c77efbc704a39a10f5838f73f943b",
       "version_major": 2,
       "version_minor": 0
      },
      "text/plain": [
       "Checking atoms: 0it [00:00, ?it/s]"
      ]
     },
     "metadata": {},
     "output_type": "display_data"
    },
    {
     "data": {
      "application/vnd.jupyter.widget-view+json": {
       "model_id": "b094ccd4b09742cc846047123a392787",
       "version_major": 2,
       "version_minor": 0
      },
      "text/plain": [
       "Checking atoms: 0it [00:00, ?it/s]"
      ]
     },
     "metadata": {},
     "output_type": "display_data"
    },
    {
     "data": {
      "application/vnd.jupyter.widget-view+json": {
       "model_id": "b16c5eeb04e74bf79833c73e699c9b5f",
       "version_major": 2,
       "version_minor": 0
      },
      "text/plain": [
       "Simulating spectra: 0it [00:00, ?it/s]"
      ]
     },
     "metadata": {},
     "output_type": "display_data"
    },
    {
     "data": {
      "application/vnd.jupyter.widget-view+json": {
       "model_id": "a297bdd658924e8b9986c91c5f32e999",
       "version_major": 2,
       "version_minor": 0
      },
      "text/plain": [
       "Batched distance matrix calculation:   0%|          | 0/22 [00:00<?, ?it/s]"
      ]
     },
     "metadata": {},
     "output_type": "display_data"
    },
    {
     "data": {
      "application/vnd.jupyter.widget-view+json": {
       "model_id": "3e632afcbdb44fd69f7e87735cbbebb1",
       "version_major": 2,
       "version_minor": 0
      },
      "text/plain": [
       "Generating NPs:   0%|          | 0/5 [00:00<?, ?it/s]"
      ]
     },
     "metadata": {},
     "output_type": "display_data"
    },
    {
     "data": {
      "application/vnd.jupyter.widget-view+json": {
       "model_id": "2a223ae26fca4ee68795da8a17b09faf",
       "version_major": 2,
       "version_minor": 0
      },
      "text/plain": [
       "Checking atoms: 0it [00:00, ?it/s]"
      ]
     },
     "metadata": {},
     "output_type": "display_data"
    },
    {
     "data": {
      "application/vnd.jupyter.widget-view+json": {
       "model_id": "f1703101783b44fdbbe72de80c103f31",
       "version_major": 2,
       "version_minor": 0
      },
      "text/plain": [
       "Checking atoms: 0it [00:00, ?it/s]"
      ]
     },
     "metadata": {},
     "output_type": "display_data"
    },
    {
     "data": {
      "application/vnd.jupyter.widget-view+json": {
       "model_id": "104a470e4cab4d22a878912662153a88",
       "version_major": 2,
       "version_minor": 0
      },
      "text/plain": [
       "Checking atoms: 0it [00:00, ?it/s]"
      ]
     },
     "metadata": {},
     "output_type": "display_data"
    },
    {
     "data": {
      "application/vnd.jupyter.widget-view+json": {
       "model_id": "29ba4474d513495fb0cbc54a65c3ced6",
       "version_major": 2,
       "version_minor": 0
      },
      "text/plain": [
       "Checking atoms: 0it [00:00, ?it/s]"
      ]
     },
     "metadata": {},
     "output_type": "display_data"
    },
    {
     "data": {
      "application/vnd.jupyter.widget-view+json": {
       "model_id": "d2b54ccc58ef4c668abd0a1473d45191",
       "version_major": 2,
       "version_minor": 0
      },
      "text/plain": [
       "Checking atoms: 0it [00:00, ?it/s]"
      ]
     },
     "metadata": {},
     "output_type": "display_data"
    },
    {
     "data": {
      "application/vnd.jupyter.widget-view+json": {
       "model_id": "0b0f7d0779af4a209492e00894bc2e97",
       "version_major": 2,
       "version_minor": 0
      },
      "text/plain": [
       "Batched distance matrix calculation:   0%|          | 0/8 [00:00<?, ?it/s]"
      ]
     },
     "metadata": {},
     "output_type": "display_data"
    },
    {
     "data": {
      "application/vnd.jupyter.widget-view+json": {
       "model_id": "c700dfc305de4255bbcb5a86486f9f31",
       "version_major": 2,
       "version_minor": 0
      },
      "text/plain": [
       "Simulating spectra: 0it [00:00, ?it/s]"
      ]
     },
     "metadata": {},
     "output_type": "display_data"
    },
    {
     "data": {
      "application/vnd.jupyter.widget-view+json": {
       "model_id": "8ad7497fc3874ec6b17df26b2a2873b9",
       "version_major": 2,
       "version_minor": 0
      },
      "text/plain": [
       "Batched distance matrix calculation:   0%|          | 0/24 [00:00<?, ?it/s]"
      ]
     },
     "metadata": {},
     "output_type": "display_data"
    },
    {
     "data": {
      "application/vnd.jupyter.widget-view+json": {
       "model_id": "051f76855a5448fe89d65ffff5e50f96",
       "version_major": 2,
       "version_minor": 0
      },
      "text/plain": [
       "Generating NPs:   0%|          | 0/5 [00:00<?, ?it/s]"
      ]
     },
     "metadata": {},
     "output_type": "display_data"
    },
    {
     "data": {
      "application/vnd.jupyter.widget-view+json": {
       "model_id": "f63993fdee70459183746cf91edd6ed9",
       "version_major": 2,
       "version_minor": 0
      },
      "text/plain": [
       "Checking atoms: 0it [00:00, ?it/s]"
      ]
     },
     "metadata": {},
     "output_type": "display_data"
    },
    {
     "data": {
      "application/vnd.jupyter.widget-view+json": {
       "model_id": "dde3a3eca4ae4ae9b53b6a59789afb3b",
       "version_major": 2,
       "version_minor": 0
      },
      "text/plain": [
       "Checking atoms: 0it [00:00, ?it/s]"
      ]
     },
     "metadata": {},
     "output_type": "display_data"
    },
    {
     "data": {
      "application/vnd.jupyter.widget-view+json": {
       "model_id": "5c40c9b5d74c4ef896f9617ce97a4fa1",
       "version_major": 2,
       "version_minor": 0
      },
      "text/plain": [
       "Checking atoms: 0it [00:00, ?it/s]"
      ]
     },
     "metadata": {},
     "output_type": "display_data"
    },
    {
     "data": {
      "application/vnd.jupyter.widget-view+json": {
       "model_id": "604e17cb756045d39439aa8e58da3472",
       "version_major": 2,
       "version_minor": 0
      },
      "text/plain": [
       "Checking atoms: 0it [00:00, ?it/s]"
      ]
     },
     "metadata": {},
     "output_type": "display_data"
    },
    {
     "data": {
      "application/vnd.jupyter.widget-view+json": {
       "model_id": "89f12685bc724ebaa359e884a8c158a1",
       "version_major": 2,
       "version_minor": 0
      },
      "text/plain": [
       "Checking atoms: 0it [00:00, ?it/s]"
      ]
     },
     "metadata": {},
     "output_type": "display_data"
    },
    {
     "data": {
      "application/vnd.jupyter.widget-view+json": {
       "model_id": "dde4c2d99e764b5f8150d7fba3b304b3",
       "version_major": 2,
       "version_minor": 0
      },
      "text/plain": [
       "Batched distance matrix calculation:   0%|          | 0/8 [00:00<?, ?it/s]"
      ]
     },
     "metadata": {},
     "output_type": "display_data"
    },
    {
     "data": {
      "application/vnd.jupyter.widget-view+json": {
       "model_id": "4c273966b8234e578a0f4c42d69ed6d3",
       "version_major": 2,
       "version_minor": 0
      },
      "text/plain": [
       "Simulating spectra: 0it [00:00, ?it/s]"
      ]
     },
     "metadata": {},
     "output_type": "display_data"
    },
    {
     "data": {
      "application/vnd.jupyter.widget-view+json": {
       "model_id": "c786faa192dd45a48b96122b37d9d67b",
       "version_major": 2,
       "version_minor": 0
      },
      "text/plain": [
       "Batched distance matrix calculation:   0%|          | 0/11 [00:00<?, ?it/s]"
      ]
     },
     "metadata": {},
     "output_type": "display_data"
    },
    {
     "data": {
      "application/vnd.jupyter.widget-view+json": {
       "model_id": "099daeaaaadb4af4972dedb6ddd0f1c6",
       "version_major": 2,
       "version_minor": 0
      },
      "text/plain": [
       "Generating NPs:   0%|          | 0/5 [00:00<?, ?it/s]"
      ]
     },
     "metadata": {},
     "output_type": "display_data"
    },
    {
     "data": {
      "application/vnd.jupyter.widget-view+json": {
       "model_id": "9528f78f69b84b49b54c2f3a45576490",
       "version_major": 2,
       "version_minor": 0
      },
      "text/plain": [
       "Checking atoms: 0it [00:00, ?it/s]"
      ]
     },
     "metadata": {},
     "output_type": "display_data"
    },
    {
     "data": {
      "application/vnd.jupyter.widget-view+json": {
       "model_id": "ab7d2413b78143ffb4204693bd60b063",
       "version_major": 2,
       "version_minor": 0
      },
      "text/plain": [
       "Checking atoms: 0it [00:00, ?it/s]"
      ]
     },
     "metadata": {},
     "output_type": "display_data"
    },
    {
     "data": {
      "application/vnd.jupyter.widget-view+json": {
       "model_id": "d5847cdb609541f1896d4718071f15af",
       "version_major": 2,
       "version_minor": 0
      },
      "text/plain": [
       "Checking atoms: 0it [00:00, ?it/s]"
      ]
     },
     "metadata": {},
     "output_type": "display_data"
    },
    {
     "data": {
      "application/vnd.jupyter.widget-view+json": {
       "model_id": "f0cf3aaef4a94e9fbd9d1c967671e7cf",
       "version_major": 2,
       "version_minor": 0
      },
      "text/plain": [
       "Checking atoms: 0it [00:00, ?it/s]"
      ]
     },
     "metadata": {},
     "output_type": "display_data"
    },
    {
     "data": {
      "application/vnd.jupyter.widget-view+json": {
       "model_id": "5cbd1af6195749e9aa6c212ffb682b68",
       "version_major": 2,
       "version_minor": 0
      },
      "text/plain": [
       "Checking atoms: 0it [00:00, ?it/s]"
      ]
     },
     "metadata": {},
     "output_type": "display_data"
    },
    {
     "data": {
      "application/vnd.jupyter.widget-view+json": {
       "model_id": "f6b33a7d20a04f05a11aecc1e5f6a7ba",
       "version_major": 2,
       "version_minor": 0
      },
      "text/plain": [
       "Batched distance matrix calculation:   0%|          | 0/8 [00:00<?, ?it/s]"
      ]
     },
     "metadata": {},
     "output_type": "display_data"
    },
    {
     "data": {
      "application/vnd.jupyter.widget-view+json": {
       "model_id": "9bb3ad51e241453abb8cb9215c73f6d5",
       "version_major": 2,
       "version_minor": 0
      },
      "text/plain": [
       "Simulating spectra: 0it [00:00, ?it/s]"
      ]
     },
     "metadata": {},
     "output_type": "display_data"
    },
    {
     "data": {
      "application/vnd.jupyter.widget-view+json": {
       "model_id": "6547256315d64e6482cb93675bdb4d3e",
       "version_major": 2,
       "version_minor": 0
      },
      "text/plain": [
       "Batched distance matrix calculation:   0%|          | 0/6 [00:00<?, ?it/s]"
      ]
     },
     "metadata": {},
     "output_type": "display_data"
    },
    {
     "data": {
      "application/vnd.jupyter.widget-view+json": {
       "model_id": "9b0a67907bd0415691728eff823a4306",
       "version_major": 2,
       "version_minor": 0
      },
      "text/plain": [
       "Generating NPs:   0%|          | 0/5 [00:00<?, ?it/s]"
      ]
     },
     "metadata": {},
     "output_type": "display_data"
    },
    {
     "data": {
      "application/vnd.jupyter.widget-view+json": {
       "model_id": "ee7f958d1c6b442db64b421db1a1c342",
       "version_major": 2,
       "version_minor": 0
      },
      "text/plain": [
       "Checking atoms: 0it [00:00, ?it/s]"
      ]
     },
     "metadata": {},
     "output_type": "display_data"
    },
    {
     "data": {
      "application/vnd.jupyter.widget-view+json": {
       "model_id": "578769c5424e4715aa438c4e37c2a603",
       "version_major": 2,
       "version_minor": 0
      },
      "text/plain": [
       "Checking atoms: 0it [00:00, ?it/s]"
      ]
     },
     "metadata": {},
     "output_type": "display_data"
    },
    {
     "data": {
      "application/vnd.jupyter.widget-view+json": {
       "model_id": "4f4cde1b41f14a198c4b27eca3e47e2c",
       "version_major": 2,
       "version_minor": 0
      },
      "text/plain": [
       "Checking atoms: 0it [00:00, ?it/s]"
      ]
     },
     "metadata": {},
     "output_type": "display_data"
    },
    {
     "data": {
      "application/vnd.jupyter.widget-view+json": {
       "model_id": "85bfc6a5fd3c4b148204a12b98562592",
       "version_major": 2,
       "version_minor": 0
      },
      "text/plain": [
       "Checking atoms: 0it [00:00, ?it/s]"
      ]
     },
     "metadata": {},
     "output_type": "display_data"
    },
    {
     "data": {
      "application/vnd.jupyter.widget-view+json": {
       "model_id": "4c096b7b4a3345ebb83078161954cee9",
       "version_major": 2,
       "version_minor": 0
      },
      "text/plain": [
       "Checking atoms: 0it [00:00, ?it/s]"
      ]
     },
     "metadata": {},
     "output_type": "display_data"
    },
    {
     "data": {
      "application/vnd.jupyter.widget-view+json": {
       "model_id": "bf50d051d21f442885dba329f058146f",
       "version_major": 2,
       "version_minor": 0
      },
      "text/plain": [
       "Batched distance matrix calculation:   0%|          | 0/8 [00:00<?, ?it/s]"
      ]
     },
     "metadata": {},
     "output_type": "display_data"
    },
    {
     "data": {
      "application/vnd.jupyter.widget-view+json": {
       "model_id": "6c4744a90bce48059b912e846f656bc6",
       "version_major": 2,
       "version_minor": 0
      },
      "text/plain": [
       "Simulating spectra: 0it [00:00, ?it/s]"
      ]
     },
     "metadata": {},
     "output_type": "display_data"
    },
    {
     "data": {
      "application/vnd.jupyter.widget-view+json": {
       "model_id": "bcc0b11b34974d4b9ae36b5df9cb9d1f",
       "version_major": 2,
       "version_minor": 0
      },
      "text/plain": [
       "Batched distance matrix calculation:   0%|          | 0/7 [00:00<?, ?it/s]"
      ]
     },
     "metadata": {},
     "output_type": "display_data"
    },
    {
     "data": {
      "application/vnd.jupyter.widget-view+json": {
       "model_id": "9bb43937adfe4cf694ba10f5bbf7eee9",
       "version_major": 2,
       "version_minor": 0
      },
      "text/plain": [
       "Generating NPs:   0%|          | 0/5 [00:00<?, ?it/s]"
      ]
     },
     "metadata": {},
     "output_type": "display_data"
    },
    {
     "data": {
      "application/vnd.jupyter.widget-view+json": {
       "model_id": "905ac3ee34b34c4d8fabaaa9740a95e7",
       "version_major": 2,
       "version_minor": 0
      },
      "text/plain": [
       "Checking atoms: 0it [00:00, ?it/s]"
      ]
     },
     "metadata": {},
     "output_type": "display_data"
    },
    {
     "data": {
      "application/vnd.jupyter.widget-view+json": {
       "model_id": "981a1fc84c954883b848fee351babad8",
       "version_major": 2,
       "version_minor": 0
      },
      "text/plain": [
       "Checking atoms: 0it [00:00, ?it/s]"
      ]
     },
     "metadata": {},
     "output_type": "display_data"
    },
    {
     "data": {
      "application/vnd.jupyter.widget-view+json": {
       "model_id": "4fc69623171f4aa7922865c1d508faf2",
       "version_major": 2,
       "version_minor": 0
      },
      "text/plain": [
       "Checking atoms: 0it [00:00, ?it/s]"
      ]
     },
     "metadata": {},
     "output_type": "display_data"
    },
    {
     "data": {
      "application/vnd.jupyter.widget-view+json": {
       "model_id": "25955b5a1ca347b0bdef3985dc3b33e1",
       "version_major": 2,
       "version_minor": 0
      },
      "text/plain": [
       "Checking atoms: 0it [00:00, ?it/s]"
      ]
     },
     "metadata": {},
     "output_type": "display_data"
    },
    {
     "data": {
      "application/vnd.jupyter.widget-view+json": {
       "model_id": "5b3ce2263d1747048dc0a4e7b1958168",
       "version_major": 2,
       "version_minor": 0
      },
      "text/plain": [
       "Checking atoms: 0it [00:00, ?it/s]"
      ]
     },
     "metadata": {},
     "output_type": "display_data"
    },
    {
     "data": {
      "application/vnd.jupyter.widget-view+json": {
       "model_id": "381d19e4c5f148e8810774a336e057f2",
       "version_major": 2,
       "version_minor": 0
      },
      "text/plain": [
       "Batched distance matrix calculation:   0%|          | 0/7 [00:00<?, ?it/s]"
      ]
     },
     "metadata": {},
     "output_type": "display_data"
    },
    {
     "data": {
      "application/vnd.jupyter.widget-view+json": {
       "model_id": "0dcbe0a8bbb84b098a9a55f352316d72",
       "version_major": 2,
       "version_minor": 0
      },
      "text/plain": [
       "Simulating spectra: 0it [00:00, ?it/s]"
      ]
     },
     "metadata": {},
     "output_type": "display_data"
    },
    {
     "data": {
      "application/vnd.jupyter.widget-view+json": {
       "model_id": "0feebf95fabd45519c16b516d9acfac9",
       "version_major": 2,
       "version_minor": 0
      },
      "text/plain": [
       "Batched distance matrix calculation:   0%|          | 0/8 [00:00<?, ?it/s]"
      ]
     },
     "metadata": {},
     "output_type": "display_data"
    },
    {
     "data": {
      "application/vnd.jupyter.widget-view+json": {
       "model_id": "6aaacc86ac26467db1f14db49b96cd0f",
       "version_major": 2,
       "version_minor": 0
      },
      "text/plain": [
       "Generating NPs:   0%|          | 0/5 [00:00<?, ?it/s]"
      ]
     },
     "metadata": {},
     "output_type": "display_data"
    },
    {
     "data": {
      "application/vnd.jupyter.widget-view+json": {
       "model_id": "d5716931165a4b6e9ae2ba83a86c129c",
       "version_major": 2,
       "version_minor": 0
      },
      "text/plain": [
       "Checking atoms: 0it [00:00, ?it/s]"
      ]
     },
     "metadata": {},
     "output_type": "display_data"
    },
    {
     "data": {
      "application/vnd.jupyter.widget-view+json": {
       "model_id": "24f7b8e681b7420c8fbea1fbe66a9f87",
       "version_major": 2,
       "version_minor": 0
      },
      "text/plain": [
       "Checking atoms: 0it [00:00, ?it/s]"
      ]
     },
     "metadata": {},
     "output_type": "display_data"
    },
    {
     "data": {
      "application/vnd.jupyter.widget-view+json": {
       "model_id": "de5b7e3608d945b1b263d8a4022cbca0",
       "version_major": 2,
       "version_minor": 0
      },
      "text/plain": [
       "Checking atoms: 0it [00:00, ?it/s]"
      ]
     },
     "metadata": {},
     "output_type": "display_data"
    },
    {
     "data": {
      "application/vnd.jupyter.widget-view+json": {
       "model_id": "5ba37c5e88ff4b3a9275c8d0191cbe18",
       "version_major": 2,
       "version_minor": 0
      },
      "text/plain": [
       "Checking atoms: 0it [00:00, ?it/s]"
      ]
     },
     "metadata": {},
     "output_type": "display_data"
    },
    {
     "data": {
      "application/vnd.jupyter.widget-view+json": {
       "model_id": "223e85adfd0d4e16989c0705442ff89b",
       "version_major": 2,
       "version_minor": 0
      },
      "text/plain": [
       "Checking atoms: 0it [00:00, ?it/s]"
      ]
     },
     "metadata": {},
     "output_type": "display_data"
    },
    {
     "data": {
      "application/vnd.jupyter.widget-view+json": {
       "model_id": "0e423c181e9a4303b8e8a44edd4a46be",
       "version_major": 2,
       "version_minor": 0
      },
      "text/plain": [
       "Batched distance matrix calculation:   0%|          | 0/7 [00:00<?, ?it/s]"
      ]
     },
     "metadata": {},
     "output_type": "display_data"
    },
    {
     "data": {
      "application/vnd.jupyter.widget-view+json": {
       "model_id": "87a6b1b3483e40f4833bc81fcbab1736",
       "version_major": 2,
       "version_minor": 0
      },
      "text/plain": [
       "Simulating spectra: 0it [00:00, ?it/s]"
      ]
     },
     "metadata": {},
     "output_type": "display_data"
    },
    {
     "data": {
      "application/vnd.jupyter.widget-view+json": {
       "model_id": "2d0c862798904d118fb713bfeb6a05a3",
       "version_major": 2,
       "version_minor": 0
      },
      "text/plain": [
       "Batched distance matrix calculation:   0%|          | 0/5 [00:00<?, ?it/s]"
      ]
     },
     "metadata": {},
     "output_type": "display_data"
    },
    {
     "data": {
      "application/vnd.jupyter.widget-view+json": {
       "model_id": "b09fcca973294284a726f7d4cf0464a8",
       "version_major": 2,
       "version_minor": 0
      },
      "text/plain": [
       "Generating NPs:   0%|          | 0/5 [00:00<?, ?it/s]"
      ]
     },
     "metadata": {},
     "output_type": "display_data"
    },
    {
     "data": {
      "application/vnd.jupyter.widget-view+json": {
       "model_id": "e97666942fbe4bfd975c433a8f4260f1",
       "version_major": 2,
       "version_minor": 0
      },
      "text/plain": [
       "Checking atoms: 0it [00:00, ?it/s]"
      ]
     },
     "metadata": {},
     "output_type": "display_data"
    },
    {
     "data": {
      "application/vnd.jupyter.widget-view+json": {
       "model_id": "89384406d4a34a14b109e97481ad6e68",
       "version_major": 2,
       "version_minor": 0
      },
      "text/plain": [
       "Checking atoms: 0it [00:00, ?it/s]"
      ]
     },
     "metadata": {},
     "output_type": "display_data"
    },
    {
     "data": {
      "application/vnd.jupyter.widget-view+json": {
       "model_id": "0c2ac8a4a8e34496918b28b46c2afb68",
       "version_major": 2,
       "version_minor": 0
      },
      "text/plain": [
       "Checking atoms: 0it [00:00, ?it/s]"
      ]
     },
     "metadata": {},
     "output_type": "display_data"
    },
    {
     "data": {
      "application/vnd.jupyter.widget-view+json": {
       "model_id": "1a5254e399534fd5a78384f014c610ba",
       "version_major": 2,
       "version_minor": 0
      },
      "text/plain": [
       "Checking atoms: 0it [00:00, ?it/s]"
      ]
     },
     "metadata": {},
     "output_type": "display_data"
    },
    {
     "data": {
      "application/vnd.jupyter.widget-view+json": {
       "model_id": "d285a1a3f60a46b293bad1d288327401",
       "version_major": 2,
       "version_minor": 0
      },
      "text/plain": [
       "Checking atoms: 0it [00:00, ?it/s]"
      ]
     },
     "metadata": {},
     "output_type": "display_data"
    },
    {
     "data": {
      "application/vnd.jupyter.widget-view+json": {
       "model_id": "7786929cf78349d2855dc9805ce27fb8",
       "version_major": 2,
       "version_minor": 0
      },
      "text/plain": [
       "Simulating spectra: 0it [00:00, ?it/s]"
      ]
     },
     "metadata": {},
     "output_type": "display_data"
    },
    {
     "data": {
      "application/vnd.jupyter.widget-view+json": {
       "model_id": "a0013f001f464b4f914793a5af77cc94",
       "version_major": 2,
       "version_minor": 0
      },
      "text/plain": [
       "Batched distance matrix calculation:   0%|          | 0/14 [00:00<?, ?it/s]"
      ]
     },
     "metadata": {},
     "output_type": "display_data"
    },
    {
     "data": {
      "application/vnd.jupyter.widget-view+json": {
       "model_id": "963cb8b9dd024323962ca3bc577cd201",
       "version_major": 2,
       "version_minor": 0
      },
      "text/plain": [
       "Generating NPs:   0%|          | 0/5 [00:00<?, ?it/s]"
      ]
     },
     "metadata": {},
     "output_type": "display_data"
    },
    {
     "data": {
      "application/vnd.jupyter.widget-view+json": {
       "model_id": "02a07416368648688f89122506145783",
       "version_major": 2,
       "version_minor": 0
      },
      "text/plain": [
       "Checking atoms: 0it [00:00, ?it/s]"
      ]
     },
     "metadata": {},
     "output_type": "display_data"
    },
    {
     "data": {
      "application/vnd.jupyter.widget-view+json": {
       "model_id": "f8adbdf487f9484ba38040cd5dcd63d7",
       "version_major": 2,
       "version_minor": 0
      },
      "text/plain": [
       "Checking atoms: 0it [00:00, ?it/s]"
      ]
     },
     "metadata": {},
     "output_type": "display_data"
    },
    {
     "data": {
      "application/vnd.jupyter.widget-view+json": {
       "model_id": "6589215ecaf94be4af18f6b29182b3a3",
       "version_major": 2,
       "version_minor": 0
      },
      "text/plain": [
       "Checking atoms: 0it [00:00, ?it/s]"
      ]
     },
     "metadata": {},
     "output_type": "display_data"
    },
    {
     "data": {
      "application/vnd.jupyter.widget-view+json": {
       "model_id": "0e6139b6462c4c21837c898b78542557",
       "version_major": 2,
       "version_minor": 0
      },
      "text/plain": [
       "Checking atoms: 0it [00:00, ?it/s]"
      ]
     },
     "metadata": {},
     "output_type": "display_data"
    },
    {
     "data": {
      "application/vnd.jupyter.widget-view+json": {
       "model_id": "ce995389ffc14476a2517b3131c43ca7",
       "version_major": 2,
       "version_minor": 0
      },
      "text/plain": [
       "Checking atoms: 0it [00:00, ?it/s]"
      ]
     },
     "metadata": {},
     "output_type": "display_data"
    },
    {
     "data": {
      "application/vnd.jupyter.widget-view+json": {
       "model_id": "7eca47957c9d4603a573de26c02abfa0",
       "version_major": 2,
       "version_minor": 0
      },
      "text/plain": [
       "Batched distance matrix calculation:   0%|          | 0/7 [00:00<?, ?it/s]"
      ]
     },
     "metadata": {},
     "output_type": "display_data"
    },
    {
     "data": {
      "application/vnd.jupyter.widget-view+json": {
       "model_id": "c792627e499546a9ae15917dce025660",
       "version_major": 2,
       "version_minor": 0
      },
      "text/plain": [
       "Simulating spectra: 0it [00:00, ?it/s]"
      ]
     },
     "metadata": {},
     "output_type": "display_data"
    },
    {
     "data": {
      "application/vnd.jupyter.widget-view+json": {
       "model_id": "e6bd859aa7db4155ac266a2c4ec97401",
       "version_major": 2,
       "version_minor": 0
      },
      "text/plain": [
       "Batched distance matrix calculation:   0%|          | 0/13 [00:00<?, ?it/s]"
      ]
     },
     "metadata": {},
     "output_type": "display_data"
    },
    {
     "data": {
      "application/vnd.jupyter.widget-view+json": {
       "model_id": "e1d53642aa0246b49252008766e25f4f",
       "version_major": 2,
       "version_minor": 0
      },
      "text/plain": [
       "Generating NPs:   0%|          | 0/5 [00:00<?, ?it/s]"
      ]
     },
     "metadata": {},
     "output_type": "display_data"
    },
    {
     "data": {
      "application/vnd.jupyter.widget-view+json": {
       "model_id": "61d7c2a11a794ee39f3a75e6915dd4bc",
       "version_major": 2,
       "version_minor": 0
      },
      "text/plain": [
       "Checking atoms: 0it [00:00, ?it/s]"
      ]
     },
     "metadata": {},
     "output_type": "display_data"
    },
    {
     "data": {
      "application/vnd.jupyter.widget-view+json": {
       "model_id": "d27310fbe28341f69502ee09c024a1fd",
       "version_major": 2,
       "version_minor": 0
      },
      "text/plain": [
       "Checking atoms: 0it [00:00, ?it/s]"
      ]
     },
     "metadata": {},
     "output_type": "display_data"
    },
    {
     "data": {
      "application/vnd.jupyter.widget-view+json": {
       "model_id": "ee1595bf64aa40ffa3abed2cee9c9099",
       "version_major": 2,
       "version_minor": 0
      },
      "text/plain": [
       "Checking atoms: 0it [00:00, ?it/s]"
      ]
     },
     "metadata": {},
     "output_type": "display_data"
    },
    {
     "data": {
      "application/vnd.jupyter.widget-view+json": {
       "model_id": "2c3d00f3813d49a3b20fe094218eebf0",
       "version_major": 2,
       "version_minor": 0
      },
      "text/plain": [
       "Checking atoms: 0it [00:00, ?it/s]"
      ]
     },
     "metadata": {},
     "output_type": "display_data"
    },
    {
     "data": {
      "application/vnd.jupyter.widget-view+json": {
       "model_id": "587234e6e1244eda9ce37e5e8e760f57",
       "version_major": 2,
       "version_minor": 0
      },
      "text/plain": [
       "Checking atoms: 0it [00:00, ?it/s]"
      ]
     },
     "metadata": {},
     "output_type": "display_data"
    },
    {
     "data": {
      "application/vnd.jupyter.widget-view+json": {
       "model_id": "51c88c69652641a08494fbcad88ae23a",
       "version_major": 2,
       "version_minor": 0
      },
      "text/plain": [
       "Batched distance matrix calculation:   0%|          | 0/7 [00:00<?, ?it/s]"
      ]
     },
     "metadata": {},
     "output_type": "display_data"
    },
    {
     "data": {
      "application/vnd.jupyter.widget-view+json": {
       "model_id": "649e81a7a78146c49a5c63390674ca1f",
       "version_major": 2,
       "version_minor": 0
      },
      "text/plain": [
       "Simulating spectra: 0it [00:00, ?it/s]"
      ]
     },
     "metadata": {},
     "output_type": "display_data"
    },
    {
     "data": {
      "application/vnd.jupyter.widget-view+json": {
       "model_id": "0c1941e4a9f84f6091c126ae09336100",
       "version_major": 2,
       "version_minor": 0
      },
      "text/plain": [
       "Batched distance matrix calculation:   0%|          | 0/11 [00:00<?, ?it/s]"
      ]
     },
     "metadata": {},
     "output_type": "display_data"
    },
    {
     "data": {
      "application/vnd.jupyter.widget-view+json": {
       "model_id": "4b1444e6c9bf4ac790b1964d9c9cf1af",
       "version_major": 2,
       "version_minor": 0
      },
      "text/plain": [
       "Generating NPs:   0%|          | 0/5 [00:00<?, ?it/s]"
      ]
     },
     "metadata": {},
     "output_type": "display_data"
    },
    {
     "data": {
      "application/vnd.jupyter.widget-view+json": {
       "model_id": "9967b22c96214ae599575ab83c032799",
       "version_major": 2,
       "version_minor": 0
      },
      "text/plain": [
       "Checking atoms: 0it [00:00, ?it/s]"
      ]
     },
     "metadata": {},
     "output_type": "display_data"
    },
    {
     "data": {
      "application/vnd.jupyter.widget-view+json": {
       "model_id": "62def59189c34b4ea7e04a762d4993bb",
       "version_major": 2,
       "version_minor": 0
      },
      "text/plain": [
       "Checking atoms: 0it [00:00, ?it/s]"
      ]
     },
     "metadata": {},
     "output_type": "display_data"
    },
    {
     "data": {
      "application/vnd.jupyter.widget-view+json": {
       "model_id": "601eef75530844b88c7ea927809c41d8",
       "version_major": 2,
       "version_minor": 0
      },
      "text/plain": [
       "Checking atoms: 0it [00:00, ?it/s]"
      ]
     },
     "metadata": {},
     "output_type": "display_data"
    },
    {
     "data": {
      "application/vnd.jupyter.widget-view+json": {
       "model_id": "7f0c86a82a45404496cfbf3d68724de4",
       "version_major": 2,
       "version_minor": 0
      },
      "text/plain": [
       "Checking atoms: 0it [00:00, ?it/s]"
      ]
     },
     "metadata": {},
     "output_type": "display_data"
    },
    {
     "data": {
      "application/vnd.jupyter.widget-view+json": {
       "model_id": "6cd4bb9652294443b77255c83385b22b",
       "version_major": 2,
       "version_minor": 0
      },
      "text/plain": [
       "Checking atoms: 0it [00:00, ?it/s]"
      ]
     },
     "metadata": {},
     "output_type": "display_data"
    },
    {
     "data": {
      "application/vnd.jupyter.widget-view+json": {
       "model_id": "ccca9acff2c5410eb09f276c93afa906",
       "version_major": 2,
       "version_minor": 0
      },
      "text/plain": [
       "Batched distance matrix calculation:   0%|          | 0/8 [00:00<?, ?it/s]"
      ]
     },
     "metadata": {},
     "output_type": "display_data"
    },
    {
     "data": {
      "application/vnd.jupyter.widget-view+json": {
       "model_id": "8ac70130537047e69491292c03b6411e",
       "version_major": 2,
       "version_minor": 0
      },
      "text/plain": [
       "Simulating spectra: 0it [00:00, ?it/s]"
      ]
     },
     "metadata": {},
     "output_type": "display_data"
    },
    {
     "data": {
      "application/vnd.jupyter.widget-view+json": {
       "model_id": "2174423d66b245bea95c0149edfd5ba6",
       "version_major": 2,
       "version_minor": 0
      },
      "text/plain": [
       "Batched distance matrix calculation:   0%|          | 0/6 [00:00<?, ?it/s]"
      ]
     },
     "metadata": {},
     "output_type": "display_data"
    },
    {
     "data": {
      "application/vnd.jupyter.widget-view+json": {
       "model_id": "168b595a7f7c4b4daa8b27730085c80a",
       "version_major": 2,
       "version_minor": 0
      },
      "text/plain": [
       "Generating NPs:   0%|          | 0/5 [00:00<?, ?it/s]"
      ]
     },
     "metadata": {},
     "output_type": "display_data"
    },
    {
     "data": {
      "application/vnd.jupyter.widget-view+json": {
       "model_id": "61316b903ace4615827d6fa287a07429",
       "version_major": 2,
       "version_minor": 0
      },
      "text/plain": [
       "Checking atoms: 0it [00:00, ?it/s]"
      ]
     },
     "metadata": {},
     "output_type": "display_data"
    },
    {
     "data": {
      "application/vnd.jupyter.widget-view+json": {
       "model_id": "cb9428a163ff4140bce59166eca0340d",
       "version_major": 2,
       "version_minor": 0
      },
      "text/plain": [
       "Checking atoms: 0it [00:00, ?it/s]"
      ]
     },
     "metadata": {},
     "output_type": "display_data"
    },
    {
     "data": {
      "application/vnd.jupyter.widget-view+json": {
       "model_id": "88b42100e10246e7bdbb1a6845ab3d8f",
       "version_major": 2,
       "version_minor": 0
      },
      "text/plain": [
       "Checking atoms: 0it [00:00, ?it/s]"
      ]
     },
     "metadata": {},
     "output_type": "display_data"
    },
    {
     "data": {
      "application/vnd.jupyter.widget-view+json": {
       "model_id": "e248250a2626496d910485f6dd75c30b",
       "version_major": 2,
       "version_minor": 0
      },
      "text/plain": [
       "Checking atoms: 0it [00:00, ?it/s]"
      ]
     },
     "metadata": {},
     "output_type": "display_data"
    },
    {
     "data": {
      "application/vnd.jupyter.widget-view+json": {
       "model_id": "af1b0d16c638440185c81a7bbb286406",
       "version_major": 2,
       "version_minor": 0
      },
      "text/plain": [
       "Checking atoms: 0it [00:00, ?it/s]"
      ]
     },
     "metadata": {},
     "output_type": "display_data"
    },
    {
     "data": {
      "application/vnd.jupyter.widget-view+json": {
       "model_id": "23597d9088da45969e824120708e1dff",
       "version_major": 2,
       "version_minor": 0
      },
      "text/plain": [
       "Batched distance matrix calculation:   0%|          | 0/7 [00:00<?, ?it/s]"
      ]
     },
     "metadata": {},
     "output_type": "display_data"
    },
    {
     "data": {
      "application/vnd.jupyter.widget-view+json": {
       "model_id": "cd031e56be5c45d4b11997b1a06656ae",
       "version_major": 2,
       "version_minor": 0
      },
      "text/plain": [
       "Simulating spectra: 0it [00:00, ?it/s]"
      ]
     },
     "metadata": {},
     "output_type": "display_data"
    },
    {
     "data": {
      "application/vnd.jupyter.widget-view+json": {
       "model_id": "0a6a251ea067451490c4129326a6d795",
       "version_major": 2,
       "version_minor": 0
      },
      "text/plain": [
       "Batched distance matrix calculation:   0%|          | 0/7 [00:00<?, ?it/s]"
      ]
     },
     "metadata": {},
     "output_type": "display_data"
    },
    {
     "data": {
      "application/vnd.jupyter.widget-view+json": {
       "model_id": "d7c18d28bf364ffdadd888dd449831af",
       "version_major": 2,
       "version_minor": 0
      },
      "text/plain": [
       "Generating NPs:   0%|          | 0/5 [00:00<?, ?it/s]"
      ]
     },
     "metadata": {},
     "output_type": "display_data"
    },
    {
     "data": {
      "application/vnd.jupyter.widget-view+json": {
       "model_id": "cee3d0b6536c471fb58a2cef440297c8",
       "version_major": 2,
       "version_minor": 0
      },
      "text/plain": [
       "Checking atoms: 0it [00:00, ?it/s]"
      ]
     },
     "metadata": {},
     "output_type": "display_data"
    },
    {
     "data": {
      "application/vnd.jupyter.widget-view+json": {
       "model_id": "4f17bdc65d534e7cb3e7a8a6efb579be",
       "version_major": 2,
       "version_minor": 0
      },
      "text/plain": [
       "Checking atoms: 0it [00:00, ?it/s]"
      ]
     },
     "metadata": {},
     "output_type": "display_data"
    },
    {
     "data": {
      "application/vnd.jupyter.widget-view+json": {
       "model_id": "5efdd214d5864acd95833312c740b905",
       "version_major": 2,
       "version_minor": 0
      },
      "text/plain": [
       "Checking atoms: 0it [00:00, ?it/s]"
      ]
     },
     "metadata": {},
     "output_type": "display_data"
    },
    {
     "data": {
      "application/vnd.jupyter.widget-view+json": {
       "model_id": "fe0369ab2554476d9f1428aa6979fa6d",
       "version_major": 2,
       "version_minor": 0
      },
      "text/plain": [
       "Checking atoms: 0it [00:00, ?it/s]"
      ]
     },
     "metadata": {},
     "output_type": "display_data"
    },
    {
     "data": {
      "application/vnd.jupyter.widget-view+json": {
       "model_id": "f3a487493f38464eb5dc956dfac1e370",
       "version_major": 2,
       "version_minor": 0
      },
      "text/plain": [
       "Checking atoms: 0it [00:00, ?it/s]"
      ]
     },
     "metadata": {},
     "output_type": "display_data"
    },
    {
     "data": {
      "application/vnd.jupyter.widget-view+json": {
       "model_id": "fd75e07fbd42424899a5ae27cc95af44",
       "version_major": 2,
       "version_minor": 0
      },
      "text/plain": [
       "Batched distance matrix calculation:   0%|          | 0/6 [00:00<?, ?it/s]"
      ]
     },
     "metadata": {},
     "output_type": "display_data"
    },
    {
     "data": {
      "application/vnd.jupyter.widget-view+json": {
       "model_id": "c231ce73411e4b528f18a03d19e94170",
       "version_major": 2,
       "version_minor": 0
      },
      "text/plain": [
       "Simulating spectra: 0it [00:00, ?it/s]"
      ]
     },
     "metadata": {},
     "output_type": "display_data"
    },
    {
     "data": {
      "application/vnd.jupyter.widget-view+json": {
       "model_id": "5333f30f78b644d38370fec5cf39677f",
       "version_major": 2,
       "version_minor": 0
      },
      "text/plain": [
       "Batched distance matrix calculation:   0%|          | 0/8 [00:00<?, ?it/s]"
      ]
     },
     "metadata": {},
     "output_type": "display_data"
    },
    {
     "data": {
      "application/vnd.jupyter.widget-view+json": {
       "model_id": "a69b5e00beab444da11384d7d2ec26a7",
       "version_major": 2,
       "version_minor": 0
      },
      "text/plain": [
       "Generating NPs:   0%|          | 0/5 [00:00<?, ?it/s]"
      ]
     },
     "metadata": {},
     "output_type": "display_data"
    },
    {
     "data": {
      "application/vnd.jupyter.widget-view+json": {
       "model_id": "1fe99745ade64faaab05034dc08f5a76",
       "version_major": 2,
       "version_minor": 0
      },
      "text/plain": [
       "Checking atoms: 0it [00:00, ?it/s]"
      ]
     },
     "metadata": {},
     "output_type": "display_data"
    },
    {
     "data": {
      "application/vnd.jupyter.widget-view+json": {
       "model_id": "43d80ce8b6a2438798ea82819fdf561f",
       "version_major": 2,
       "version_minor": 0
      },
      "text/plain": [
       "Checking atoms: 0it [00:00, ?it/s]"
      ]
     },
     "metadata": {},
     "output_type": "display_data"
    },
    {
     "data": {
      "application/vnd.jupyter.widget-view+json": {
       "model_id": "e66cf4aa30a94fd889a4abdeec11e025",
       "version_major": 2,
       "version_minor": 0
      },
      "text/plain": [
       "Checking atoms: 0it [00:00, ?it/s]"
      ]
     },
     "metadata": {},
     "output_type": "display_data"
    },
    {
     "data": {
      "application/vnd.jupyter.widget-view+json": {
       "model_id": "a7a3081077ff4a63804080e749c0daa8",
       "version_major": 2,
       "version_minor": 0
      },
      "text/plain": [
       "Checking atoms: 0it [00:00, ?it/s]"
      ]
     },
     "metadata": {},
     "output_type": "display_data"
    },
    {
     "data": {
      "application/vnd.jupyter.widget-view+json": {
       "model_id": "91688d42560d4c2bae98e5ee042e4bd6",
       "version_major": 2,
       "version_minor": 0
      },
      "text/plain": [
       "Checking atoms: 0it [00:00, ?it/s]"
      ]
     },
     "metadata": {},
     "output_type": "display_data"
    },
    {
     "data": {
      "application/vnd.jupyter.widget-view+json": {
       "model_id": "de78841d7642451da70106b7bf06a32b",
       "version_major": 2,
       "version_minor": 0
      },
      "text/plain": [
       "Batched distance matrix calculation:   0%|          | 0/7 [00:00<?, ?it/s]"
      ]
     },
     "metadata": {},
     "output_type": "display_data"
    },
    {
     "data": {
      "application/vnd.jupyter.widget-view+json": {
       "model_id": "16c28b0e67034b8ba77d8fac3f8e3316",
       "version_major": 2,
       "version_minor": 0
      },
      "text/plain": [
       "Simulating spectra: 0it [00:00, ?it/s]"
      ]
     },
     "metadata": {},
     "output_type": "display_data"
    },
    {
     "data": {
      "application/vnd.jupyter.widget-view+json": {
       "model_id": "ec05d38894324f038f9adb49b8740a46",
       "version_major": 2,
       "version_minor": 0
      },
      "text/plain": [
       "Batched distance matrix calculation:   0%|          | 0/5 [00:00<?, ?it/s]"
      ]
     },
     "metadata": {},
     "output_type": "display_data"
    },
    {
     "data": {
      "application/vnd.jupyter.widget-view+json": {
       "model_id": "b9307c5c181641e4ba324c819b027e89",
       "version_major": 2,
       "version_minor": 0
      },
      "text/plain": [
       "Generating NPs:   0%|          | 0/5 [00:00<?, ?it/s]"
      ]
     },
     "metadata": {},
     "output_type": "display_data"
    },
    {
     "data": {
      "application/vnd.jupyter.widget-view+json": {
       "model_id": "a1454a116f044054a4d31d814fab2103",
       "version_major": 2,
       "version_minor": 0
      },
      "text/plain": [
       "Checking atoms: 0it [00:00, ?it/s]"
      ]
     },
     "metadata": {},
     "output_type": "display_data"
    },
    {
     "data": {
      "application/vnd.jupyter.widget-view+json": {
       "model_id": "d193f386911c4ceb870e698b94c5ae6b",
       "version_major": 2,
       "version_minor": 0
      },
      "text/plain": [
       "Checking atoms: 0it [00:00, ?it/s]"
      ]
     },
     "metadata": {},
     "output_type": "display_data"
    },
    {
     "data": {
      "application/vnd.jupyter.widget-view+json": {
       "model_id": "4a2a9b881a15409f88ade23d7176ba7b",
       "version_major": 2,
       "version_minor": 0
      },
      "text/plain": [
       "Checking atoms: 0it [00:00, ?it/s]"
      ]
     },
     "metadata": {},
     "output_type": "display_data"
    },
    {
     "data": {
      "application/vnd.jupyter.widget-view+json": {
       "model_id": "d735de7c337f4ec29680317dec558093",
       "version_major": 2,
       "version_minor": 0
      },
      "text/plain": [
       "Checking atoms: 0it [00:00, ?it/s]"
      ]
     },
     "metadata": {},
     "output_type": "display_data"
    },
    {
     "data": {
      "application/vnd.jupyter.widget-view+json": {
       "model_id": "683e89680db84478b1e7ad17e4e21b2e",
       "version_major": 2,
       "version_minor": 0
      },
      "text/plain": [
       "Checking atoms: 0it [00:00, ?it/s]"
      ]
     },
     "metadata": {},
     "output_type": "display_data"
    },
    {
     "data": {
      "application/vnd.jupyter.widget-view+json": {
       "model_id": "18a89f1113424a81b5696138519b0f04",
       "version_major": 2,
       "version_minor": 0
      },
      "text/plain": [
       "Simulating spectra: 0it [00:00, ?it/s]"
      ]
     },
     "metadata": {},
     "output_type": "display_data"
    },
    {
     "data": {
      "application/vnd.jupyter.widget-view+json": {
       "model_id": "dc7c4003fb7246e191708d6339e239b8",
       "version_major": 2,
       "version_minor": 0
      },
      "text/plain": [
       "Batched distance matrix calculation:   0%|          | 0/14 [00:00<?, ?it/s]"
      ]
     },
     "metadata": {},
     "output_type": "display_data"
    },
    {
     "data": {
      "application/vnd.jupyter.widget-view+json": {
       "model_id": "354e0e5aedc74bd7a40f08e1ca367113",
       "version_major": 2,
       "version_minor": 0
      },
      "text/plain": [
       "Generating NPs:   0%|          | 0/5 [00:00<?, ?it/s]"
      ]
     },
     "metadata": {},
     "output_type": "display_data"
    },
    {
     "data": {
      "application/vnd.jupyter.widget-view+json": {
       "model_id": "bfe54fbb1fe04ca0a5e6f92431ac2ea9",
       "version_major": 2,
       "version_minor": 0
      },
      "text/plain": [
       "Checking atoms: 0it [00:00, ?it/s]"
      ]
     },
     "metadata": {},
     "output_type": "display_data"
    },
    {
     "data": {
      "application/vnd.jupyter.widget-view+json": {
       "model_id": "12dacac9e27140028f685f4f7a3f85fa",
       "version_major": 2,
       "version_minor": 0
      },
      "text/plain": [
       "Checking atoms: 0it [00:00, ?it/s]"
      ]
     },
     "metadata": {},
     "output_type": "display_data"
    },
    {
     "data": {
      "application/vnd.jupyter.widget-view+json": {
       "model_id": "6b40dfc8455c46c4baffbc03e4d2358e",
       "version_major": 2,
       "version_minor": 0
      },
      "text/plain": [
       "Checking atoms: 0it [00:00, ?it/s]"
      ]
     },
     "metadata": {},
     "output_type": "display_data"
    },
    {
     "data": {
      "application/vnd.jupyter.widget-view+json": {
       "model_id": "820491f4fc964b17989911bdc352c9be",
       "version_major": 2,
       "version_minor": 0
      },
      "text/plain": [
       "Checking atoms: 0it [00:00, ?it/s]"
      ]
     },
     "metadata": {},
     "output_type": "display_data"
    },
    {
     "data": {
      "application/vnd.jupyter.widget-view+json": {
       "model_id": "41fa42dbd6ca480d8f1b55aae8a7423b",
       "version_major": 2,
       "version_minor": 0
      },
      "text/plain": [
       "Checking atoms: 0it [00:00, ?it/s]"
      ]
     },
     "metadata": {},
     "output_type": "display_data"
    },
    {
     "data": {
      "application/vnd.jupyter.widget-view+json": {
       "model_id": "621c26be30064e1383790811d6524b11",
       "version_major": 2,
       "version_minor": 0
      },
      "text/plain": [
       "Batched distance matrix calculation:   0%|          | 0/7 [00:00<?, ?it/s]"
      ]
     },
     "metadata": {},
     "output_type": "display_data"
    },
    {
     "data": {
      "application/vnd.jupyter.widget-view+json": {
       "model_id": "9d3ff56c21d646468248b6a00b04bd46",
       "version_major": 2,
       "version_minor": 0
      },
      "text/plain": [
       "Simulating spectra: 0it [00:00, ?it/s]"
      ]
     },
     "metadata": {},
     "output_type": "display_data"
    },
    {
     "data": {
      "application/vnd.jupyter.widget-view+json": {
       "model_id": "452812e589224cb49f8222d01bab89a5",
       "version_major": 2,
       "version_minor": 0
      },
      "text/plain": [
       "Batched distance matrix calculation:   0%|          | 0/13 [00:00<?, ?it/s]"
      ]
     },
     "metadata": {},
     "output_type": "display_data"
    },
    {
     "data": {
      "application/vnd.jupyter.widget-view+json": {
       "model_id": "9b523e489a9d4e5d87d861938c671ad5",
       "version_major": 2,
       "version_minor": 0
      },
      "text/plain": [
       "Generating NPs:   0%|          | 0/5 [00:00<?, ?it/s]"
      ]
     },
     "metadata": {},
     "output_type": "display_data"
    },
    {
     "data": {
      "application/vnd.jupyter.widget-view+json": {
       "model_id": "3474bd8e490b440d9d0fda7e501d2323",
       "version_major": 2,
       "version_minor": 0
      },
      "text/plain": [
       "Checking atoms: 0it [00:00, ?it/s]"
      ]
     },
     "metadata": {},
     "output_type": "display_data"
    },
    {
     "data": {
      "application/vnd.jupyter.widget-view+json": {
       "model_id": "6632f02ca5874fb38cf16cf84c099efd",
       "version_major": 2,
       "version_minor": 0
      },
      "text/plain": [
       "Checking atoms: 0it [00:00, ?it/s]"
      ]
     },
     "metadata": {},
     "output_type": "display_data"
    },
    {
     "data": {
      "application/vnd.jupyter.widget-view+json": {
       "model_id": "1d27d55413db422593e0a6ed77950a9d",
       "version_major": 2,
       "version_minor": 0
      },
      "text/plain": [
       "Checking atoms: 0it [00:00, ?it/s]"
      ]
     },
     "metadata": {},
     "output_type": "display_data"
    },
    {
     "data": {
      "application/vnd.jupyter.widget-view+json": {
       "model_id": "aa1f348f3719493e8663e0cf2b8155ea",
       "version_major": 2,
       "version_minor": 0
      },
      "text/plain": [
       "Checking atoms: 0it [00:00, ?it/s]"
      ]
     },
     "metadata": {},
     "output_type": "display_data"
    },
    {
     "data": {
      "application/vnd.jupyter.widget-view+json": {
       "model_id": "f27b3dbab77a40259aa8d0646fd26807",
       "version_major": 2,
       "version_minor": 0
      },
      "text/plain": [
       "Checking atoms: 0it [00:00, ?it/s]"
      ]
     },
     "metadata": {},
     "output_type": "display_data"
    },
    {
     "data": {
      "application/vnd.jupyter.widget-view+json": {
       "model_id": "7baa46077c9f4fb18380718d39110672",
       "version_major": 2,
       "version_minor": 0
      },
      "text/plain": [
       "Batched distance matrix calculation:   0%|          | 0/7 [00:00<?, ?it/s]"
      ]
     },
     "metadata": {},
     "output_type": "display_data"
    },
    {
     "data": {
      "application/vnd.jupyter.widget-view+json": {
       "model_id": "9844e5a525204a88b6ffee159adee08d",
       "version_major": 2,
       "version_minor": 0
      },
      "text/plain": [
       "Simulating spectra: 0it [00:00, ?it/s]"
      ]
     },
     "metadata": {},
     "output_type": "display_data"
    },
    {
     "data": {
      "application/vnd.jupyter.widget-view+json": {
       "model_id": "427988701f4a45228bdcf3fdafb73912",
       "version_major": 2,
       "version_minor": 0
      },
      "text/plain": [
       "Batched distance matrix calculation:   0%|          | 0/11 [00:00<?, ?it/s]"
      ]
     },
     "metadata": {},
     "output_type": "display_data"
    },
    {
     "data": {
      "application/vnd.jupyter.widget-view+json": {
       "model_id": "abfaf7f05d254d47bf74b305a800e3ab",
       "version_major": 2,
       "version_minor": 0
      },
      "text/plain": [
       "Generating NPs:   0%|          | 0/5 [00:00<?, ?it/s]"
      ]
     },
     "metadata": {},
     "output_type": "display_data"
    },
    {
     "data": {
      "application/vnd.jupyter.widget-view+json": {
       "model_id": "fe6b384e5d174d4a99c0ab25928a45fc",
       "version_major": 2,
       "version_minor": 0
      },
      "text/plain": [
       "Checking atoms: 0it [00:00, ?it/s]"
      ]
     },
     "metadata": {},
     "output_type": "display_data"
    },
    {
     "data": {
      "application/vnd.jupyter.widget-view+json": {
       "model_id": "64c06ac4b6e640289585674e6513b6ab",
       "version_major": 2,
       "version_minor": 0
      },
      "text/plain": [
       "Checking atoms: 0it [00:00, ?it/s]"
      ]
     },
     "metadata": {},
     "output_type": "display_data"
    },
    {
     "data": {
      "application/vnd.jupyter.widget-view+json": {
       "model_id": "67a20055e5194d90bb1ea586793bb3d8",
       "version_major": 2,
       "version_minor": 0
      },
      "text/plain": [
       "Checking atoms: 0it [00:00, ?it/s]"
      ]
     },
     "metadata": {},
     "output_type": "display_data"
    },
    {
     "data": {
      "application/vnd.jupyter.widget-view+json": {
       "model_id": "362fd03422f24c8ab33621931b844583",
       "version_major": 2,
       "version_minor": 0
      },
      "text/plain": [
       "Checking atoms: 0it [00:00, ?it/s]"
      ]
     },
     "metadata": {},
     "output_type": "display_data"
    },
    {
     "data": {
      "application/vnd.jupyter.widget-view+json": {
       "model_id": "315074a0f29b4d50b37215496c75c043",
       "version_major": 2,
       "version_minor": 0
      },
      "text/plain": [
       "Checking atoms: 0it [00:00, ?it/s]"
      ]
     },
     "metadata": {},
     "output_type": "display_data"
    },
    {
     "data": {
      "application/vnd.jupyter.widget-view+json": {
       "model_id": "a99005ca94e6468a9312c9ee34279f0f",
       "version_major": 2,
       "version_minor": 0
      },
      "text/plain": [
       "Batched distance matrix calculation:   0%|          | 0/7 [00:00<?, ?it/s]"
      ]
     },
     "metadata": {},
     "output_type": "display_data"
    },
    {
     "data": {
      "application/vnd.jupyter.widget-view+json": {
       "model_id": "b5528272df614a1e92fb3d263037caa8",
       "version_major": 2,
       "version_minor": 0
      },
      "text/plain": [
       "Simulating spectra: 0it [00:00, ?it/s]"
      ]
     },
     "metadata": {},
     "output_type": "display_data"
    },
    {
     "data": {
      "application/vnd.jupyter.widget-view+json": {
       "model_id": "1bf564c7450f42ad828c06c89cc49af1",
       "version_major": 2,
       "version_minor": 0
      },
      "text/plain": [
       "Batched distance matrix calculation:   0%|          | 0/6 [00:00<?, ?it/s]"
      ]
     },
     "metadata": {},
     "output_type": "display_data"
    },
    {
     "data": {
      "application/vnd.jupyter.widget-view+json": {
       "model_id": "343bac0064004c9f9b3bb604f75013b3",
       "version_major": 2,
       "version_minor": 0
      },
      "text/plain": [
       "Generating NPs:   0%|          | 0/5 [00:00<?, ?it/s]"
      ]
     },
     "metadata": {},
     "output_type": "display_data"
    },
    {
     "data": {
      "application/vnd.jupyter.widget-view+json": {
       "model_id": "68339df048b7441a9d0dd582ba136419",
       "version_major": 2,
       "version_minor": 0
      },
      "text/plain": [
       "Checking atoms: 0it [00:00, ?it/s]"
      ]
     },
     "metadata": {},
     "output_type": "display_data"
    },
    {
     "data": {
      "application/vnd.jupyter.widget-view+json": {
       "model_id": "44bc440c18cd47eb8c0731267041b18f",
       "version_major": 2,
       "version_minor": 0
      },
      "text/plain": [
       "Checking atoms: 0it [00:00, ?it/s]"
      ]
     },
     "metadata": {},
     "output_type": "display_data"
    },
    {
     "data": {
      "application/vnd.jupyter.widget-view+json": {
       "model_id": "ca666ba2c2064a3581f58db06f19e426",
       "version_major": 2,
       "version_minor": 0
      },
      "text/plain": [
       "Checking atoms: 0it [00:00, ?it/s]"
      ]
     },
     "metadata": {},
     "output_type": "display_data"
    },
    {
     "data": {
      "application/vnd.jupyter.widget-view+json": {
       "model_id": "e7c66f25648e4c42b0ccee2fccf3f520",
       "version_major": 2,
       "version_minor": 0
      },
      "text/plain": [
       "Checking atoms: 0it [00:00, ?it/s]"
      ]
     },
     "metadata": {},
     "output_type": "display_data"
    },
    {
     "data": {
      "application/vnd.jupyter.widget-view+json": {
       "model_id": "aeb8c4ccc7214f548879ed2242542ec7",
       "version_major": 2,
       "version_minor": 0
      },
      "text/plain": [
       "Checking atoms: 0it [00:00, ?it/s]"
      ]
     },
     "metadata": {},
     "output_type": "display_data"
    },
    {
     "data": {
      "application/vnd.jupyter.widget-view+json": {
       "model_id": "f4375b97bcd04069a8aa16f93032d43c",
       "version_major": 2,
       "version_minor": 0
      },
      "text/plain": [
       "Batched distance matrix calculation:   0%|          | 0/7 [00:00<?, ?it/s]"
      ]
     },
     "metadata": {},
     "output_type": "display_data"
    },
    {
     "data": {
      "application/vnd.jupyter.widget-view+json": {
       "model_id": "323004b885cf4c7b89edb66157701387",
       "version_major": 2,
       "version_minor": 0
      },
      "text/plain": [
       "Simulating spectra: 0it [00:00, ?it/s]"
      ]
     },
     "metadata": {},
     "output_type": "display_data"
    },
    {
     "data": {
      "application/vnd.jupyter.widget-view+json": {
       "model_id": "ee4ba50122504d418d396280d13595eb",
       "version_major": 2,
       "version_minor": 0
      },
      "text/plain": [
       "Batched distance matrix calculation:   0%|          | 0/7 [00:00<?, ?it/s]"
      ]
     },
     "metadata": {},
     "output_type": "display_data"
    },
    {
     "data": {
      "application/vnd.jupyter.widget-view+json": {
       "model_id": "5e58f176a6bb41a9a086a421e1b376c7",
       "version_major": 2,
       "version_minor": 0
      },
      "text/plain": [
       "Generating NPs:   0%|          | 0/5 [00:00<?, ?it/s]"
      ]
     },
     "metadata": {},
     "output_type": "display_data"
    },
    {
     "data": {
      "application/vnd.jupyter.widget-view+json": {
       "model_id": "1b4f0d587ee64a758e1ebba1171f79a9",
       "version_major": 2,
       "version_minor": 0
      },
      "text/plain": [
       "Checking atoms: 0it [00:00, ?it/s]"
      ]
     },
     "metadata": {},
     "output_type": "display_data"
    },
    {
     "data": {
      "application/vnd.jupyter.widget-view+json": {
       "model_id": "5f0beeec756042688dcf9a706bfdcf99",
       "version_major": 2,
       "version_minor": 0
      },
      "text/plain": [
       "Checking atoms: 0it [00:00, ?it/s]"
      ]
     },
     "metadata": {},
     "output_type": "display_data"
    },
    {
     "data": {
      "application/vnd.jupyter.widget-view+json": {
       "model_id": "9fdc600b52cb47aeaf56976cea51fdfc",
       "version_major": 2,
       "version_minor": 0
      },
      "text/plain": [
       "Checking atoms: 0it [00:00, ?it/s]"
      ]
     },
     "metadata": {},
     "output_type": "display_data"
    },
    {
     "data": {
      "application/vnd.jupyter.widget-view+json": {
       "model_id": "2bc50f707a25439581d5a3a6145e169a",
       "version_major": 2,
       "version_minor": 0
      },
      "text/plain": [
       "Checking atoms: 0it [00:00, ?it/s]"
      ]
     },
     "metadata": {},
     "output_type": "display_data"
    },
    {
     "data": {
      "application/vnd.jupyter.widget-view+json": {
       "model_id": "f87ccad54d8b403b968581980d517061",
       "version_major": 2,
       "version_minor": 0
      },
      "text/plain": [
       "Checking atoms: 0it [00:00, ?it/s]"
      ]
     },
     "metadata": {},
     "output_type": "display_data"
    },
    {
     "data": {
      "application/vnd.jupyter.widget-view+json": {
       "model_id": "5213350e314a4fb6bbed1ddaebbed476",
       "version_major": 2,
       "version_minor": 0
      },
      "text/plain": [
       "Batched distance matrix calculation:   0%|          | 0/6 [00:00<?, ?it/s]"
      ]
     },
     "metadata": {},
     "output_type": "display_data"
    },
    {
     "data": {
      "application/vnd.jupyter.widget-view+json": {
       "model_id": "892621a0aad34de6862d3ac73ca695f2",
       "version_major": 2,
       "version_minor": 0
      },
      "text/plain": [
       "Simulating spectra: 0it [00:00, ?it/s]"
      ]
     },
     "metadata": {},
     "output_type": "display_data"
    },
    {
     "data": {
      "application/vnd.jupyter.widget-view+json": {
       "model_id": "dd4a0e0749534e96880655dd7e37956b",
       "version_major": 2,
       "version_minor": 0
      },
      "text/plain": [
       "Batched distance matrix calculation:   0%|          | 0/8 [00:00<?, ?it/s]"
      ]
     },
     "metadata": {},
     "output_type": "display_data"
    },
    {
     "data": {
      "application/vnd.jupyter.widget-view+json": {
       "model_id": "0705c8201207493f8f8286bc5fc95d6b",
       "version_major": 2,
       "version_minor": 0
      },
      "text/plain": [
       "Generating NPs:   0%|          | 0/5 [00:00<?, ?it/s]"
      ]
     },
     "metadata": {},
     "output_type": "display_data"
    },
    {
     "data": {
      "application/vnd.jupyter.widget-view+json": {
       "model_id": "460c403f596649baa0e5da7771f2900f",
       "version_major": 2,
       "version_minor": 0
      },
      "text/plain": [
       "Checking atoms: 0it [00:00, ?it/s]"
      ]
     },
     "metadata": {},
     "output_type": "display_data"
    },
    {
     "data": {
      "application/vnd.jupyter.widget-view+json": {
       "model_id": "1710a02823cc4711bc9cc803206bd9b4",
       "version_major": 2,
       "version_minor": 0
      },
      "text/plain": [
       "Checking atoms: 0it [00:00, ?it/s]"
      ]
     },
     "metadata": {},
     "output_type": "display_data"
    },
    {
     "data": {
      "application/vnd.jupyter.widget-view+json": {
       "model_id": "c24c9d122e6f4ba188156c87992c1869",
       "version_major": 2,
       "version_minor": 0
      },
      "text/plain": [
       "Checking atoms: 0it [00:00, ?it/s]"
      ]
     },
     "metadata": {},
     "output_type": "display_data"
    },
    {
     "data": {
      "application/vnd.jupyter.widget-view+json": {
       "model_id": "d2868966efc54fbe926dac295e3b3b95",
       "version_major": 2,
       "version_minor": 0
      },
      "text/plain": [
       "Checking atoms: 0it [00:00, ?it/s]"
      ]
     },
     "metadata": {},
     "output_type": "display_data"
    },
    {
     "data": {
      "application/vnd.jupyter.widget-view+json": {
       "model_id": "b8a109b786194c62b3474af7b7b0d7c6",
       "version_major": 2,
       "version_minor": 0
      },
      "text/plain": [
       "Checking atoms: 0it [00:00, ?it/s]"
      ]
     },
     "metadata": {},
     "output_type": "display_data"
    },
    {
     "data": {
      "application/vnd.jupyter.widget-view+json": {
       "model_id": "332a0ccf71ff441eba7d4c5b388196f1",
       "version_major": 2,
       "version_minor": 0
      },
      "text/plain": [
       "Batched distance matrix calculation:   0%|          | 0/7 [00:00<?, ?it/s]"
      ]
     },
     "metadata": {},
     "output_type": "display_data"
    },
    {
     "data": {
      "application/vnd.jupyter.widget-view+json": {
       "model_id": "8e41ff7871d34c1ab0c41187e725b76b",
       "version_major": 2,
       "version_minor": 0
      },
      "text/plain": [
       "Simulating spectra: 0it [00:00, ?it/s]"
      ]
     },
     "metadata": {},
     "output_type": "display_data"
    },
    {
     "data": {
      "application/vnd.jupyter.widget-view+json": {
       "model_id": "94609790e95a4419a99b48091da2e957",
       "version_major": 2,
       "version_minor": 0
      },
      "text/plain": [
       "Batched distance matrix calculation:   0%|          | 0/5 [00:00<?, ?it/s]"
      ]
     },
     "metadata": {},
     "output_type": "display_data"
    },
    {
     "data": {
      "application/vnd.jupyter.widget-view+json": {
       "model_id": "fcb3571001b24be089f3f7b52aeefb9e",
       "version_major": 2,
       "version_minor": 0
      },
      "text/plain": [
       "Generating NPs:   0%|          | 0/5 [00:00<?, ?it/s]"
      ]
     },
     "metadata": {},
     "output_type": "display_data"
    },
    {
     "data": {
      "application/vnd.jupyter.widget-view+json": {
       "model_id": "0d3aec86d6c84e4ba0d77df079afd195",
       "version_major": 2,
       "version_minor": 0
      },
      "text/plain": [
       "Checking atoms: 0it [00:00, ?it/s]"
      ]
     },
     "metadata": {},
     "output_type": "display_data"
    },
    {
     "data": {
      "application/vnd.jupyter.widget-view+json": {
       "model_id": "9d355820dd86404e977224aa647bd253",
       "version_major": 2,
       "version_minor": 0
      },
      "text/plain": [
       "Checking atoms: 0it [00:00, ?it/s]"
      ]
     },
     "metadata": {},
     "output_type": "display_data"
    },
    {
     "data": {
      "application/vnd.jupyter.widget-view+json": {
       "model_id": "d72f3bf4494a40eeb3c3bdd8e5f2f55f",
       "version_major": 2,
       "version_minor": 0
      },
      "text/plain": [
       "Checking atoms: 0it [00:00, ?it/s]"
      ]
     },
     "metadata": {},
     "output_type": "display_data"
    },
    {
     "data": {
      "application/vnd.jupyter.widget-view+json": {
       "model_id": "0613a486fb7f47f9beea255318a0a515",
       "version_major": 2,
       "version_minor": 0
      },
      "text/plain": [
       "Checking atoms: 0it [00:00, ?it/s]"
      ]
     },
     "metadata": {},
     "output_type": "display_data"
    },
    {
     "data": {
      "application/vnd.jupyter.widget-view+json": {
       "model_id": "1c4e4a93c7a04771a2638e6d04737180",
       "version_major": 2,
       "version_minor": 0
      },
      "text/plain": [
       "Checking atoms: 0it [00:00, ?it/s]"
      ]
     },
     "metadata": {},
     "output_type": "display_data"
    },
    {
     "data": {
      "application/vnd.jupyter.widget-view+json": {
       "model_id": "fb9abbc9635744f8a04ea7d7eb2c179c",
       "version_major": 2,
       "version_minor": 0
      },
      "text/plain": [
       "Simulating spectra: 0it [00:00, ?it/s]"
      ]
     },
     "metadata": {},
     "output_type": "display_data"
    }
   ],
   "source": [
    "gc.gen_h5s(parallelize=False)"
   ]
  },
  {
   "cell_type": "code",
   "execution_count": 4,
   "metadata": {},
   "outputs": [],
   "source": [
    "# from Code.datasetClass import InOrgMatDatasets\n",
    "\n",
    "# test = InOrgMatDatasets('DatasetTest', root='./Dataset/')"
   ]
  }
 ],
 "metadata": {
  "kernelspec": {
   "display_name": "cvae",
   "language": "python",
   "name": "python3"
  },
  "language_info": {
   "codemirror_mode": {
    "name": "ipython",
    "version": 3
   },
   "file_extension": ".py",
   "mimetype": "text/x-python",
   "name": "python",
   "nbconvert_exporter": "python",
   "pygments_lexer": "ipython3",
   "version": "3.7.16"
  },
  "orig_nbformat": 4
 },
 "nbformat": 4,
 "nbformat_minor": 2
}
