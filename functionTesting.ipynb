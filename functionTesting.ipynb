{
 "cells": [
  {
   "cell_type": "code",
   "execution_count": 1,
   "metadata": {},
   "outputs": [],
   "source": [
    "# Imports\n",
    "from Code.h5Constructor import h5Constructor"
   ]
  },
  {
   "cell_type": "code",
   "execution_count": 2,
   "metadata": {},
   "outputs": [],
   "source": [
    "gc = h5Constructor('./Dataset/CIFs/Train/', './Dataset/h5/Train/')"
   ]
  },
  {
   "cell_type": "code",
   "execution_count": 3,
   "metadata": {},
   "outputs": [
    {
     "name": "stdout",
     "output_type": "stream",
     "text": [
      "\n",
      "Constructing graphs from cif files:\n"
     ]
    },
    {
     "data": {
      "application/vnd.jupyter.widget-view+json": {
       "model_id": "9e414397dcd54b5d8039eabc3b4de0fa",
       "version_major": 2,
       "version_minor": 0
      },
      "text/plain": [
       "  0%|          | 0/28 [00:00<?, ?it/s]"
      ]
     },
     "metadata": {},
     "output_type": "display_data"
    },
    {
     "data": {
      "application/vnd.jupyter.widget-view+json": {
       "model_id": "90048eaf93904d6ca0adc1559e490a61",
       "version_major": 2,
       "version_minor": 0
      },
      "text/plain": [
       "Generating NPs:   0%|          | 0/1 [00:00<?, ?it/s]"
      ]
     },
     "metadata": {},
     "output_type": "display_data"
    },
    {
     "data": {
      "application/vnd.jupyter.widget-view+json": {
       "model_id": "e6670890ddf64ae181af84a377a6b19f",
       "version_major": 2,
       "version_minor": 0
      },
      "text/plain": [
       "Checking atoms: 0it [00:00, ?it/s]"
      ]
     },
     "metadata": {},
     "output_type": "display_data"
    },
    {
     "data": {
      "application/vnd.jupyter.widget-view+json": {
       "model_id": "823e372a1f6440738cc6290550db2b10",
       "version_major": 2,
       "version_minor": 0
      },
      "text/plain": [
       "Simulating spectra: 0it [00:00, ?it/s]"
      ]
     },
     "metadata": {},
     "output_type": "display_data"
    },
    {
     "data": {
      "application/vnd.jupyter.widget-view+json": {
       "model_id": "948add99eea34a30896bd3de0503f7be",
       "version_major": 2,
       "version_minor": 0
      },
      "text/plain": [
       "Generating NPs:   0%|          | 0/1 [00:00<?, ?it/s]"
      ]
     },
     "metadata": {},
     "output_type": "display_data"
    },
    {
     "data": {
      "application/vnd.jupyter.widget-view+json": {
       "model_id": "d350abed1f5347199636a587bf321542",
       "version_major": 2,
       "version_minor": 0
      },
      "text/plain": [
       "Checking atoms: 0it [00:00, ?it/s]"
      ]
     },
     "metadata": {},
     "output_type": "display_data"
    },
    {
     "data": {
      "application/vnd.jupyter.widget-view+json": {
       "model_id": "89b7275ea5aa4939a18579b9f5459471",
       "version_major": 2,
       "version_minor": 0
      },
      "text/plain": [
       "Simulating spectra: 0it [00:00, ?it/s]"
      ]
     },
     "metadata": {},
     "output_type": "display_data"
    },
    {
     "data": {
      "application/vnd.jupyter.widget-view+json": {
       "model_id": "ebd1d1fcc4214350b5fd7439c219438e",
       "version_major": 2,
       "version_minor": 0
      },
      "text/plain": [
       "Generating NPs:   0%|          | 0/1 [00:00<?, ?it/s]"
      ]
     },
     "metadata": {},
     "output_type": "display_data"
    },
    {
     "data": {
      "application/vnd.jupyter.widget-view+json": {
       "model_id": "e66ff18be9804feeb24b80f3cdcbf0e7",
       "version_major": 2,
       "version_minor": 0
      },
      "text/plain": [
       "Checking atoms: 0it [00:00, ?it/s]"
      ]
     },
     "metadata": {},
     "output_type": "display_data"
    },
    {
     "data": {
      "application/vnd.jupyter.widget-view+json": {
       "model_id": "17d7412b7e324cf28cf1cf2f110ed78b",
       "version_major": 2,
       "version_minor": 0
      },
      "text/plain": [
       "Simulating spectra: 0it [00:00, ?it/s]"
      ]
     },
     "metadata": {},
     "output_type": "display_data"
    },
    {
     "data": {
      "application/vnd.jupyter.widget-view+json": {
       "model_id": "fdc88c6c5e6d4a60bef1af86060ce454",
       "version_major": 2,
       "version_minor": 0
      },
      "text/plain": [
       "Generating NPs:   0%|          | 0/1 [00:00<?, ?it/s]"
      ]
     },
     "metadata": {},
     "output_type": "display_data"
    },
    {
     "data": {
      "application/vnd.jupyter.widget-view+json": {
       "model_id": "4b8c7677b42d483ba096c74c05dc0a28",
       "version_major": 2,
       "version_minor": 0
      },
      "text/plain": [
       "Checking atoms: 0it [00:00, ?it/s]"
      ]
     },
     "metadata": {},
     "output_type": "display_data"
    },
    {
     "data": {
      "application/vnd.jupyter.widget-view+json": {
       "model_id": "9a7fdabf2455460884718fd06978f9ea",
       "version_major": 2,
       "version_minor": 0
      },
      "text/plain": [
       "Simulating spectra: 0it [00:00, ?it/s]"
      ]
     },
     "metadata": {},
     "output_type": "display_data"
    },
    {
     "data": {
      "application/vnd.jupyter.widget-view+json": {
       "model_id": "c98ff2cfb82b4b71861da231018c73ea",
       "version_major": 2,
       "version_minor": 0
      },
      "text/plain": [
       "Generating NPs:   0%|          | 0/1 [00:00<?, ?it/s]"
      ]
     },
     "metadata": {},
     "output_type": "display_data"
    },
    {
     "data": {
      "application/vnd.jupyter.widget-view+json": {
       "model_id": "09ff8adb8dcb4f11865bb4c165784a50",
       "version_major": 2,
       "version_minor": 0
      },
      "text/plain": [
       "Checking atoms: 0it [00:00, ?it/s]"
      ]
     },
     "metadata": {},
     "output_type": "display_data"
    },
    {
     "data": {
      "application/vnd.jupyter.widget-view+json": {
       "model_id": "9c27e65ee6cf4145b79413195ff4b3ed",
       "version_major": 2,
       "version_minor": 0
      },
      "text/plain": [
       "Simulating spectra: 0it [00:00, ?it/s]"
      ]
     },
     "metadata": {},
     "output_type": "display_data"
    },
    {
     "data": {
      "application/vnd.jupyter.widget-view+json": {
       "model_id": "3cefb8b1b635416d98d106b0be132a64",
       "version_major": 2,
       "version_minor": 0
      },
      "text/plain": [
       "Generating NPs:   0%|          | 0/1 [00:00<?, ?it/s]"
      ]
     },
     "metadata": {},
     "output_type": "display_data"
    },
    {
     "data": {
      "application/vnd.jupyter.widget-view+json": {
       "model_id": "3dc9ccca0c7d4ab98546f88374a87682",
       "version_major": 2,
       "version_minor": 0
      },
      "text/plain": [
       "Checking atoms: 0it [00:00, ?it/s]"
      ]
     },
     "metadata": {},
     "output_type": "display_data"
    },
    {
     "data": {
      "application/vnd.jupyter.widget-view+json": {
       "model_id": "362556aad80542b097fe8fc4ade74d3a",
       "version_major": 2,
       "version_minor": 0
      },
      "text/plain": [
       "Simulating spectra: 0it [00:00, ?it/s]"
      ]
     },
     "metadata": {},
     "output_type": "display_data"
    },
    {
     "data": {
      "application/vnd.jupyter.widget-view+json": {
       "model_id": "c2799abc4cec46788e8e490e0d395e3a",
       "version_major": 2,
       "version_minor": 0
      },
      "text/plain": [
       "Generating NPs:   0%|          | 0/1 [00:00<?, ?it/s]"
      ]
     },
     "metadata": {},
     "output_type": "display_data"
    },
    {
     "data": {
      "application/vnd.jupyter.widget-view+json": {
       "model_id": "7c694a33350e4b5d933c747fcfad2d81",
       "version_major": 2,
       "version_minor": 0
      },
      "text/plain": [
       "Checking atoms: 0it [00:00, ?it/s]"
      ]
     },
     "metadata": {},
     "output_type": "display_data"
    },
    {
     "data": {
      "application/vnd.jupyter.widget-view+json": {
       "model_id": "6e98a60a548542ef993b806badc0ff7a",
       "version_major": 2,
       "version_minor": 0
      },
      "text/plain": [
       "Simulating spectra: 0it [00:00, ?it/s]"
      ]
     },
     "metadata": {},
     "output_type": "display_data"
    },
    {
     "data": {
      "application/vnd.jupyter.widget-view+json": {
       "model_id": "8ae7763ee42340d0bd264df73415cb5d",
       "version_major": 2,
       "version_minor": 0
      },
      "text/plain": [
       "Generating NPs:   0%|          | 0/1 [00:00<?, ?it/s]"
      ]
     },
     "metadata": {},
     "output_type": "display_data"
    },
    {
     "data": {
      "application/vnd.jupyter.widget-view+json": {
       "model_id": "ed1bf03d09c3465d8c7e939bb3c016ad",
       "version_major": 2,
       "version_minor": 0
      },
      "text/plain": [
       "Checking atoms: 0it [00:00, ?it/s]"
      ]
     },
     "metadata": {},
     "output_type": "display_data"
    },
    {
     "data": {
      "application/vnd.jupyter.widget-view+json": {
       "model_id": "87647b69b8834f37a7826d7112f7304d",
       "version_major": 2,
       "version_minor": 0
      },
      "text/plain": [
       "Simulating spectra: 0it [00:00, ?it/s]"
      ]
     },
     "metadata": {},
     "output_type": "display_data"
    },
    {
     "data": {
      "application/vnd.jupyter.widget-view+json": {
       "model_id": "910824d3a19244e6882f8210f7773d72",
       "version_major": 2,
       "version_minor": 0
      },
      "text/plain": [
       "Generating NPs:   0%|          | 0/1 [00:00<?, ?it/s]"
      ]
     },
     "metadata": {},
     "output_type": "display_data"
    },
    {
     "data": {
      "application/vnd.jupyter.widget-view+json": {
       "model_id": "2ea11c9793db43448de9789d718559b8",
       "version_major": 2,
       "version_minor": 0
      },
      "text/plain": [
       "Checking atoms: 0it [00:00, ?it/s]"
      ]
     },
     "metadata": {},
     "output_type": "display_data"
    },
    {
     "data": {
      "application/vnd.jupyter.widget-view+json": {
       "model_id": "c0015273d84d40b79c99447cc12a51d8",
       "version_major": 2,
       "version_minor": 0
      },
      "text/plain": [
       "Simulating spectra: 0it [00:00, ?it/s]"
      ]
     },
     "metadata": {},
     "output_type": "display_data"
    },
    {
     "data": {
      "application/vnd.jupyter.widget-view+json": {
       "model_id": "97ba2f36cce24631a4dd56590450bf59",
       "version_major": 2,
       "version_minor": 0
      },
      "text/plain": [
       "Generating NPs:   0%|          | 0/1 [00:00<?, ?it/s]"
      ]
     },
     "metadata": {},
     "output_type": "display_data"
    },
    {
     "data": {
      "application/vnd.jupyter.widget-view+json": {
       "model_id": "b8a56cbee10c4f6699011bcb5a012836",
       "version_major": 2,
       "version_minor": 0
      },
      "text/plain": [
       "Checking atoms: 0it [00:00, ?it/s]"
      ]
     },
     "metadata": {},
     "output_type": "display_data"
    },
    {
     "data": {
      "application/vnd.jupyter.widget-view+json": {
       "model_id": "d562b5f58149477fa352c0662b43b2fb",
       "version_major": 2,
       "version_minor": 0
      },
      "text/plain": [
       "Simulating spectra: 0it [00:00, ?it/s]"
      ]
     },
     "metadata": {},
     "output_type": "display_data"
    },
    {
     "data": {
      "application/vnd.jupyter.widget-view+json": {
       "model_id": "fba1768c2e6540b0b6cc7667a5a156f0",
       "version_major": 2,
       "version_minor": 0
      },
      "text/plain": [
       "Generating NPs:   0%|          | 0/1 [00:00<?, ?it/s]"
      ]
     },
     "metadata": {},
     "output_type": "display_data"
    },
    {
     "data": {
      "application/vnd.jupyter.widget-view+json": {
       "model_id": "4a063881d3dc46f9b6df6761644beb04",
       "version_major": 2,
       "version_minor": 0
      },
      "text/plain": [
       "Checking atoms: 0it [00:00, ?it/s]"
      ]
     },
     "metadata": {},
     "output_type": "display_data"
    },
    {
     "data": {
      "application/vnd.jupyter.widget-view+json": {
       "model_id": "155e2e8eb7724e75a19f67072c7543c7",
       "version_major": 2,
       "version_minor": 0
      },
      "text/plain": [
       "Simulating spectra: 0it [00:00, ?it/s]"
      ]
     },
     "metadata": {},
     "output_type": "display_data"
    },
    {
     "data": {
      "application/vnd.jupyter.widget-view+json": {
       "model_id": "15b8d49c053c42aca50405c7e2315462",
       "version_major": 2,
       "version_minor": 0
      },
      "text/plain": [
       "Generating NPs:   0%|          | 0/1 [00:00<?, ?it/s]"
      ]
     },
     "metadata": {},
     "output_type": "display_data"
    },
    {
     "data": {
      "application/vnd.jupyter.widget-view+json": {
       "model_id": "542861da0ca24b07b0ba3b62245f6a69",
       "version_major": 2,
       "version_minor": 0
      },
      "text/plain": [
       "Checking atoms: 0it [00:00, ?it/s]"
      ]
     },
     "metadata": {},
     "output_type": "display_data"
    },
    {
     "data": {
      "application/vnd.jupyter.widget-view+json": {
       "model_id": "237fc3b1f47c4134af1b52c9662e592f",
       "version_major": 2,
       "version_minor": 0
      },
      "text/plain": [
       "Simulating spectra: 0it [00:00, ?it/s]"
      ]
     },
     "metadata": {},
     "output_type": "display_data"
    },
    {
     "data": {
      "application/vnd.jupyter.widget-view+json": {
       "model_id": "da1b73e96c784a8fb317a51beeabfd64",
       "version_major": 2,
       "version_minor": 0
      },
      "text/plain": [
       "Generating NPs:   0%|          | 0/1 [00:00<?, ?it/s]"
      ]
     },
     "metadata": {},
     "output_type": "display_data"
    },
    {
     "data": {
      "application/vnd.jupyter.widget-view+json": {
       "model_id": "5a5528eb15234bab906defea48f6da3c",
       "version_major": 2,
       "version_minor": 0
      },
      "text/plain": [
       "Checking atoms: 0it [00:00, ?it/s]"
      ]
     },
     "metadata": {},
     "output_type": "display_data"
    },
    {
     "data": {
      "application/vnd.jupyter.widget-view+json": {
       "model_id": "be2a04f912b04f0da5040daa878ae8c7",
       "version_major": 2,
       "version_minor": 0
      },
      "text/plain": [
       "Simulating spectra: 0it [00:00, ?it/s]"
      ]
     },
     "metadata": {},
     "output_type": "display_data"
    },
    {
     "data": {
      "application/vnd.jupyter.widget-view+json": {
       "model_id": "34ffca552a8f46f68cd0c9aacc31115b",
       "version_major": 2,
       "version_minor": 0
      },
      "text/plain": [
       "Generating NPs:   0%|          | 0/1 [00:00<?, ?it/s]"
      ]
     },
     "metadata": {},
     "output_type": "display_data"
    },
    {
     "data": {
      "application/vnd.jupyter.widget-view+json": {
       "model_id": "6b4209846c7a4b66b67a84f18bbffbf5",
       "version_major": 2,
       "version_minor": 0
      },
      "text/plain": [
       "Checking atoms: 0it [00:00, ?it/s]"
      ]
     },
     "metadata": {},
     "output_type": "display_data"
    },
    {
     "data": {
      "application/vnd.jupyter.widget-view+json": {
       "model_id": "785189e2234842c8bcfc6a0417848757",
       "version_major": 2,
       "version_minor": 0
      },
      "text/plain": [
       "Simulating spectra: 0it [00:00, ?it/s]"
      ]
     },
     "metadata": {},
     "output_type": "display_data"
    },
    {
     "data": {
      "application/vnd.jupyter.widget-view+json": {
       "model_id": "337f65e838584fd8b47865e0e7a31595",
       "version_major": 2,
       "version_minor": 0
      },
      "text/plain": [
       "Generating NPs:   0%|          | 0/1 [00:00<?, ?it/s]"
      ]
     },
     "metadata": {},
     "output_type": "display_data"
    },
    {
     "data": {
      "application/vnd.jupyter.widget-view+json": {
       "model_id": "e97d770fdb474da88224e858a79bf5da",
       "version_major": 2,
       "version_minor": 0
      },
      "text/plain": [
       "Checking atoms: 0it [00:00, ?it/s]"
      ]
     },
     "metadata": {},
     "output_type": "display_data"
    },
    {
     "data": {
      "application/vnd.jupyter.widget-view+json": {
       "model_id": "995bde6aeb864d5a9977bae65c0926a7",
       "version_major": 2,
       "version_minor": 0
      },
      "text/plain": [
       "Simulating spectra: 0it [00:00, ?it/s]"
      ]
     },
     "metadata": {},
     "output_type": "display_data"
    },
    {
     "data": {
      "application/vnd.jupyter.widget-view+json": {
       "model_id": "7db9d48b982945cabee5fa0f451d58ea",
       "version_major": 2,
       "version_minor": 0
      },
      "text/plain": [
       "Generating NPs:   0%|          | 0/1 [00:00<?, ?it/s]"
      ]
     },
     "metadata": {},
     "output_type": "display_data"
    },
    {
     "data": {
      "application/vnd.jupyter.widget-view+json": {
       "model_id": "7e2f63ca4738433ea155908fc69be601",
       "version_major": 2,
       "version_minor": 0
      },
      "text/plain": [
       "Checking atoms: 0it [00:00, ?it/s]"
      ]
     },
     "metadata": {},
     "output_type": "display_data"
    },
    {
     "data": {
      "application/vnd.jupyter.widget-view+json": {
       "model_id": "9d54ff1dd2104752bd8d27e522d5a5a0",
       "version_major": 2,
       "version_minor": 0
      },
      "text/plain": [
       "Simulating spectra: 0it [00:00, ?it/s]"
      ]
     },
     "metadata": {},
     "output_type": "display_data"
    },
    {
     "data": {
      "application/vnd.jupyter.widget-view+json": {
       "model_id": "4f8457bd6c7c4cf295c77f5c859c64ec",
       "version_major": 2,
       "version_minor": 0
      },
      "text/plain": [
       "Generating NPs:   0%|          | 0/1 [00:00<?, ?it/s]"
      ]
     },
     "metadata": {},
     "output_type": "display_data"
    },
    {
     "data": {
      "application/vnd.jupyter.widget-view+json": {
       "model_id": "0a4e99a9d2964ef593173c1556ed6dff",
       "version_major": 2,
       "version_minor": 0
      },
      "text/plain": [
       "Checking atoms: 0it [00:00, ?it/s]"
      ]
     },
     "metadata": {},
     "output_type": "display_data"
    },
    {
     "data": {
      "application/vnd.jupyter.widget-view+json": {
       "model_id": "3e6cd79b1abb43d8888ef93de56e7b8d",
       "version_major": 2,
       "version_minor": 0
      },
      "text/plain": [
       "Simulating spectra: 0it [00:00, ?it/s]"
      ]
     },
     "metadata": {},
     "output_type": "display_data"
    },
    {
     "data": {
      "application/vnd.jupyter.widget-view+json": {
       "model_id": "4adbb7465c714a5183d2ef8bf0800b2d",
       "version_major": 2,
       "version_minor": 0
      },
      "text/plain": [
       "Generating NPs:   0%|          | 0/1 [00:00<?, ?it/s]"
      ]
     },
     "metadata": {},
     "output_type": "display_data"
    },
    {
     "data": {
      "application/vnd.jupyter.widget-view+json": {
       "model_id": "209a7b4aaec243908d1ce8b1142ffbda",
       "version_major": 2,
       "version_minor": 0
      },
      "text/plain": [
       "Checking atoms: 0it [00:00, ?it/s]"
      ]
     },
     "metadata": {},
     "output_type": "display_data"
    },
    {
     "data": {
      "application/vnd.jupyter.widget-view+json": {
       "model_id": "844e0dbcdb2148c49218826de25ea734",
       "version_major": 2,
       "version_minor": 0
      },
      "text/plain": [
       "Simulating spectra: 0it [00:00, ?it/s]"
      ]
     },
     "metadata": {},
     "output_type": "display_data"
    },
    {
     "data": {
      "application/vnd.jupyter.widget-view+json": {
       "model_id": "fbdd7339981a437a925ca90ed87b9c39",
       "version_major": 2,
       "version_minor": 0
      },
      "text/plain": [
       "Generating NPs:   0%|          | 0/1 [00:00<?, ?it/s]"
      ]
     },
     "metadata": {},
     "output_type": "display_data"
    },
    {
     "data": {
      "application/vnd.jupyter.widget-view+json": {
       "model_id": "9e1f47e78fb6439fa08e0e0834fdbabf",
       "version_major": 2,
       "version_minor": 0
      },
      "text/plain": [
       "Checking atoms: 0it [00:00, ?it/s]"
      ]
     },
     "metadata": {},
     "output_type": "display_data"
    },
    {
     "data": {
      "application/vnd.jupyter.widget-view+json": {
       "model_id": "92e71a8b939b4480b0ab80dde18db057",
       "version_major": 2,
       "version_minor": 0
      },
      "text/plain": [
       "Simulating spectra: 0it [00:00, ?it/s]"
      ]
     },
     "metadata": {},
     "output_type": "display_data"
    },
    {
     "data": {
      "application/vnd.jupyter.widget-view+json": {
       "model_id": "7f9065dad6804ea98edfeefbd6c9aab6",
       "version_major": 2,
       "version_minor": 0
      },
      "text/plain": [
       "Generating NPs:   0%|          | 0/1 [00:00<?, ?it/s]"
      ]
     },
     "metadata": {},
     "output_type": "display_data"
    },
    {
     "data": {
      "application/vnd.jupyter.widget-view+json": {
       "model_id": "8ae7a95a91334151b3d611f217bdc3c6",
       "version_major": 2,
       "version_minor": 0
      },
      "text/plain": [
       "Checking atoms: 0it [00:00, ?it/s]"
      ]
     },
     "metadata": {},
     "output_type": "display_data"
    },
    {
     "data": {
      "application/vnd.jupyter.widget-view+json": {
       "model_id": "9d67dab8e5a04e2da334ce0112192904",
       "version_major": 2,
       "version_minor": 0
      },
      "text/plain": [
       "Simulating spectra: 0it [00:00, ?it/s]"
      ]
     },
     "metadata": {},
     "output_type": "display_data"
    },
    {
     "data": {
      "application/vnd.jupyter.widget-view+json": {
       "model_id": "b5c1b9ef4b71435f8cbc662d882d25bf",
       "version_major": 2,
       "version_minor": 0
      },
      "text/plain": [
       "Generating NPs:   0%|          | 0/1 [00:00<?, ?it/s]"
      ]
     },
     "metadata": {},
     "output_type": "display_data"
    },
    {
     "data": {
      "application/vnd.jupyter.widget-view+json": {
       "model_id": "1e0b3995a9d24f43b788942ab001e9ec",
       "version_major": 2,
       "version_minor": 0
      },
      "text/plain": [
       "Checking atoms: 0it [00:00, ?it/s]"
      ]
     },
     "metadata": {},
     "output_type": "display_data"
    },
    {
     "data": {
      "application/vnd.jupyter.widget-view+json": {
       "model_id": "c5b519d267ac4da89459a6bf7e230350",
       "version_major": 2,
       "version_minor": 0
      },
      "text/plain": [
       "Simulating spectra: 0it [00:00, ?it/s]"
      ]
     },
     "metadata": {},
     "output_type": "display_data"
    },
    {
     "data": {
      "application/vnd.jupyter.widget-view+json": {
       "model_id": "bb3855cfe6ca4e308a6df30ff1e61b88",
       "version_major": 2,
       "version_minor": 0
      },
      "text/plain": [
       "Generating NPs:   0%|          | 0/1 [00:00<?, ?it/s]"
      ]
     },
     "metadata": {},
     "output_type": "display_data"
    },
    {
     "data": {
      "application/vnd.jupyter.widget-view+json": {
       "model_id": "d61de2bccd9c418c8d051ae8b4c23ab8",
       "version_major": 2,
       "version_minor": 0
      },
      "text/plain": [
       "Checking atoms: 0it [00:00, ?it/s]"
      ]
     },
     "metadata": {},
     "output_type": "display_data"
    },
    {
     "data": {
      "application/vnd.jupyter.widget-view+json": {
       "model_id": "862eb34c43d54a65bb9df4f42ac5887f",
       "version_major": 2,
       "version_minor": 0
      },
      "text/plain": [
       "Simulating spectra: 0it [00:00, ?it/s]"
      ]
     },
     "metadata": {},
     "output_type": "display_data"
    },
    {
     "data": {
      "application/vnd.jupyter.widget-view+json": {
       "model_id": "005dfad95ab2463db570201bfd29c6ce",
       "version_major": 2,
       "version_minor": 0
      },
      "text/plain": [
       "Generating NPs:   0%|          | 0/1 [00:00<?, ?it/s]"
      ]
     },
     "metadata": {},
     "output_type": "display_data"
    },
    {
     "data": {
      "application/vnd.jupyter.widget-view+json": {
       "model_id": "0ea2318bdc3347e2b0bea284707ef292",
       "version_major": 2,
       "version_minor": 0
      },
      "text/plain": [
       "Checking atoms: 0it [00:00, ?it/s]"
      ]
     },
     "metadata": {},
     "output_type": "display_data"
    },
    {
     "data": {
      "application/vnd.jupyter.widget-view+json": {
       "model_id": "327b4e1b9a3e4503addf2ac272017257",
       "version_major": 2,
       "version_minor": 0
      },
      "text/plain": [
       "Simulating spectra: 0it [00:00, ?it/s]"
      ]
     },
     "metadata": {},
     "output_type": "display_data"
    },
    {
     "data": {
      "application/vnd.jupyter.widget-view+json": {
       "model_id": "7d68fffd2bba499fb82705965a67e419",
       "version_major": 2,
       "version_minor": 0
      },
      "text/plain": [
       "Generating NPs:   0%|          | 0/1 [00:00<?, ?it/s]"
      ]
     },
     "metadata": {},
     "output_type": "display_data"
    },
    {
     "data": {
      "application/vnd.jupyter.widget-view+json": {
       "model_id": "b4913827687d4c2599c6b70af36f5448",
       "version_major": 2,
       "version_minor": 0
      },
      "text/plain": [
       "Checking atoms: 0it [00:00, ?it/s]"
      ]
     },
     "metadata": {},
     "output_type": "display_data"
    },
    {
     "data": {
      "application/vnd.jupyter.widget-view+json": {
       "model_id": "34f62565e9d746dfadaa3e1649a3e98c",
       "version_major": 2,
       "version_minor": 0
      },
      "text/plain": [
       "Simulating spectra: 0it [00:00, ?it/s]"
      ]
     },
     "metadata": {},
     "output_type": "display_data"
    },
    {
     "data": {
      "application/vnd.jupyter.widget-view+json": {
       "model_id": "e67ac3a384d74c9f892fc113ff5b5853",
       "version_major": 2,
       "version_minor": 0
      },
      "text/plain": [
       "Generating NPs:   0%|          | 0/1 [00:00<?, ?it/s]"
      ]
     },
     "metadata": {},
     "output_type": "display_data"
    },
    {
     "data": {
      "application/vnd.jupyter.widget-view+json": {
       "model_id": "caa5b7fe48fe46aa883338fb41427f0d",
       "version_major": 2,
       "version_minor": 0
      },
      "text/plain": [
       "Checking atoms: 0it [00:00, ?it/s]"
      ]
     },
     "metadata": {},
     "output_type": "display_data"
    },
    {
     "data": {
      "application/vnd.jupyter.widget-view+json": {
       "model_id": "7901e52a1ea54542a8f54012287e9d94",
       "version_major": 2,
       "version_minor": 0
      },
      "text/plain": [
       "Simulating spectra: 0it [00:00, ?it/s]"
      ]
     },
     "metadata": {},
     "output_type": "display_data"
    },
    {
     "data": {
      "application/vnd.jupyter.widget-view+json": {
       "model_id": "4c144118ada74a10b796b6bfe7231ec0",
       "version_major": 2,
       "version_minor": 0
      },
      "text/plain": [
       "Generating NPs:   0%|          | 0/1 [00:00<?, ?it/s]"
      ]
     },
     "metadata": {},
     "output_type": "display_data"
    },
    {
     "data": {
      "application/vnd.jupyter.widget-view+json": {
       "model_id": "1ab06fbf344d4a0e90dd65057bce7c7a",
       "version_major": 2,
       "version_minor": 0
      },
      "text/plain": [
       "Checking atoms: 0it [00:00, ?it/s]"
      ]
     },
     "metadata": {},
     "output_type": "display_data"
    },
    {
     "data": {
      "application/vnd.jupyter.widget-view+json": {
       "model_id": "0f4794e7968844e29c3f28205cae14db",
       "version_major": 2,
       "version_minor": 0
      },
      "text/plain": [
       "Simulating spectra: 0it [00:00, ?it/s]"
      ]
     },
     "metadata": {},
     "output_type": "display_data"
    },
    {
     "data": {
      "application/vnd.jupyter.widget-view+json": {
       "model_id": "40c014bac64f4a5d831ab7b9d68a4e14",
       "version_major": 2,
       "version_minor": 0
      },
      "text/plain": [
       "Generating NPs:   0%|          | 0/1 [00:00<?, ?it/s]"
      ]
     },
     "metadata": {},
     "output_type": "display_data"
    },
    {
     "data": {
      "application/vnd.jupyter.widget-view+json": {
       "model_id": "66fc4c8fec5f4990b6809c3b18929b5e",
       "version_major": 2,
       "version_minor": 0
      },
      "text/plain": [
       "Checking atoms: 0it [00:00, ?it/s]"
      ]
     },
     "metadata": {},
     "output_type": "display_data"
    },
    {
     "data": {
      "application/vnd.jupyter.widget-view+json": {
       "model_id": "266ab3654eb245eeaf9bcf8d2b4af209",
       "version_major": 2,
       "version_minor": 0
      },
      "text/plain": [
       "Simulating spectra: 0it [00:00, ?it/s]"
      ]
     },
     "metadata": {},
     "output_type": "display_data"
    },
    {
     "data": {
      "application/vnd.jupyter.widget-view+json": {
       "model_id": "a0faf1a5b34f45bca4a8a359b91b4464",
       "version_major": 2,
       "version_minor": 0
      },
      "text/plain": [
       "Generating NPs:   0%|          | 0/1 [00:00<?, ?it/s]"
      ]
     },
     "metadata": {},
     "output_type": "display_data"
    },
    {
     "data": {
      "application/vnd.jupyter.widget-view+json": {
       "model_id": "03539aef3356453d8723b53fc5e31691",
       "version_major": 2,
       "version_minor": 0
      },
      "text/plain": [
       "Checking atoms: 0it [00:00, ?it/s]"
      ]
     },
     "metadata": {},
     "output_type": "display_data"
    },
    {
     "data": {
      "application/vnd.jupyter.widget-view+json": {
       "model_id": "2830035a56504dbeb6daf94237119bbb",
       "version_major": 2,
       "version_minor": 0
      },
      "text/plain": [
       "Simulating spectra: 0it [00:00, ?it/s]"
      ]
     },
     "metadata": {},
     "output_type": "display_data"
    }
   ],
   "source": [
    "gc.gen_h5s(parallelize=False)"
   ]
  },
  {
   "cell_type": "code",
   "execution_count": null,
   "metadata": {},
   "outputs": [
    {
     "name": "stderr",
     "output_type": "stream",
     "text": [
      "Downloading https://sid.erda.dk/share_redirect/HiFeydCIqA/DatasetTest.zip\n",
      "Extracting Dataset/DatasetTest/raw/DatasetTest.zip\n",
      "Processing...\n",
      "Done!\n"
     ]
    },
    {
     "ename": "",
     "evalue": "",
     "output_type": "error",
     "traceback": [
      "\u001b[1;31mnotebook controller is DISPOSED. \n",
      "\u001b[1;31mView Jupyter <a href='command:jupyter.viewOutput'>log</a> for further details."
     ]
    },
    {
     "ename": "",
     "evalue": "",
     "output_type": "error",
     "traceback": [
      "\u001b[1;31mnotebook controller is DISPOSED. \n",
      "\u001b[1;31mView Jupyter <a href='command:jupyter.viewOutput'>log</a> for further details."
     ]
    },
    {
     "ename": "",
     "evalue": "",
     "output_type": "error",
     "traceback": [
      "\u001b[1;31mnotebook controller is DISPOSED. \n",
      "\u001b[1;31mView Jupyter <a href='command:jupyter.viewOutput'>log</a> for further details."
     ]
    },
    {
     "ename": "",
     "evalue": "",
     "output_type": "error",
     "traceback": [
      "\u001b[1;31mnotebook controller is DISPOSED. \n",
      "\u001b[1;31mView Jupyter <a href='command:jupyter.viewOutput'>log</a> for further details."
     ]
    }
   ],
   "source": [
    "from Code.datasetClass import InOrgMatDatasets\n",
    "\n",
    "test = InOrgMatDatasets('DatasetTest', root='./Dataset/')"
   ]
  }
 ],
 "metadata": {
  "kernelspec": {
   "display_name": "cvae",
   "language": "python",
   "name": "python3"
  },
  "language_info": {
   "codemirror_mode": {
    "name": "ipython",
    "version": 3
   },
   "file_extension": ".py",
   "mimetype": "text/x-python",
   "name": "python",
   "nbconvert_exporter": "python",
   "pygments_lexer": "ipython3",
   "version": "3.7.16"
  },
  "orig_nbformat": 4
 },
 "nbformat": 4,
 "nbformat_minor": 2
}
