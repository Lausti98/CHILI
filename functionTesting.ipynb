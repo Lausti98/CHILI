{
 "cells": [
  {
   "cell_type": "markdown",
   "metadata": {},
   "source": [
    "# Generate Data"
   ]
  },
  {
   "cell_type": "code",
   "execution_count": 1,
   "metadata": {},
   "outputs": [],
   "source": [
    "# Imports\n",
    "from pathlib import Path\n",
    "from tqdm import tqdm\n",
    "from elements import elements\n",
    "from mendeleev import element\n",
    "\n",
    "from Code.cifSimulation import structureGenerator\n",
    "from Code.h5Constructor import h5Constructor\n",
    "\n",
    "import cProfile"
   ]
  },
  {
   "cell_type": "markdown",
   "metadata": {},
   "source": [
    "## Cif generation"
   ]
  },
  {
   "cell_type": "code",
   "execution_count": null,
   "metadata": {},
   "outputs": [],
   "source": [
    "# Path to dataset\n",
    "datasetPath = './Dataset/CIFs/SimulatedTest2/'\n",
    "\n",
    "# Initialize the CIF generator\n",
    "generator = structureGenerator()\n",
    "\n",
    "# Maximum number of atom species in generated structures\n",
    "n_species = 2\n",
    "\n",
    "# Choose required atoms to use\n",
    "required_atoms = ['O']\n",
    "\n",
    "# Choose optional atoms to use\n",
    "metals = [atom.Symbol for atom in elements.Alkali_Metals] \n",
    "metals += [atom.Symbol for atom in elements.Alkaline_Earth_Metals] \n",
    "metals += [atom.Symbol for atom in elements.Transition_Metals] \n",
    "metals += [atom.Symbol for atom in elements.Metalloids] \n",
    "metals += [atom.Symbol for atom in elements.Others]\n",
    "\n",
    "optional_atoms = []\n",
    "for metal in metals:\n",
    "    try:\n",
    "        elm_data = element(metal)\n",
    "        if elm_data.metallic_radius or elm_data.atomic_radius:\n",
    "            optional_atoms.append(metal)\n",
    "        else:\n",
    "            print(f'Removed {metal} from dataset as no table values were available.')\n",
    "    except:\n",
    "        print(f'Removed {metal} from dataset as no table values were available.')\n",
    "optional_atoms = ['Zn', 'Nb']\n",
    "\n",
    "# Simulate mono-metal oxides\n",
    "generator.create_cif_dataset(\n",
    "    n_species=n_species,\n",
    "    required_atoms=required_atoms,\n",
    "    optional_atoms=optional_atoms,\n",
    "    from_table_values=False,\n",
    "    save_folder=datasetPath,\n",
    ")"
   ]
  },
  {
   "cell_type": "markdown",
   "metadata": {},
   "source": [
    "## Query COD"
   ]
  },
  {
   "cell_type": "code",
   "execution_count": null,
   "metadata": {},
   "outputs": [],
   "source": [
    "from pathlib import Path\n",
    "import requests\n",
    "import zipfile\n",
    "import io\n",
    "from multiprocessing import Pool, cpu_count\n",
    "from itertools import islice, repeat\n",
    "from tqdm.auto import tqdm\n",
    "import argparse\n",
    "from elements import elements\n",
    "from mendeleev import element\n",
    "import pandas as pd"
   ]
  },
  {
   "cell_type": "code",
   "execution_count": null,
   "metadata": {},
   "outputs": [],
   "source": [
    "metals = [atom.Symbol for atom in elements.Alkali_Metals] \n",
    "metals += [atom.Symbol for atom in elements.Alkaline_Earth_Metals] \n",
    "metals += [atom.Symbol for atom in elements.Transition_Metals] \n",
    "metals += [atom.Symbol for atom in elements.Metalloids] \n",
    "metals += [atom.Symbol for atom in elements.Others] # Post-transition metals\n",
    "metals += ['La', 'Ce', 'Pr', 'Nd', 'Pm', 'Sm', 'Eu', 'Gd', 'Tb',\n",
    "           'Dy', 'Ho', 'Er', 'Tm', 'Yb', 'Lu'] # Lanthanides\n",
    "\n",
    "# Remove elements that does not have a well defined radius or are rare in nanoparticles\n",
    "unwanted_elements = ['Fr', 'Po', 'Rf', 'Db', 'Sg', 'Bh', 'Hs', 'Mt', 'Uub', 'Uun', 'Uuu']\n",
    "for elm in unwanted_elements:\n",
    "    metals.remove(elm)\n",
    "    \n",
    "print(len(metals))"
   ]
  },
  {
   "cell_type": "code",
   "execution_count": null,
   "metadata": {},
   "outputs": [],
   "source": [
    "non_metals = [atom.Symbol for atom in elements.Non_Metals]\n",
    "non_metals += [atom.Symbol for atom in elements.Halogens]\n",
    "non_metals.remove('At')\n",
    "\n",
    "print(len(non_metals))"
   ]
  },
  {
   "cell_type": "code",
   "execution_count": null,
   "metadata": {},
   "outputs": [],
   "source": [
    "# Find all possible two element combinations of metals and non-metals\n",
    "combinations = []\n",
    "for metal in metals:\n",
    "    for non_metal in non_metals:\n",
    "        combinations.append(([metal, non_metal], []))\n",
    "\n",
    "for metal in metals:\n",
    "    combinations.append(([metal], non_metals))\n",
    "\n",
    "print(len(combinations))"
   ]
  },
  {
   "cell_type": "code",
   "execution_count": null,
   "metadata": {},
   "outputs": [],
   "source": [
    "def queryCOD_new(input_tuple):\n",
    "    (included_atoms, excluded_atoms), max_volume = input_tuple\n",
    "\n",
    "    id_url = 'https://www.crystallography.net/cod/result?format=lst'\n",
    "    if included_atoms:\n",
    "        for i, included_atom in enumerate(included_atoms):\n",
    "            id_url += f'&el{i+1}={included_atom}'\n",
    "    if excluded_atoms:\n",
    "        for i, excluded_atom in enumerate(excluded_atoms):\n",
    "            id_url += f'&nel{i+1}={excluded_atom}'\n",
    "    if max_volume:\n",
    "        id_url += f'&vmax={max_volume}'\n",
    "    \n",
    "    id_response = requests.get(id_url)\n",
    "\n",
    "    return id_response.text.split('\\n')"
   ]
  },
  {
   "cell_type": "code",
   "execution_count": null,
   "metadata": {},
   "outputs": [],
   "source": [
    "inputs = zip(combinations, repeat(1000))\n",
    "id_list = []\n",
    "with Pool(processes=cpu_count()-1) as pool:\n",
    "    with tqdm(total=len(combinations), desc='Querying COD') as pbar:\n",
    "        for returned_ids in pool.imap_unordered(queryCOD_new, inputs, chunksize=1):\n",
    "            id_list.extend(returned_ids)\n",
    "            pbar.update()"
   ]
  },
  {
   "cell_type": "code",
   "execution_count": null,
   "metadata": {},
   "outputs": [],
   "source": [
    "df_ids = pd.DataFrame(id_list)\n",
    "print(len(df_ids))\n",
    "df_ids = df_ids.drop_duplicates()\n",
    "print(len(df_ids))\n",
    "df_ids.to_csv('./test_cif_IDs.csv', index=False, header=False)"
   ]
  },
  {
   "cell_type": "code",
   "execution_count": null,
   "metadata": {},
   "outputs": [],
   "source": [
    "from Code.cifCleaning import cif_cleaning_pipeline\n",
    "from Code.databaseQuery import queryCOD\n",
    "\n",
    "# Path to dataset\n",
    "cif_folder = './Dataset/CIFs/COD_subset/'\n",
    "\n",
    "# Path to CIF ID list\n",
    "id_list_path = './COD_subset_IDs.csv'\n",
    "\n",
    "queryCOD(cif_folder, id_file=id_list_path)"
   ]
  },
  {
   "cell_type": "code",
   "execution_count": null,
   "metadata": {},
   "outputs": [],
   "source": [
    "df_cifs = cif_cleaning_pipeline(cif_folder, chunksize=100)"
   ]
  },
  {
   "cell_type": "code",
   "execution_count": null,
   "metadata": {},
   "outputs": [],
   "source": [
    "df_cifs.head()"
   ]
  },
  {
   "cell_type": "code",
   "execution_count": null,
   "metadata": {},
   "outputs": [],
   "source": [
    "df_cifs[(df_cifs['Element0'] == 6) & (df_cifs['Element1'] == 8) & (df_cifs['Element2'].isna())]"
   ]
  },
  {
   "cell_type": "code",
   "execution_count": null,
   "metadata": {},
   "outputs": [],
   "source": [
    "from ase.io import read\n",
    "cif = read(df_cifs['filepath'].iloc[19477], format='cif')"
   ]
  },
  {
   "cell_type": "code",
   "execution_count": null,
   "metadata": {},
   "outputs": [],
   "source": [
    "cif.symbols"
   ]
  },
  {
   "cell_type": "code",
   "execution_count": null,
   "metadata": {},
   "outputs": [],
   "source": [
    "metals"
   ]
  },
  {
   "cell_type": "code",
   "execution_count": null,
   "metadata": {},
   "outputs": [],
   "source": [
    "metal_numbers = [element(metal).atomic_number for metal in metals]\n",
    "metal_numbers"
   ]
  },
  {
   "cell_type": "code",
   "execution_count": null,
   "metadata": {},
   "outputs": [],
   "source": [
    "# df_cifs.columns.difference(['filepath', 'Spacegroup'])\n",
    "contains_metals = df_cifs.apply(lambda row: any(atom in metal_numbers for atom in row[2:].values), axis=1)"
   ]
  },
  {
   "cell_type": "code",
   "execution_count": null,
   "metadata": {},
   "outputs": [],
   "source": [
    "sum(~contains_metals)"
   ]
  },
  {
   "cell_type": "code",
   "execution_count": null,
   "metadata": {},
   "outputs": [],
   "source": [
    "df_cifs[~contains_metals]"
   ]
  },
  {
   "cell_type": "code",
   "execution_count": null,
   "metadata": {},
   "outputs": [],
   "source": [
    "# Cout nan values\n",
    "df_cifs[df_cifs['Element1'].isna()].sort_values(by='filepath')"
   ]
  },
  {
   "cell_type": "code",
   "execution_count": null,
   "metadata": {},
   "outputs": [],
   "source": [
    "from ase.io import read\n",
    "from tqdm.auto import trange\n",
    "metal_cifs = df_cifs[df_cifs['Element1'].isna()].sort_values(by='filepath')\n"
   ]
  },
  {
   "cell_type": "code",
   "execution_count": null,
   "metadata": {},
   "outputs": [],
   "source": [
    "unit_cell = read(metal_cifs['filepath'].iloc[7].replace('_cleaned', ''))\n",
    "print(unit_cell.get_chemical_formula())\n",
    "print(unit_cell.get_chemical_symbols())\n",
    "print(unit_cell.cell.cellpar())\n"
   ]
  },
  {
   "cell_type": "code",
   "execution_count": null,
   "metadata": {},
   "outputs": [],
   "source": [
    "df_cifs.columns"
   ]
  },
  {
   "cell_type": "code",
   "execution_count": null,
   "metadata": {},
   "outputs": [],
   "source": [
    "columns = ['Spacegroup', 'Element0', 'Element1', 'Element2',\n",
    "       'Element3', 'Element4', 'Element5', 'Element6', 'Element7', 'Element8',\n",
    "       'Element9', 'Element10']\n",
    "for i in trange(len(df_cifs)):\n",
    "    specific_row = df_cifs.iloc[i]\n",
    "\n",
    "    duplicate_cifs = df_cifs[(df_cifs[columns] == specific_row[columns]).all(axis=1)]\n",
    "    if len(duplicate_cifs) > 0:\n",
    "        print(specific_row)\n",
    "        print(duplicate_cifs.head())\n",
    "        break\n",
    "\n"
   ]
  },
  {
   "cell_type": "markdown",
   "metadata": {},
   "source": [
    "## .h5 generation"
   ]
  },
  {
   "cell_type": "code",
   "execution_count": 2,
   "metadata": {},
   "outputs": [
    {
     "name": "stdout",
     "output_type": "stream",
     "text": [
      "Rutile_MoO2\n",
      "NaCl_MoO\n",
      "AntiFluorite_Co2O\n",
      "Wurtzite_IrO\n",
      "AntiFluorite_Pt2O\n",
      "Wurtzite_CoO\n",
      "ReO3_IrO3\n",
      "Wurtzite_MoO\n",
      "Spinel_FeFe2O4\n",
      "CdI2_FeO2\n",
      "AntiFluorite_Mo2O\n",
      "Rutile_IrO2\n",
      "Rutile_PtO2\n",
      "ReO3_PtO3\n",
      "AntiFluorite_Fe2O\n",
      "NaCl_PtO\n",
      "CdI2_CoO2\n",
      "Wurtzite_PtO\n",
      "NaCl_FeO\n",
      "NaCl_IrO\n",
      "Wurtzite_FeO\n",
      "CdI2_MoO2\n",
      "Fluorite_FeO2\n",
      "Spinel_PtPt2O4\n",
      "Spinel_MoMo2O4\n",
      "Fluorite_CoO2\n",
      "Fluorite_PtO2\n",
      "Rutile_FeO2\n",
      "CdI2_PtO2\n",
      "ReO3_CoO3\n",
      "Fluorite_MoO2\n",
      "ReO3_MoO3\n",
      "Spinel_IrIr2O4\n",
      "AntiFluorite_Ir2O\n",
      "ReO3_FeO3\n",
      "Rutile_CoO2\n",
      "NaCl_CoO\n",
      "Spinel_CoCo2O4\n",
      "Fluorite_IrO2\n",
      "CdI2_IrO2\n"
     ]
    }
   ],
   "source": [
    "gc = h5Constructor(cif_dir='./Dataset/CIFs/SimulatedTest/', save_dir='./Dataset/h5/SimulatedTest2/')\n",
    "# cProfile.run('gc.gen_h5s(parallelize=False, device=\"cuda\")', sort='tottime')\n",
    "gc.gen_h5s(parallelize=False, device='cuda', np_radii=[5, 10, 15, 20, 25])"
   ]
  },
  {
   "cell_type": "markdown",
   "metadata": {},
   "source": [
    "## Create unit cell graph"
   ]
  },
  {
   "cell_type": "code",
   "execution_count": null,
   "metadata": {},
   "outputs": [],
   "source": [
    "#%% Imports\n",
    "import os, sys, math, torch\n",
    "from mendeleev import element\n",
    "from mendeleev.fetch import fetch_table\n",
    "import numpy as np\n",
    "from tqdm.auto import tqdm\n",
    "import h5py\n",
    "from itertools import repeat\n",
    "from multiprocessing import Pool, cpu_count\n",
    "from pathlib import Path\n",
    "from torch_geometric.data import Data\n",
    "from torch_geometric.utils import to_networkx\n",
    "from networkx.algorithms.components import is_connected\n",
    "from ase.io import read\n",
    "from ase.build import make_supercell\n",
    "from ase.spacegroup import get_spacegroup\n",
    "from ase.visualize import view\n",
    "# from Code.simScatteringPatterns import simPDFs, cif_to_NP_GPU\n",
    "from debyecalculator import DebyeCalculator\n",
    "from elements import elements\n",
    "from mendeleev import element\n",
    "from pymatgen.analysis.graphs import StructureGraph\n",
    "from pymatgen.core.structure import Structure\n",
    "from pymatgen.analysis.local_env import CrystalNN, MinimumDistanceNN\n",
    "from pymatgen.io.ase import AseAtomsAdaptor\n",
    "from timeit import default_timer as timer"
   ]
  },
  {
   "cell_type": "code",
   "execution_count": null,
   "metadata": {},
   "outputs": [],
   "source": [
    "# Path to cif file\n",
    "# cif = './Dataset/CIFs/COD_subset_cleaned/1000023.cif'\n",
    "cif = './Dataset/CIFs/COD_subset_cleaned/1008022.cif'\n",
    "\n",
    "# Load cif\n",
    "unit_cell = read(cif)\n",
    "\n",
    "# Find spacegroup\n",
    "spacegroup = get_spacegroup(unit_cell)"
   ]
  },
  {
   "cell_type": "code",
   "execution_count": null,
   "metadata": {},
   "outputs": [],
   "source": [
    "unit_cell.get_chemical_symbols()"
   ]
  },
  {
   "cell_type": "code",
   "execution_count": null,
   "metadata": {},
   "outputs": [],
   "source": [
    "unit_cell.get_scaled_positions()"
   ]
  },
  {
   "cell_type": "code",
   "execution_count": null,
   "metadata": {},
   "outputs": [],
   "source": [
    "# view(unit_cell, viewer='ngl')"
   ]
  },
  {
   "cell_type": "code",
   "execution_count": null,
   "metadata": {},
   "outputs": [],
   "source": [
    "node_feature_table = fetch_table('elements')[['atomic_number', 'atomic_radius', 'atomic_weight', 'electron_affinity']]\n",
    "node_feature_table['electron_affinity'].fillna(0.0, inplace=True)\n",
    "\n",
    "# Metals of interest\n",
    "metals = [atom.Symbol for atom in elements.Alkali_Metals] \n",
    "metals += [atom.Symbol for atom in elements.Alkaline_Earth_Metals] \n",
    "metals += [atom.Symbol for atom in elements.Transition_Metals] \n",
    "metals += [atom.Symbol for atom in elements.Metalloids] \n",
    "metals += [atom.Symbol for atom in elements.Others] # Post-transition metals\n",
    "metals += ['La', 'Ce', 'Pr', 'Nd', 'Pm', 'Sm', 'Eu', 'Gd', 'Tb',\n",
    "        'Dy', 'Ho', 'Er', 'Tm', 'Yb', 'Lu'] # Lanthanides\n",
    "\n",
    "# Remove elements that does not have a well defined radius or are rare in nanoparticles\n",
    "unwanted_elements = ['Fr', 'Po', 'Rf', 'Db', 'Sg', 'Bh', 'Hs', 'Mt', 'Uub', 'Uun', 'Uuu']\n",
    "for elm in unwanted_elements:\n",
    "    metals.remove(elm)\n",
    "    \n",
    "# Convert to atomic numbers\n",
    "metals = [element(metal).atomic_number for metal in metals]"
   ]
  },
  {
   "cell_type": "code",
   "execution_count": null,
   "metadata": {},
   "outputs": [],
   "source": [
    "import plotly.graph_objects as go\n",
    "\n",
    "def plot_atoms_and_bonds(node_pos_real, node_features, direction, edge_features):\n",
    "    \n",
    "    jmol_colors = [\n",
    "        \"#FFFFFF\", \"#8F8F8F\", \"#D9FFFF\", \"#CC80FF\", \"#C2FF00\", \"#FFB5B5\", \"#909090\", \"#3050F8\", \"#FF0D0D\", \"#90E050\",\n",
    "        \"#B3E3F5\", \"#AB5CF2\", \"#8AFF00\", \"#BFA6A6\", \"#F0C8A0\", \"#FF8000\", \"#FFFF30\", \"#1FF01F\", \"#80D1E3\", \"#8F40D4\",\n",
    "        \"#3DFF00\", \"#E6E6E6\", \"#BFC2C7\", \"#A6A6AB\", \"#8A99C7\", \"#9C7AC7\", \"#E06633\", \"#F090A0\", \"#50D050\", \"#C88033\",\n",
    "        \"#7D80B0\", \"#C28F8F\", \"#668F8F\", \"#BD80E3\", \"#FFA100\", \"#A62929\", \"#5CB8D1\", \"#702EB0\", \"#00FF00\", \"#94FFFF\",\n",
    "        \"#94E0E0\", \"#73C2C9\", \"#54B5B5\", \"#3B9E9E\", \"#248F8F\", \"#0A7D8C\", \"#006985\", \"#C0C0C0\", \"#FFD98F\", \"#A67573\",\n",
    "        \"#668080\", \"#9E63B5\", \"#D47A00\", \"#940094\", \"#429EB0\", \"#57178F\", \"#00C900\", \"#70D4FF\", \"#FFFFC7\", \"#D9FFC7\",\n",
    "        \"#C7FFC7\", \"#A3FFC7\", \"#8FFFC7\", \"#61FFC7\", \"#45FFC7\", \"#30FFC7\", \"#1FFFC7\", \"#00FF9C\", \"#00E675\", \"#00D452\",\n",
    "        \"#00BF38\", \"#00AB24\", \"#4DC2FF\", \"#4DA6FF\", \"#2194D6\", \"#267DAB\", \"#266696\", \"#175487\", \"#D0D0E0\", \"#FFD123\",\n",
    "        \"#B8B8D0\", \"#A6544D\", \"#575961\", \"#9E4FB5\", \"#AB5C00\", \"#754F45\", \"#428296\", \"#420066\", \"#007D00\", \"#70ABFA\",\n",
    "        \"#00BAFF\", \"#00A1FF\", \"#008FFF\", \"#0080FF\", \"#006BFF\", \"#545CF2\", \"#785CE3\", \"#8A4FE3\", \"#A136D4\", \"#B31FD4\",\n",
    "        \"#B31FBA\", \"#B30DA6\", \"#BD0D87\", \"#C70066\", \"#CC0059\", \"#D1004F\", \"#D90045\", \"#E00038\", \"#E6002E\", \"#EB0026\",\n",
    "        \"#EB0026\", \"#F1001E\"\n",
    "    ]\n",
    "    \n",
    "    # Create a figure\n",
    "    fig = go.Figure()\n",
    "    \n",
    "    # Add atoms to the figure\n",
    "    for i in range(len(node_pos_real)):\n",
    "        atom = node_pos_real[i]\n",
    "        fig.add_trace(go.Scatter3d(\n",
    "            x=[atom[0]],\n",
    "            y=[atom[1]],\n",
    "            z=[atom[2]],\n",
    "            mode='markers',\n",
    "            marker=dict(\n",
    "                size=5,\n",
    "                color=jmol_colors[int(node_features[i][0])],\n",
    "            ),\n",
    "            name=f'Atom {i+1}\\n({node_features[i][0]})'\n",
    "        ))\n",
    "\n",
    "    # Add bonds to the figure\n",
    "    for i in range(len(direction[0])):\n",
    "        atom1 = node_pos_real[direction[0][i]]\n",
    "        atom2 = node_pos_real[direction[1][i]]\n",
    "        fig.add_trace(go.Scatter3d(\n",
    "            x=[atom1[0], atom2[0]],\n",
    "            y=[atom1[1], atom2[1]],\n",
    "            z=[atom1[2], atom2[2]],\n",
    "            mode='lines',\n",
    "            line=dict(\n",
    "                color='black',\n",
    "                width=2\n",
    "            ),\n",
    "            name=f'Bond {i+1}\\n({edge_features[i]:.2f})'\n",
    "        ))\n",
    "\n",
    "    # Set layout\n",
    "    fig.update_layout(\n",
    "        scene=dict(\n",
    "            xaxis=dict(title='X'),\n",
    "            yaxis=dict(title='Y'),\n",
    "            zaxis=dict(title='Z')\n",
    "        ),\n",
    "        title='Atom Positions and Bonds',\n",
    "        showlegend=True\n",
    "    )\n",
    "\n",
    "    # Show the figure\n",
    "    fig.show()"
   ]
  },
  {
   "cell_type": "code",
   "execution_count": null,
   "metadata": {},
   "outputs": [],
   "source": [
    "start = timer()\n",
    "# Get distances with MIC (NOTE I don't think this makes a difference as long as pbc=True in the unit cell)\n",
    "unit_cell_dist = unit_cell.get_all_distances(mic=True)\n",
    "unit_cell_atoms = unit_cell.get_atomic_numbers().reshape(-1, 1)\n",
    "\n",
    "# Make supercell to get Lattice constant\n",
    "supercell = make_supercell(unit_cell, np.diag([2,2,2]))\n",
    "# supercell = unit_cell\n",
    "metal_distances = supercell[supercell.get_atomic_numbers() != 8].get_all_distances()\n",
    "lc = np.amin(metal_distances[metal_distances > 0.])\n",
    "\n",
    "# Create edges and node features\n",
    "lc_mask = (unit_cell_dist > 0) & (unit_cell_dist < lc)\n",
    "oxy_mask = np.outer(unit_cell_atoms == 8, unit_cell_atoms == 8)\n",
    "metal_mask = np.outer(unit_cell_atoms != 8, unit_cell_atoms !=8)\n",
    "direction = np.argwhere(lc_mask & ~oxy_mask & ~metal_mask).T\n",
    "\n",
    "edge_features = unit_cell_dist[direction[0], direction[1]]\n",
    "node_features = np.array([\n",
    "    node_feature_table.loc[atom[0]-1].values\n",
    "    for atom in unit_cell_atoms\n",
    "    ], dtype='float')\n",
    "node_pos_real = unit_cell.get_positions()\n",
    "node_pos_relative = unit_cell.get_scaled_positions()\n",
    "\n",
    "stop = timer()\n",
    "print(f'Time to create graph: {stop-start:.2e} s')\n",
    "print(f'Number of edges: {len(direction[0])}')\n",
    "# plot_atoms_and_bonds(node_pos_real, node_features, direction, edge_features)"
   ]
  },
  {
   "cell_type": "code",
   "execution_count": null,
   "metadata": {},
   "outputs": [],
   "source": [
    "start = timer()\n",
    "# Get distances with MIC (NOTE I don't think this makes a difference as long as pbc=True in the unit cell)\n",
    "unit_cell_dist = unit_cell.get_all_distances(mic=True)\n",
    "unit_cell_atoms = unit_cell.get_atomic_numbers().reshape(-1, 1)\n",
    "\n",
    "# metal_filter = np.isin(unit_cell_atoms, metals)\n",
    "\n",
    "# Find node features\n",
    "node_features = np.array([\n",
    "    node_feature_table.loc[atom[0]-1].values\n",
    "    for atom in unit_cell_atoms\n",
    "    ], dtype='float')\n",
    "\n",
    "# Create mask of threshold for bonds\n",
    "bond_threshold = np.zeros_like(unit_cell_dist)\n",
    "for i, r1 in enumerate(node_features[:,1]):\n",
    "    bond_threshold[i,:] = (r1 + node_features[:,1]) / 100 * 1.25\n",
    "np.fill_diagonal(bond_threshold, 0.)\n",
    "\n",
    "# Find edges\n",
    "direction = np.argwhere(unit_cell_dist < bond_threshold).T\n",
    "\n",
    "edge_features = unit_cell_dist[direction[0], direction[1]]\n",
    "\n",
    "node_pos_real = unit_cell.get_positions()\n",
    "node_pos_relative = unit_cell.get_scaled_positions()\n",
    "\n",
    "stop = timer()\n",
    "print(f'Time to create graph: {stop-start:.2e} s')\n",
    "print(f'Number of edges: {len(direction[0])}')\n",
    "# plot_atoms_and_bonds(node_pos_real, node_features, direction, edge_features)"
   ]
  },
  {
   "cell_type": "code",
   "execution_count": null,
   "metadata": {},
   "outputs": [],
   "source": [
    "unit_cell_atoms.T"
   ]
  },
  {
   "cell_type": "code",
   "execution_count": null,
   "metadata": {},
   "outputs": [],
   "source": [
    "direction"
   ]
  },
  {
   "cell_type": "code",
   "execution_count": null,
   "metadata": {},
   "outputs": [],
   "source": [
    "node_pos_relative"
   ]
  },
  {
   "cell_type": "code",
   "execution_count": null,
   "metadata": {},
   "outputs": [],
   "source": [
    "start = timer()\n",
    "# Get distances with MIC (NOTE I don't think this makes a difference as long as pbc=True in the unit cell)\n",
    "unit_cell_dist = unit_cell.get_all_distances(mic=True)\n",
    "unit_cell_atoms = unit_cell.get_atomic_numbers().reshape(-1, 1)\n",
    "\n",
    "# Create edges and node features\n",
    "struc = AseAtomsAdaptor.get_structure(unit_cell)\n",
    "crystal_nn = CrystalNN()\n",
    "strucGraph = StructureGraph.with_local_env_strategy(struc, crystal_nn)\n",
    "direction = np.array(strucGraph.graph.edges)[:,:2].T\n",
    "\n",
    "edge_features = unit_cell_dist[direction[0], direction[1]]\n",
    "node_features = np.array([\n",
    "    node_feature_table.loc[atom[0]-1].values\n",
    "    for atom in unit_cell_atoms\n",
    "    ], dtype='float')\n",
    "node_pos_real = unit_cell.get_positions()\n",
    "node_pos_relative = unit_cell.get_scaled_positions()\n",
    "\n",
    "stop = timer()\n",
    "print(f'Time to create graph: {stop-start:.2e} s')\n",
    "print(f'Number of edges: {len(direction[0])}')\n",
    "# plot_atoms_and_bonds(node_pos_real, node_features, direction, edge_features)"
   ]
  },
  {
   "cell_type": "code",
   "execution_count": null,
   "metadata": {},
   "outputs": [],
   "source": [
    "start = timer()\n",
    "# Get distances with MIC (NOTE I don't think this makes a difference as long as pbc=True in the unit cell)\n",
    "unit_cell_dist = unit_cell.get_all_distances(mic=True)\n",
    "unit_cell_atoms = unit_cell.get_atomic_numbers().reshape(-1, 1)\n",
    "\n",
    "# Create edges and node features\n",
    "struc = AseAtomsAdaptor.get_structure(unit_cell)\n",
    "crystal_nn = CrystalNN(distance_cutoffs=None, x_diff_weight=0.0, porous_adjustment=False)\n",
    "strucGraph = StructureGraph.with_local_env_strategy(struc, crystal_nn)\n",
    "direction = np.array(strucGraph.graph.edges)[:,:2].T\n",
    "\n",
    "edge_features = unit_cell_dist[direction[0], direction[1]]\n",
    "node_features = np.array([\n",
    "    node_feature_table.loc[atom[0]].values\n",
    "    for atom in unit_cell_atoms\n",
    "    ], dtype='float')\n",
    "node_pos_real = unit_cell.get_positions()\n",
    "node_pos_relative = unit_cell.get_scaled_positions()\n",
    "\n",
    "stop = timer()\n",
    "print(f'Time to create graph: {stop-start:.2e} s')\n",
    "print(f'Number of edges: {len(direction[0])}')\n",
    "# plot_atoms_and_bonds(node_pos_real, node_features, direction)"
   ]
  },
  {
   "cell_type": "code",
   "execution_count": null,
   "metadata": {},
   "outputs": [],
   "source": [
    "start = timer()\n",
    "# Get distances with MIC (NOTE I don't think this makes a difference as long as pbc=True in the unit cell)\n",
    "unit_cell_dist = unit_cell.get_all_distances(mic=True)\n",
    "unit_cell_atoms = unit_cell.get_atomic_numbers().reshape(-1, 1)\n",
    "\n",
    "# Create edges and node features\n",
    "struc = AseAtomsAdaptor.get_structure(unit_cell)\n",
    "minimum_nn = MinimumDistanceNN()\n",
    "strucGraph = StructureGraph.with_local_env_strategy(struc, minimum_nn)\n",
    "direction = np.array(strucGraph.graph.edges)[:,:2].T\n",
    "\n",
    "edge_features = unit_cell_dist[direction[0], direction[1]]\n",
    "node_features = np.array([\n",
    "    node_feature_table.loc[atom[0]-1].values\n",
    "    for atom in unit_cell_atoms\n",
    "    ], dtype='float')\n",
    "node_pos_real = unit_cell.get_positions()\n",
    "node_pos_relative = unit_cell.get_scaled_positions()\n",
    "\n",
    "stop = timer()\n",
    "print(f'Time to create graph: {stop-start:.2e} s')\n",
    "print(f'Number of edges: {len(direction[0])}')\n",
    "# plot_atoms_and_bonds(node_pos_real, node_features, direction, edge_features)"
   ]
  },
  {
   "cell_type": "markdown",
   "metadata": {},
   "source": [
    "## Create supercell graph"
   ]
  },
  {
   "cell_type": "code",
   "execution_count": null,
   "metadata": {},
   "outputs": [],
   "source": [
    "r_max = 10 # Maximum radius of the particle\n",
    "cell_dims = unit_cell.cell.cellpar()[:3] # Get the cell dimensions\n",
    "padding = 2 # Symmetric padding to ensure the particle does not exceed the supercell boundary\n",
    "supercell_matrix = np.diag((np.ceil(r_max / cell_dims)) * 2 + padding)\n",
    "supercell = make_supercell(prim=unit_cell, P=supercell_matrix)\n",
    "# supercell = make_supercell(unit_cell, np.diag([2,2,2]))\n",
    "# supercell.center(about=0)\n",
    "supercell.get_positions().max(axis=0)"
   ]
  },
  {
   "cell_type": "code",
   "execution_count": null,
   "metadata": {},
   "outputs": [],
   "source": [
    "cell_dims"
   ]
  },
  {
   "cell_type": "code",
   "execution_count": null,
   "metadata": {},
   "outputs": [],
   "source": [
    "unit_cell.get_positions().max(axis=0)"
   ]
  },
  {
   "cell_type": "code",
   "execution_count": null,
   "metadata": {},
   "outputs": [],
   "source": [
    "view(supercell, viewer='ngl')"
   ]
  },
  {
   "cell_type": "code",
   "execution_count": null,
   "metadata": {},
   "outputs": [],
   "source": [
    "from pymatgen.analysis.local_env import CrystalNN, MinimumDistanceNN, IsayevNN, JmolNN, MinimumOKeeffeNN, MinimumVIRENN, OpenBabelNN, VoronoiNN"
   ]
  },
  {
   "cell_type": "code",
   "execution_count": null,
   "metadata": {},
   "outputs": [],
   "source": [
    "# Setup of structure and local neighborhood strategies\n",
    "struc = AseAtomsAdaptor.get_structure(supercell)\n",
    "crystal_nn = CrystalNN()\n",
    "minDist_nn = MinimumDistanceNN()\n",
    "isayev_nn = IsayevNN()\n",
    "jmol_nn = JmolNN()\n",
    "keeffe_nn = MinimumOKeeffeNN()\n",
    "viree_nn = MinimumVIRENN()\n",
    "voronoi_nn = VoronoiNN()"
   ]
  },
  {
   "cell_type": "code",
   "execution_count": null,
   "metadata": {},
   "outputs": [],
   "source": [
    "# CrystalNN\n",
    "start_crystalNN = timer()\n",
    "# Find edges\n",
    "strucGraph = StructureGraph.with_local_env_strategy(struc, crystal_nn)\n",
    "stop_crystalNN = timer()\n",
    "# Save number of edges\n",
    "nEdges_crystalNN = np.array(strucGraph.graph.edges)[:,:2].T.shape[1]\n"
   ]
  },
  {
   "cell_type": "code",
   "execution_count": null,
   "metadata": {},
   "outputs": [],
   "source": [
    "# MinimumDistanceNN\n",
    "start_minDistNN = timer()\n",
    "# Find edges\n",
    "strucGraph = StructureGraph.with_local_env_strategy(struc, minDist_nn)\n",
    "stop_minDistNN = timer()\n",
    "# Save number of edges\n",
    "nEdges_minDistNN = np.array(strucGraph.graph.edges)[:,:2].T.shape[1]\n",
    "\n"
   ]
  },
  {
   "cell_type": "code",
   "execution_count": null,
   "metadata": {},
   "outputs": [],
   "source": [
    "# IsayevNN\n",
    "start_isayevNN = timer()\n",
    "# Find edges\n",
    "strucGraph = StructureGraph.with_local_env_strategy(struc, isayev_nn)\n",
    "stop_isayevNN = timer()\n",
    "# Save number of edges\n",
    "nEdges_isayevNN = np.array(strucGraph.graph.edges)[:,:2].T.shape[1]\n",
    "\n"
   ]
  },
  {
   "cell_type": "code",
   "execution_count": null,
   "metadata": {},
   "outputs": [],
   "source": [
    "# JmolNN\n",
    "start_jmolNN = timer()\n",
    "# Find edges\n",
    "strucGraph = StructureGraph.with_local_env_strategy(struc, jmol_nn)\n",
    "stop_jmolNN = timer()\n",
    "# Save number of edges\n",
    "nEdges_jmolNN = np.array(strucGraph.graph.edges)[:,:2].T.shape[1]\n",
    "\n"
   ]
  },
  {
   "cell_type": "code",
   "execution_count": null,
   "metadata": {},
   "outputs": [],
   "source": [
    "# MinimumOKeeffeNN\n",
    "start_okeeffeNN = timer()\n",
    "# Find edges\n",
    "strucGraph = StructureGraph.with_local_env_strategy(struc, keeffe_nn)\n",
    "stop_okeeffeNN = timer()\n",
    "# Save number of edges\n",
    "nEdges_okeeffeNN = np.array(strucGraph.graph.edges)[:,:2].T.shape[1]\n",
    "\n"
   ]
  },
  {
   "cell_type": "code",
   "execution_count": null,
   "metadata": {},
   "outputs": [],
   "source": [
    "# MinimumVIRENN\n",
    "start_vireeNN = timer()\n",
    "# Find edges\n",
    "strucGraph = StructureGraph.with_local_env_strategy(struc, viree_nn)\n",
    "stop_vireeNN = timer()\n",
    "# Save number of edges\n",
    "nEdges_vireeNN = np.array(strucGraph.graph.edges)[:,:2].T.shape[1]\n",
    "\n"
   ]
  },
  {
   "cell_type": "code",
   "execution_count": null,
   "metadata": {},
   "outputs": [],
   "source": [
    "# VoronoiNN\n",
    "start_voronoiNN = timer()\n",
    "# Find edges\n",
    "strucGraph = StructureGraph.with_local_env_strategy(struc, voronoi_nn)\n",
    "stop_voronoiNN = timer()\n",
    "# Save number of edges\n",
    "nEdges_voronoiNN = np.array(strucGraph.graph.edges)[:,:2].T.shape[1]\n",
    "\n"
   ]
  },
  {
   "cell_type": "code",
   "execution_count": null,
   "metadata": {},
   "outputs": [],
   "source": [
    "print('Timing results:')\n",
    "print('_________________________________________________________')\n",
    "print('Method | Time (s) | Number of edges')\n",
    "print('_________________________________________________________')\n",
    "print(f'CrystalNN | {stop_crystalNN-start_crystalNN:.2e} | {nEdges_crystalNN}')\n",
    "print(f'MinimumDistanceNN | {stop_minDistNN-start_minDistNN:.2e} | {nEdges_minDistNN}')\n",
    "# print(f'IsayevNN | {stop_isayevNN-start_isayevNN:.2e} | {nEdges_isayevNN}')\n",
    "print(f'JmolNN | {stop_jmolNN-start_jmolNN:.2e} | {nEdges_jmolNN}')\n",
    "print(f'MinimumOKeeffeNN | {stop_okeeffeNN-start_okeeffeNN:.2e} | {nEdges_okeeffeNN}')\n",
    "# print(f'MinimumVIRENN | {stop_vireeNN-start_vireeNN:.2e} | {nEdges_vireeNN}')\n",
    "# print(f'VoronoiNN | {stop_voronoiNN-start_voronoiNN:.2e} | {nEdges_voronoiNN}')\n",
    "print('_________________________________________________________')"
   ]
  },
  {
   "cell_type": "code",
   "execution_count": null,
   "metadata": {},
   "outputs": [],
   "source": [
    "start = timer()\n",
    "supercell_dist = supercell.get_all_distances(mic=False)\n",
    "supercell_atoms = supercell.get_atomic_numbers().reshape(-1, 1)\n",
    "\n",
    "# Create edges and node features\n",
    "struc = AseAtomsAdaptor.get_structure(supercell)\n",
    "crystal_nn = CrystalNN()\n",
    "strucGraph = StructureGraph.with_local_env_strategy(struc, crystal_nn)\n",
    "direction = np.array(strucGraph.graph.edges)[:,:2].T\n",
    "\n",
    "edge_features = supercell_dist[direction[0], direction[1]]\n",
    "node_features = np.array([\n",
    "    node_feature_table.loc[atom[0]].values\n",
    "    for atom in supercell_atoms\n",
    "    ], dtype='float')\n",
    "node_pos_real = supercell.get_positions()\n",
    "node_pos_relative = supercell.get_scaled_positions()\n",
    "\n",
    "stop = timer()\n",
    "print(f'Time to create graph: {stop-start:.2f} s')\n",
    "print(f'Number of edges: {len(direction[0])}')\n",
    "#plot_atoms_and_bonds(node_pos_real, node_features, direction)"
   ]
  },
  {
   "cell_type": "code",
   "execution_count": null,
   "metadata": {},
   "outputs": [],
   "source": [
    "start = timer()\n",
    "# Get distances with MIC (NOTE I don't think this makes a difference as long as pbc=True in the unit cell)\n",
    "supercell_dist = supercell.get_all_distances(mic=False)\n",
    "supercell_atoms = supercell.get_atomic_numbers().reshape(-1, 1)\n",
    "\n",
    "# metal_filter = np.isin(unit_cell_atoms, metals)\n",
    "\n",
    "# Find node features\n",
    "node_features = np.array([\n",
    "    node_feature_table.loc[atom[0]-1].values\n",
    "    for atom in supercell_atoms\n",
    "    ], dtype='float')\n",
    "\n",
    "# Create mask of threshold for bonds\n",
    "bond_threshold = np.zeros_like(supercell_dist)\n",
    "for i, r1 in enumerate(node_features[:,1]):\n",
    "    bond_threshold[i,:] = (r1 + node_features[:,1]) / 100 * 1.25\n",
    "np.fill_diagonal(bond_threshold, 0.)\n",
    "\n",
    "# Find edges\n",
    "direction = np.argwhere(supercell_dist < bond_threshold).T\n",
    "\n",
    "# Handle case with no edges\n",
    "if len(direction[0]) == 0:\n",
    "    min_dist = np.amin(supercell_dist[supercell_dist > 0])\n",
    "    direction = np.argwhere(supercell_dist < min_dist * 1.1).T\n",
    "    \n",
    "edge_features = supercell_dist[direction[0], direction[1]]\n",
    "\n",
    "node_pos_real = supercell.get_positions()\n",
    "node_pos_relative = supercell.get_scaled_positions()\n",
    "\n",
    "stop = timer()\n",
    "print(f'Time to create graph: {stop-start:.2e} s')\n",
    "print(f'Number of edges: {len(direction[0])}')\n",
    "#plot_atoms_and_bonds(node_pos_real, node_features, direction, edge_features)"
   ]
  },
  {
   "cell_type": "code",
   "execution_count": null,
   "metadata": {},
   "outputs": [],
   "source": [
    "len(direction[0])"
   ]
  },
  {
   "cell_type": "code",
   "execution_count": null,
   "metadata": {},
   "outputs": [],
   "source": [
    "start = timer()\n",
    "supercell_dist = supercell.get_all_distances(mic=False)\n",
    "supercell_atoms = supercell.get_atomic_numbers().reshape(-1, 1)\n",
    "\n",
    "# Create edges and node features\n",
    "struc = AseAtomsAdaptor.get_structure(supercell)\n",
    "crystal_nn = CrystalNN(distance_cutoffs=None, x_diff_weight=0.0, porous_adjustment=False)\n",
    "strucGraph = StructureGraph.with_local_env_strategy(struc, crystal_nn)\n",
    "direction = np.array(strucGraph.graph.edges)[:,:2].T\n",
    "\n",
    "edge_features = supercell_dist[direction[0], direction[1]]\n",
    "node_features = np.array([\n",
    "    node_feature_table.loc[atom[0]].values\n",
    "    for atom in supercell_atoms\n",
    "    ], dtype='float')\n",
    "node_pos_real = supercell.get_positions()\n",
    "node_pos_relative = supercell.get_scaled_positions()\n",
    "\n",
    "stop = timer()\n",
    "print(f'Time to create graph: {stop-start:.2f} s')\n",
    "print(f'Number of edges: {len(direction[0])}')\n",
    "#plot_atoms_and_bonds(node_pos_real, node_features, direction)"
   ]
  },
  {
   "cell_type": "code",
   "execution_count": null,
   "metadata": {},
   "outputs": [],
   "source": [
    "start = timer()\n",
    "supercell_dist = supercell.get_all_distances(mic=False)\n",
    "supercell_atoms = supercell.get_atomic_numbers().reshape(-1, 1)\n",
    "\n",
    "# Create edges and node features\n",
    "struc = AseAtomsAdaptor.get_structure(supercell)\n",
    "minDist_nn = MinimumDistanceNN()\n",
    "strucGraph = StructureGraph.with_local_env_strategy(struc, minDist_nn)\n",
    "direction = np.array(strucGraph.graph.edges)[:,:2].T\n",
    "\n",
    "edge_features = supercell_dist[direction[0], direction[1]]\n",
    "node_features = np.array([\n",
    "    node_feature_table.loc[atom[0]].values\n",
    "    for atom in supercell_atoms\n",
    "    ], dtype='float')\n",
    "node_pos_real = supercell.get_positions()\n",
    "node_pos_relative = supercell.get_scaled_positions()\n",
    "\n",
    "stop = timer()\n",
    "print(f'Time to create graph: {stop-start:.2f} s')\n",
    "print(f'Number of edges: {len(direction[0])}')\n",
    "#plot_atoms_and_bonds(node_pos_real, node_features, direction)\n"
   ]
  },
  {
   "cell_type": "markdown",
   "metadata": {},
   "source": [
    "## Misc"
   ]
  },
  {
   "cell_type": "code",
   "execution_count": null,
   "metadata": {},
   "outputs": [],
   "source": [
    "from mendeleev import element\n",
    "from mendeleev.fetch import fetch_table"
   ]
  },
  {
   "cell_type": "code",
   "execution_count": null,
   "metadata": {},
   "outputs": [],
   "source": [
    "node_feature_table = fetch_table('elements')[['atomic_number', 'atomic_radius', 'atomic_weight', 'electron_affinity']]"
   ]
  },
  {
   "cell_type": "code",
   "execution_count": null,
   "metadata": {},
   "outputs": [],
   "source": [
    "node_feature_table.describe()"
   ]
  },
  {
   "cell_type": "code",
   "execution_count": null,
   "metadata": {},
   "outputs": [],
   "source": [
    "node_feature_table['electron_affinity'].fillna(0.0, inplace=True)"
   ]
  },
  {
   "cell_type": "code",
   "execution_count": null,
   "metadata": {},
   "outputs": [],
   "source": [
    "node_feature_table['atomic_radius']"
   ]
  },
  {
   "cell_type": "code",
   "execution_count": null,
   "metadata": {},
   "outputs": [],
   "source": [
    "node_feature_table.describe()"
   ]
  },
  {
   "cell_type": "code",
   "execution_count": null,
   "metadata": {},
   "outputs": [],
   "source": [
    "import numpy as np\n",
    "\n",
    "# Define the element symbol\n",
    "element_symbol = 'O'\n",
    "\n",
    "# Get the row corresponding to the element symbol\n",
    "element_row = node_feature_table[node_feature_table['symbol'] == element_symbol]\n",
    "\n",
    "# Extract the required features as a numpy array\n",
    "element_features = element_row[['atomic_number', 'atomic_radius', 'atomic_weight', 'electron_affinity']].to_numpy()\n"
   ]
  },
  {
   "cell_type": "code",
   "execution_count": null,
   "metadata": {},
   "outputs": [],
   "source": [
    "element_features.flatten()"
   ]
  },
  {
   "cell_type": "markdown",
   "metadata": {},
   "source": [
    "# Load and inspect data"
   ]
  },
  {
   "cell_type": "code",
   "execution_count": null,
   "metadata": {},
   "outputs": [],
   "source": [
    "from Code.datasetClass import InOrgMatDatasets\n",
    "from pathlib import Path\n",
    "import seaborn as sns\n",
    "import matplotlib.pyplot as plt\n",
    "import warnings\n",
    "from mendeleev import element\n",
    "from tqdm.auto import tqdm\n",
    "warnings.simplefilter(action='ignore') # , category=FutureWarning\n",
    "\n",
    "dataset = InOrgMatDatasets('Simulated_rmax60', root='./Dataset/')"
   ]
  },
  {
   "cell_type": "code",
   "execution_count": null,
   "metadata": {},
   "outputs": [],
   "source": [
    "dataset.create_data_split()\n",
    "dataset.create_data_split(split_strategy='stratified', stratify_on='Crystal type')"
   ]
  },
  {
   "cell_type": "code",
   "execution_count": null,
   "metadata": {},
   "outputs": [],
   "source": [
    "dataset.load_data_split(split_strategy='stratified', stratify_on='Crystal type')"
   ]
  },
  {
   "cell_type": "code",
   "execution_count": null,
   "metadata": {},
   "outputs": [],
   "source": [
    "idx = 1\n",
    "print(dataset.len())\n",
    "print(dataset.get(idx).y['atomic_species'])\n",
    "print(dataset.get(idx))"
   ]
  },
  {
   "cell_type": "code",
   "execution_count": null,
   "metadata": {},
   "outputs": [],
   "source": [
    "print(dataset.len(split='train'), dataset.len(split='validation'), dataset.len(split='test'))\n",
    "dataset.get(1, split='test')"
   ]
  },
  {
   "cell_type": "markdown",
   "metadata": {},
   "source": [
    "## Create .xyz file"
   ]
  },
  {
   "cell_type": "code",
   "execution_count": null,
   "metadata": {},
   "outputs": [],
   "source": [
    "# Loop over all indices in the dataset\n",
    "for idx in tqdm(range(dataset.len())):\n",
    "    # Get the sample at an index\n",
    "    # idx = 9\n",
    "    sample = dataset.get(idx)\n",
    "\n",
    "    # Extract the absolute coordinates and atomic numbers\n",
    "    coords = sample.pos_abs.numpy()\n",
    "    atomic_numbers = sample.x[:,0].numpy().astype(int)\n",
    "    n_atoms = sample.y['n_atoms']\n",
    "\n",
    "    # Write the .xyz file\n",
    "    with open(f'./Dataset/xyz/SimulatedTest2/{idx}.xyz', 'w') as f:\n",
    "        f.write(f'{n_atoms}\\n')\n",
    "        f.write('\\n')\n",
    "        for i in range(n_atoms):\n",
    "            f.write(f'{element(int(atomic_numbers[i])).symbol} {coords[i,0]} {coords[i,1]} {coords[i,2]}\\n')\n"
   ]
  },
  {
   "cell_type": "markdown",
   "metadata": {},
   "source": [
    "## Plotting and statistics"
   ]
  },
  {
   "cell_type": "code",
   "execution_count": null,
   "metadata": {},
   "outputs": [],
   "source": [
    "plt.figure(figsize=(10, 6))\n",
    "plt.plot(*dataset.get(540, split='train').y['xPDF'])\n",
    "plt.ylabel('Intensity (a.u.)')\n",
    "plt.xlabel('r ($\\AA$)')\n",
    "plt.show()"
   ]
  },
  {
   "cell_type": "code",
   "execution_count": null,
   "metadata": {},
   "outputs": [],
   "source": [
    "stats = dataset.get_statistics(return_dataframe=True)\n",
    "stats.head()"
   ]
  },
  {
   "cell_type": "code",
   "execution_count": null,
   "metadata": {},
   "outputs": [],
   "source": [
    "stats.describe()"
   ]
  },
  {
   "cell_type": "code",
   "execution_count": null,
   "metadata": {},
   "outputs": [],
   "source": [
    "stats[stats['# of edges'] == 0]"
   ]
  },
  {
   "cell_type": "code",
   "execution_count": null,
   "metadata": {},
   "outputs": [],
   "source": [
    "sns.scatterplot(data=stats, x='# of nodes', y='# of edges', hue='Crystal type')\n",
    "plt.show()"
   ]
  },
  {
   "cell_type": "code",
   "execution_count": null,
   "metadata": {},
   "outputs": [],
   "source": [
    "palette = sns.color_palette('tab10')\n",
    "color_dict = {'Train': palette[0], 'Validation': palette[1], 'Test': palette[2]}\n",
    "hue_order = ['Train', 'Validation', 'Test']"
   ]
  },
  {
   "cell_type": "code",
   "execution_count": null,
   "metadata": {},
   "outputs": [],
   "source": [
    "plt.figure(figsize=(15,5))\n",
    "ax = sns.histplot(data=stats, x='NP size (Å)', binwidth=0.5, hue='Random data split', multiple='layer',kde=True, kde_kws=dict(bw_method=0.1), line_kws=dict(linewidth=2), stat='count', palette=color_dict, hue_order=hue_order)\n",
    "sns.move_legend(ax, loc='lower center', bbox_to_anchor=(0.5, 1), ncol=3)\n",
    "plt.tight_layout()\n",
    "# plt.savefig('./test_stats_sizeDist.png', format='png', dpi=300)\n",
    "plt.show()\n",
    "\n",
    "plt.figure(figsize=(15,5))\n",
    "ax = sns.histplot(data=stats, x='NP size (Å)', binwidth=0.5, hue='Stratified data split (Crystal type)', multiple='layer',kde=True, kde_kws=dict(bw_method=0.1), line_kws=dict(linewidth=2), stat='count', palette=color_dict, hue_order=hue_order)\n",
    "sns.move_legend(ax, loc='lower center', bbox_to_anchor=(0.5, 1), ncol=3)\n",
    "plt.tight_layout()\n",
    "# plt.savefig('./test_stats_sizeDist.png', format='png', dpi=300)\n",
    "plt.show()"
   ]
  },
  {
   "cell_type": "code",
   "execution_count": null,
   "metadata": {},
   "outputs": [],
   "source": [
    "plt.figure(figsize=(10,5))\n",
    "ax = sns.histplot(data=stats, x='Crystal type', hue='Random data split', multiple='dodge', palette=color_dict, hue_order=hue_order)\n",
    "# ax = sns.histplot(data=stats, x='Crystal type', hue='Stratified data split (Crystal type)', multiple='dodge', palette=color_dict, hue_order=hue_order)\n",
    "sns.move_legend(ax, loc='lower center', bbox_to_anchor=(0.5, 1), ncol=3)\n",
    "plt.tight_layout()\n",
    "# plt.savefig('./test_stats_crystalTypes.png', format='png', dpi=300)\n",
    "plt.show()\n",
    "\n",
    "plt.figure(figsize=(10,5))\n",
    "#ax = sns.histplot(data=stats, x='Crystal type', hue='Random data split', multiple='dodge', palette=color_dict, hue_order=hue_order)\n",
    "ax = sns.histplot(data=stats, x='Crystal type', hue='Stratified data split (Crystal type)', multiple='dodge', palette=color_dict, hue_order=hue_order)\n",
    "sns.move_legend(ax, loc='lower center', bbox_to_anchor=(0.5, 1), ncol=3)\n",
    "plt.tight_layout()\n",
    "# plt.savefig('./test_stats_crystalTypes.png', format='png', dpi=300)\n",
    "plt.show()"
   ]
  },
  {
   "cell_type": "code",
   "execution_count": null,
   "metadata": {},
   "outputs": [],
   "source": [
    "ax = sns.pairplot(data=stats.drop('Elements', axis=1), hue='Random data split', diag_kws=dict(bw_method=0.1), palette=color_dict, hue_order=hue_order)\n",
    "# ax = sns.pairplot(data=stats.drop('Elements', axis=1), hue='Stratified data split (Crystal type)', diag_kws=dict(bw_method=0.1), palette=color_dict, hue_order=hue_order)\n",
    "# ax = sns.pairplot(data=stats.drop('Elements', axis=1), diag_kws=dict(bw_method=0.1))\n",
    "sns.move_legend(ax, loc='lower center', bbox_to_anchor=(0.5, 1), ncol=3)\n",
    "plt.tight_layout()\n",
    "# plt.savefig('./test_stats_pairplot.png', format='png', dpi=300)\n",
    "plt.show()\n",
    "\n",
    "#ax = sns.pairplot(data=stats, hue='Random data split', diag_kws=dict(bw_method=0.1))\n",
    "ax = sns.pairplot(data=stats.drop('Elements', axis=1), hue='Stratified data split (Crystal type)', diag_kws=dict(bw_method=0.1), palette=color_dict, hue_order=hue_order)\n",
    "# ax = sns.pairplot(data=stats.drop('Elements', axis=1), diag_kws=dict(bw_method=0.1))\n",
    "sns.move_legend(ax, loc='lower center', bbox_to_anchor=(0.5, 1), ncol=3)\n",
    "plt.tight_layout()\n",
    "# plt.savefig('./test_stats_pairplot.png', format='png', dpi=300)\n",
    "plt.show()"
   ]
  },
  {
   "cell_type": "code",
   "execution_count": null,
   "metadata": {},
   "outputs": [],
   "source": [
    "stats.columns"
   ]
  }
 ],
 "metadata": {
  "kernelspec": {
   "display_name": "cvae",
   "language": "python",
   "name": "python3"
  },
  "language_info": {
   "codemirror_mode": {
    "name": "ipython",
    "version": 3
   },
   "file_extension": ".py",
   "mimetype": "text/x-python",
   "name": "python",
   "nbconvert_exporter": "python",
   "pygments_lexer": "ipython3",
   "version": "3.10.13"
  },
  "orig_nbformat": 4
 },
 "nbformat": 4,
 "nbformat_minor": 2
}
