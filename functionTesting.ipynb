{
 "cells": [
  {
   "cell_type": "code",
   "execution_count": 1,
   "metadata": {},
   "outputs": [],
   "source": [
    "# Imports\n",
    "from Code.h5Constructor import h5Constructor"
   ]
  },
  {
   "cell_type": "code",
   "execution_count": 2,
   "metadata": {},
   "outputs": [],
   "source": [
    "gc = h5Constructor('./Dataset/CIFs/Train/', './Dataset/h5/Train_pip/')"
   ]
  },
  {
   "cell_type": "code",
   "execution_count": 3,
   "metadata": {},
   "outputs": [
    {
     "name": "stdout",
     "output_type": "stream",
     "text": [
      "\n",
      "Constructing graphs from cif files:\n"
     ]
    },
    {
     "name": "stderr",
     "output_type": "stream",
     "text": [
      "  0%|          | 0/28 [00:00<?, ?it/s]"
     ]
    },
    {
     "name": "stderr",
     "output_type": "stream",
     "text": [
      "\n",
      "\u001b[A\n",
      "\u001b[A\n",
      "\u001b[A\n",
      "  4%|▎         | 1/28 [00:08<03:47,  8.43s/it]\n",
      "\u001b[A\n",
      "\u001b[A\n",
      "\u001b[A\n",
      "  7%|▋         | 2/28 [00:31<07:26, 17.16s/it]\n",
      "\u001b[A\n",
      "\u001b[A\n",
      "\u001b[A\n",
      " 11%|█         | 3/28 [00:35<04:38, 11.14s/it]\n",
      "\u001b[A\n",
      "\u001b[A\n",
      "\u001b[A\n",
      " 14%|█▍        | 4/28 [00:37<02:59,  7.49s/it]\n",
      "\u001b[A\n",
      "\u001b[A\n",
      "\u001b[A\n",
      " 18%|█▊        | 5/28 [00:43<02:35,  6.78s/it]\n",
      "\u001b[A\n",
      "\u001b[A\n",
      "\u001b[A\n",
      " 21%|██▏       | 6/28 [00:46<02:01,  5.51s/it]\n",
      "\u001b[A\n",
      "\u001b[A\n",
      "\u001b[A\n",
      " 25%|██▌       | 7/28 [00:48<01:32,  4.42s/it]\n",
      "\u001b[A\n",
      "\u001b[A\n",
      "\u001b[A\n",
      " 29%|██▊       | 8/28 [00:53<01:36,  4.81s/it]\n",
      "\u001b[A\n",
      "\u001b[A\n",
      "\u001b[A\n",
      " 32%|███▏      | 9/28 [01:16<03:19, 10.48s/it]\n",
      "\u001b[A\n",
      "\u001b[A\n",
      "\u001b[A\n",
      " 36%|███▌      | 10/28 [01:21<02:33,  8.51s/it]\n",
      "\u001b[A\n",
      "\u001b[A\n",
      "\u001b[A\n",
      " 39%|███▉      | 11/28 [01:23<01:52,  6.59s/it]\n",
      "\u001b[A\n",
      "\u001b[A\n",
      "\u001b[A\n",
      " 43%|████▎     | 12/28 [01:28<01:39,  6.23s/it]\n",
      "\u001b[A\n",
      "\u001b[A\n",
      "\u001b[A\n",
      " 46%|████▋     | 13/28 [01:31<01:19,  5.32s/it]\n",
      "\u001b[A\n",
      "\u001b[A\n",
      "\u001b[A\n",
      " 50%|█████     | 14/28 [01:34<01:02,  4.46s/it]\n",
      "\u001b[A\n",
      "\u001b[A\n",
      "\u001b[A\n",
      " 54%|█████▎    | 15/28 [01:40<01:05,  5.07s/it]\n",
      "\u001b[A\n",
      "\u001b[A\n",
      "\u001b[A\n",
      " 57%|█████▋    | 16/28 [02:05<02:11, 10.94s/it]\n",
      "\u001b[A\n",
      "\u001b[A\n",
      "\u001b[A\n",
      " 61%|██████    | 17/28 [02:09<01:38,  8.91s/it]\n",
      "\u001b[A\n",
      "\u001b[A\n",
      "\u001b[A\n",
      " 64%|██████▍   | 18/28 [02:11<01:07,  6.79s/it]\n",
      "\u001b[A\n",
      "\u001b[A\n",
      "\u001b[A\n",
      " 68%|██████▊   | 19/28 [02:17<00:58,  6.55s/it]\n",
      "\u001b[A\n",
      "\u001b[A\n",
      "\u001b[A\n",
      " 71%|███████▏  | 20/28 [02:20<00:44,  5.57s/it]\n",
      "\u001b[A\n",
      "\u001b[A\n",
      "\u001b[A\n",
      " 75%|███████▌  | 21/28 [02:23<00:32,  4.67s/it]\n",
      "\u001b[A\n",
      "\u001b[A\n",
      "\u001b[A\n",
      " 79%|███████▊  | 22/28 [02:29<00:30,  5.04s/it]\n",
      "\u001b[A\n",
      "\u001b[A\n",
      "\u001b[A\n",
      " 82%|████████▏ | 23/28 [02:53<00:53, 10.73s/it]\n",
      "\u001b[A\n",
      "\u001b[A\n",
      "\u001b[A\n",
      " 86%|████████▌ | 24/28 [02:57<00:35,  8.82s/it]\n",
      "\u001b[A\n",
      "\u001b[A\n",
      "\u001b[A\n",
      " 89%|████████▉ | 25/28 [02:59<00:20,  6.69s/it]\n",
      "\u001b[A\n",
      "\u001b[A\n",
      "\u001b[A\n",
      " 93%|█████████▎| 26/28 [03:04<00:12,  6.37s/it]\n",
      "\u001b[A\n",
      "\u001b[A\n",
      "\u001b[A\n",
      " 96%|█████████▋| 27/28 [03:08<00:05,  5.44s/it]\n",
      "\u001b[A\n",
      "\u001b[A\n",
      "\u001b[A\n",
      "100%|██████████| 28/28 [03:10<00:00,  6.80s/it]\n"
     ]
    }
   ],
   "source": [
    "gc.gen_h5s(parallelize=False)"
   ]
  },
  {
   "cell_type": "code",
   "execution_count": null,
   "metadata": {},
   "outputs": [
    {
     "name": "stderr",
     "output_type": "stream",
     "text": [
      "Downloading https://sid.erda.dk/share_redirect/HiFeydCIqA/DatasetTest.zip\n",
      "Extracting Dataset/DatasetTest/raw/DatasetTest.zip\n",
      "Processing...\n",
      "Done!\n"
     ]
    }
   ],
   "source": [
    "from Code.datasetClass import InOrgMatDatasets\n",
    "\n",
    "test = InOrgMatDatasets('DatasetTest', root='./Dataset/', force_update=False)"
   ]
  },
  {
   "cell_type": "code",
   "execution_count": null,
   "metadata": {},
   "outputs": [
    {
     "data": {
      "text/plain": [
       "Data(\n",
       "  x=[12, 4],\n",
       "  edge_index=[2, 64],\n",
       "  edge_attr=[88],\n",
       "  y={\n",
       "    crystal_type='Flourite',\n",
       "    atomic_species=[2],\n",
       "    cell_params=[6],\n",
       "    np_size=11.59610962646957,\n",
       "    nd=[2, 580],\n",
       "    xrd=[2, 580],\n",
       "    nPDF=[2, 301],\n",
       "    xPDF=[2, 301],\n",
       "    sans=[2, 300],\n",
       "    saxs=[2, 300]\n",
       "  },\n",
       "  pos=[12, 3],\n",
       "  pos_real=[12, 3]\n",
       ")"
      ]
     },
     "execution_count": 2,
     "metadata": {},
     "output_type": "execute_result"
    }
   ],
   "source": [
    "test.get(15, data_split='train')"
   ]
  },
  {
   "cell_type": "code",
   "execution_count": 3,
   "metadata": {},
   "outputs": [
    {
     "data": {
      "application/vnd.jupyter.widget-view+json": {
       "model_id": "88d19963176a4f40ab65fcd7eb6c2654",
       "version_major": 2,
       "version_minor": 0
      },
      "text/plain": [
       "Cleaning CIFs:   0%|          | 0/1824 [00:00<?, ?it/s]"
      ]
     },
     "metadata": {},
     "output_type": "display_data"
    },
    {
     "name": "stdout",
     "output_type": "stream",
     "text": [
      "Summary of corrected errors in cif dataset\n",
      "\n",
      "\tRemoved: 40\n",
      "\tLoop error: 1\n",
      "\tPrecision error: 474\n",
      "\tParenthesis error: 1\n",
      "\tUnwanted atom: 0\n",
      "\tTimeout: 0\n",
      "\n",
      "\n",
      "Duplicate CIFs removed!\n",
      "1784 CIFs --> 303 CIFs\n"
     ]
    }
   ],
   "source": [
    "import Code.cifCleaning as cc\n",
    "import pandas as pd\n",
    "\n",
    "df = cc.cif_cleaning_pipeline('./Dataset/CIFs/ICSD_MonoMetalOxides/', remove_duplicates=True, unwanted_atoms=None, chunksize=1000)"
   ]
  }
 ],
 "metadata": {
  "kernelspec": {
   "display_name": "cvae",
   "language": "python",
   "name": "python3"
  },
  "language_info": {
   "codemirror_mode": {
    "name": "ipython",
    "version": 3
   },
   "file_extension": ".py",
   "mimetype": "text/x-python",
   "name": "python",
   "nbconvert_exporter": "python",
   "pygments_lexer": "ipython3",
   "version": "3.7.16"
  },
  "orig_nbformat": 4
 },
 "nbformat": 4,
 "nbformat_minor": 2
}
