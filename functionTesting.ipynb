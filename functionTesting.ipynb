{
 "cells": [
  {
   "cell_type": "markdown",
   "metadata": {},
   "source": [
    "# Generate Data"
   ]
  },
  {
   "cell_type": "code",
   "execution_count": 1,
   "metadata": {},
   "outputs": [],
   "source": [
    "# Imports\n",
    "from pathlib import Path\n",
    "from tqdm import tqdm\n",
    "from elements import elements\n",
    "from mendeleev import element\n",
    "\n",
    "from Code.cifSimulation import structureGenerator\n",
    "from Code.h5Constructor import h5Constructor\n",
    "\n",
    "import cProfile"
   ]
  },
  {
   "cell_type": "markdown",
   "metadata": {},
   "source": [
    "## Cif generation"
   ]
  },
  {
   "cell_type": "code",
   "execution_count": null,
   "metadata": {},
   "outputs": [],
   "source": [
    "# Path to dataset\n",
    "datasetPath = './Dataset/CIFs/SimulatedTest2/'\n",
    "\n",
    "# Initialize the CIF generator\n",
    "generator = structureGenerator()\n",
    "\n",
    "# Maximum number of atom species in generated structures\n",
    "n_species = 2\n",
    "\n",
    "# Choose required atoms to use\n",
    "required_atoms = ['O']\n",
    "\n",
    "# Choose optional atoms to use\n",
    "metals = [atom.Symbol for atom in elements.Alkali_Metals] \n",
    "metals += [atom.Symbol for atom in elements.Alkaline_Earth_Metals] \n",
    "metals += [atom.Symbol for atom in elements.Transition_Metals] \n",
    "metals += [atom.Symbol for atom in elements.Metalloids] \n",
    "metals += [atom.Symbol for atom in elements.Others]\n",
    "\n",
    "optional_atoms = []\n",
    "for metal in metals:\n",
    "    try:\n",
    "        elm_data = element(metal)\n",
    "        if elm_data.metallic_radius or elm_data.atomic_radius:\n",
    "            optional_atoms.append(metal)\n",
    "        else:\n",
    "            print(f'Removed {metal} from dataset as no table values were available.')\n",
    "    except:\n",
    "        print(f'Removed {metal} from dataset as no table values were available.')\n",
    "optional_atoms = ['Zn', 'Nb']\n",
    "\n",
    "# Simulate mono-metal oxides\n",
    "generator.create_cif_dataset(\n",
    "    n_species=n_species,\n",
    "    required_atoms=required_atoms,\n",
    "    optional_atoms=optional_atoms,\n",
    "    from_table_values=False,\n",
    "    save_folder=datasetPath,\n",
    ")"
   ]
  },
  {
   "cell_type": "markdown",
   "metadata": {},
   "source": [
    "## Query COD"
   ]
  },
  {
   "cell_type": "code",
   "execution_count": null,
   "metadata": {},
   "outputs": [],
   "source": [
    "from pathlib import Path\n",
    "import requests\n",
    "import zipfile\n",
    "import io\n",
    "from multiprocessing import Pool, cpu_count\n",
    "from itertools import islice, repeat\n",
    "from tqdm.auto import tqdm\n",
    "import argparse\n",
    "from elements import elements\n",
    "from mendeleev import element\n",
    "import pandas as pd"
   ]
  },
  {
   "cell_type": "code",
   "execution_count": null,
   "metadata": {},
   "outputs": [],
   "source": [
    "metals = [atom.Symbol for atom in elements.Alkali_Metals] \n",
    "metals += [atom.Symbol for atom in elements.Alkaline_Earth_Metals] \n",
    "metals += [atom.Symbol for atom in elements.Transition_Metals] \n",
    "metals += [atom.Symbol for atom in elements.Metalloids] \n",
    "metals += [atom.Symbol for atom in elements.Others] # Post-transition metals\n",
    "metals += ['La', 'Ce', 'Pr', 'Nd', 'Pm', 'Sm', 'Eu', 'Gd', 'Tb',\n",
    "           'Dy', 'Ho', 'Er', 'Tm', 'Yb', 'Lu'] # Lanthanides\n",
    "\n",
    "# Remove elements that does not have a well defined radius or are rare in nanoparticles\n",
    "unwanted_elements = ['Fr', 'Po', 'Rf', 'Db', 'Sg', 'Bh', 'Hs', 'Mt', 'Uub', 'Uun', 'Uuu']\n",
    "for elm in unwanted_elements:\n",
    "    metals.remove(elm)\n",
    "    \n",
    "print(len(metals))"
   ]
  },
  {
   "cell_type": "code",
   "execution_count": null,
   "metadata": {},
   "outputs": [],
   "source": [
    "non_metals = [atom.Symbol for atom in elements.Non_Metals]\n",
    "non_metals += [atom.Symbol for atom in elements.Halogens]\n",
    "non_metals.remove('At')\n",
    "\n",
    "print(len(non_metals))"
   ]
  },
  {
   "cell_type": "code",
   "execution_count": null,
   "metadata": {},
   "outputs": [],
   "source": [
    "# Find all possible two element combinations of metals and non-metals\n",
    "combinations = []\n",
    "for metal in metals:\n",
    "    for non_metal in non_metals:\n",
    "        combinations.append(([metal, non_metal], []))\n",
    "\n",
    "for metal in metals:\n",
    "    combinations.append(([metal], non_metals))\n",
    "\n",
    "print(len(combinations))"
   ]
  },
  {
   "cell_type": "code",
   "execution_count": null,
   "metadata": {},
   "outputs": [],
   "source": [
    "def queryCOD_new(input_tuple):\n",
    "    (included_atoms, excluded_atoms), max_volume = input_tuple\n",
    "\n",
    "    id_url = 'https://www.crystallography.net/cod/result?format=lst'\n",
    "    if included_atoms:\n",
    "        for i, included_atom in enumerate(included_atoms):\n",
    "            id_url += f'&el{i+1}={included_atom}'\n",
    "    if excluded_atoms:\n",
    "        for i, excluded_atom in enumerate(excluded_atoms):\n",
    "            id_url += f'&nel{i+1}={excluded_atom}'\n",
    "    if max_volume:\n",
    "        id_url += f'&vmax={max_volume}'\n",
    "    \n",
    "    id_response = requests.get(id_url)\n",
    "\n",
    "    return id_response.text.split('\\n')"
   ]
  },
  {
   "cell_type": "code",
   "execution_count": null,
   "metadata": {},
   "outputs": [],
   "source": [
    "inputs = zip(combinations, repeat(1000))\n",
    "id_list = []\n",
    "with Pool(processes=cpu_count()-1) as pool:\n",
    "    with tqdm(total=len(combinations), desc='Querying COD') as pbar:\n",
    "        for returned_ids in pool.imap_unordered(queryCOD_new, inputs, chunksize=1):\n",
    "            id_list.extend(returned_ids)\n",
    "            pbar.update()"
   ]
  },
  {
   "cell_type": "code",
   "execution_count": null,
   "metadata": {},
   "outputs": [],
   "source": [
    "df_ids = pd.DataFrame(id_list)\n",
    "print(len(df_ids))\n",
    "df_ids = df_ids.drop_duplicates()\n",
    "print(len(df_ids))\n",
    "df_ids.to_csv('./test_cif_IDs.csv', index=False, header=False)"
   ]
  },
  {
   "cell_type": "code",
   "execution_count": null,
   "metadata": {},
   "outputs": [],
   "source": [
    "from Code.cifCleaning import cif_cleaning_pipeline\n",
    "from Code.databaseQuery import queryCOD\n",
    "\n",
    "# Path to dataset\n",
    "cif_folder = './Dataset/CIFs/COD_subset/'\n",
    "\n",
    "# Path to CIF ID list\n",
    "id_list_path = './COD_subset_IDs.csv'\n",
    "\n",
    "queryCOD(cif_folder, id_file=id_list_path)"
   ]
  },
  {
   "cell_type": "code",
   "execution_count": null,
   "metadata": {},
   "outputs": [],
   "source": [
    "df_cifs = cif_cleaning_pipeline(cif_folder, chunksize=100)"
   ]
  },
  {
   "cell_type": "code",
   "execution_count": null,
   "metadata": {},
   "outputs": [],
   "source": [
    "df_cifs.head()"
   ]
  },
  {
   "cell_type": "code",
   "execution_count": null,
   "metadata": {},
   "outputs": [],
   "source": [
    "df_cifs[(df_cifs['Element0'] == 6) & (df_cifs['Element1'] == 8) & (df_cifs['Element2'].isna())]"
   ]
  },
  {
   "cell_type": "code",
   "execution_count": null,
   "metadata": {},
   "outputs": [],
   "source": [
    "from ase.io import read\n",
    "cif = read(df_cifs['filepath'].iloc[19477], format='cif')"
   ]
  },
  {
   "cell_type": "code",
   "execution_count": null,
   "metadata": {},
   "outputs": [],
   "source": [
    "cif.symbols"
   ]
  },
  {
   "cell_type": "code",
   "execution_count": null,
   "metadata": {},
   "outputs": [],
   "source": [
    "metals"
   ]
  },
  {
   "cell_type": "code",
   "execution_count": null,
   "metadata": {},
   "outputs": [],
   "source": [
    "metal_numbers = [element(metal).atomic_number for metal in metals]\n",
    "metal_numbers"
   ]
  },
  {
   "cell_type": "code",
   "execution_count": null,
   "metadata": {},
   "outputs": [],
   "source": [
    "# df_cifs.columns.difference(['filepath', 'Spacegroup'])\n",
    "contains_metals = df_cifs.apply(lambda row: any(atom in metal_numbers for atom in row[2:].values), axis=1)"
   ]
  },
  {
   "cell_type": "code",
   "execution_count": null,
   "metadata": {},
   "outputs": [],
   "source": [
    "sum(~contains_metals)"
   ]
  },
  {
   "cell_type": "code",
   "execution_count": null,
   "metadata": {},
   "outputs": [],
   "source": [
    "df_cifs[~contains_metals]"
   ]
  },
  {
   "cell_type": "code",
   "execution_count": null,
   "metadata": {},
   "outputs": [],
   "source": [
    "# Cout nan values\n",
    "df_cifs[df_cifs['Element1'].isna()].sort_values(by='filepath')"
   ]
  },
  {
   "cell_type": "code",
   "execution_count": null,
   "metadata": {},
   "outputs": [],
   "source": [
    "from ase.io import read\n",
    "from tqdm.auto import trange\n",
    "metal_cifs = df_cifs[df_cifs['Element1'].isna()].sort_values(by='filepath')\n"
   ]
  },
  {
   "cell_type": "code",
   "execution_count": null,
   "metadata": {},
   "outputs": [],
   "source": [
    "unit_cell = read(metal_cifs['filepath'].iloc[7].replace('_cleaned', ''))\n",
    "print(unit_cell.get_chemical_formula())\n",
    "print(unit_cell.get_chemical_symbols())\n",
    "print(unit_cell.cell.cellpar())\n"
   ]
  },
  {
   "cell_type": "code",
   "execution_count": null,
   "metadata": {},
   "outputs": [],
   "source": [
    "df_cifs.columns"
   ]
  },
  {
   "cell_type": "code",
   "execution_count": null,
   "metadata": {},
   "outputs": [],
   "source": [
    "columns = ['Spacegroup', 'Element0', 'Element1', 'Element2',\n",
    "       'Element3', 'Element4', 'Element5', 'Element6', 'Element7', 'Element8',\n",
    "       'Element9', 'Element10']\n",
    "for i in trange(len(df_cifs)):\n",
    "    specific_row = df_cifs.iloc[i]\n",
    "\n",
    "    duplicate_cifs = df_cifs[(df_cifs[columns] == specific_row[columns]).all(axis=1)]\n",
    "    if len(duplicate_cifs) > 0:\n",
    "        print(specific_row)\n",
    "        print(duplicate_cifs.head())\n",
    "        break\n",
    "\n"
   ]
  },
  {
   "cell_type": "markdown",
   "metadata": {},
   "source": [
    "## .h5 generation"
   ]
  },
  {
   "cell_type": "code",
   "execution_count": 2,
   "metadata": {},
   "outputs": [
    {
     "name": "stdout",
     "output_type": "stream",
     "text": [
      "Rutile_MoO2\n",
      "NaCl_MoO\n",
      "AntiFluorite_Co2O\n",
      "Wurtzite_IrO\n",
      "AntiFluorite_Pt2O\n",
      "Wurtzite_CoO\n",
      "ReO3_IrO3\n",
      "Wurtzite_MoO\n",
      "Spinel_FeFe2O4\n",
      "CdI2_FeO2\n",
      "AntiFluorite_Mo2O\n",
      "Rutile_IrO2\n",
      "Rutile_PtO2\n",
      "ReO3_PtO3\n",
      "AntiFluorite_Fe2O\n",
      "NaCl_PtO\n",
      "CdI2_CoO2\n",
      "Wurtzite_PtO\n",
      "NaCl_FeO\n",
      "NaCl_IrO\n",
      "Wurtzite_FeO\n",
      "CdI2_MoO2\n",
      "Fluorite_FeO2\n",
      "Spinel_PtPt2O4\n",
      "Spinel_MoMo2O4\n",
      "Fluorite_CoO2\n",
      "Fluorite_PtO2\n",
      "Rutile_FeO2\n",
      "CdI2_PtO2\n",
      "ReO3_CoO3\n",
      "Fluorite_MoO2\n",
      "ReO3_MoO3\n",
      "Spinel_IrIr2O4\n",
      "AntiFluorite_Ir2O\n",
      "ReO3_FeO3\n",
      "Rutile_CoO2\n",
      "NaCl_CoO\n",
      "Spinel_CoCo2O4\n",
      "Fluorite_IrO2\n",
      "CdI2_IrO2\n"
     ]
    }
   ],
   "source": [
    "gc = h5Constructor(cif_dir='./Dataset/CIFs/SimulatedTest/', save_dir='./Dataset/h5/SimulatedTest2/')\n",
    "# cProfile.run('gc.gen_h5s(parallelize=False, device=\"cuda\")', sort='tottime')\n",
    "gc.gen_h5s(parallelize=False, device='cuda', np_radii=[5, 10, 15, 20, 25])"
   ]
  },
  {
   "cell_type": "markdown",
   "metadata": {},
   "source": [
    "## Create unit cell graph"
   ]
  },
  {
   "cell_type": "code",
   "execution_count": 2,
   "metadata": {},
   "outputs": [],
   "source": [
    "#%% Imports\n",
    "import os, sys, math, torch\n",
    "from mendeleev import element\n",
    "from mendeleev.fetch import fetch_table\n",
    "import numpy as np\n",
    "from tqdm.auto import tqdm\n",
    "import h5py\n",
    "from itertools import repeat\n",
    "from multiprocessing import Pool, cpu_count\n",
    "from pathlib import Path\n",
    "from torch_geometric.data import Data\n",
    "from torch_geometric.utils import to_networkx\n",
    "from networkx.algorithms.components import is_connected\n",
    "from ase.io import read\n",
    "from ase.build import make_supercell\n",
    "from ase.spacegroup import get_spacegroup\n",
    "from ase.visualize import view\n",
    "# from Code.simScatteringPatterns import simPDFs, cif_to_NP_GPU\n",
    "from debyecalculator import DebyeCalculator\n",
    "from elements import elements\n",
    "from mendeleev import element\n",
    "from pymatgen.analysis.graphs import StructureGraph\n",
    "from pymatgen.core.structure import Structure\n",
    "from pymatgen.analysis.local_env import CrystalNN, MinimumDistanceNN\n",
    "from pymatgen.io.ase import AseAtomsAdaptor\n",
    "from timeit import default_timer as timer"
   ]
  },
  {
   "cell_type": "code",
   "execution_count": 3,
   "metadata": {},
   "outputs": [
    {
     "name": "stderr",
     "output_type": "stream",
     "text": [
      "/home/ufj/anaconda3/envs/dataset_env/lib/python3.10/site-packages/ase/io/cif.py:401: UserWarning: crystal system 'tetragonal' is not interpreted for space group Spacegroup(88, setting=1). This may result in wrong setting!\n",
      "  warnings.warn(\n",
      "/home/ufj/anaconda3/envs/dataset_env/lib/python3.10/site-packages/ase/spacegroup/spacegroup.py:433: UserWarning: scaled_positions 0 and 2 are equivalent\n",
      "  warnings.warn('scaled_positions %d and %d '\n",
      "/home/ufj/anaconda3/envs/dataset_env/lib/python3.10/site-packages/ase/spacegroup/spacegroup.py:433: UserWarning: scaled_positions 1 and 3 are equivalent\n",
      "  warnings.warn('scaled_positions %d and %d '\n",
      "/home/ufj/anaconda3/envs/dataset_env/lib/python3.10/site-packages/ase/spacegroup/spacegroup.py:433: UserWarning: scaled_positions 1 and 5 are equivalent\n",
      "  warnings.warn('scaled_positions %d and %d '\n",
      "/home/ufj/anaconda3/envs/dataset_env/lib/python3.10/site-packages/ase/spacegroup/spacegroup.py:433: UserWarning: scaled_positions 4 and 6 are equivalent\n",
      "  warnings.warn('scaled_positions %d and %d '\n",
      "/home/ufj/anaconda3/envs/dataset_env/lib/python3.10/site-packages/ase/spacegroup/spacegroup.py:433: UserWarning: scaled_positions 1 and 7 are equivalent\n",
      "  warnings.warn('scaled_positions %d and %d '\n"
     ]
    }
   ],
   "source": [
    "# Path to cif file\n",
    "# cif = './Dataset/CIFs/COD_subset_cleaned/1000023.cif'\n",
    "#cif = './Dataset/CIFs/COD_subset_cleaned/1008022.cif'\n",
    "cif = './Dataset/CIFs/COD_subset_cleaned/5910132.cif'\n",
    "\n",
    "# Load cif\n",
    "unit_cell = read(cif)\n",
    "\n",
    "# Find spacegroup\n",
    "spacegroup = get_spacegroup(unit_cell)"
   ]
  },
  {
   "cell_type": "code",
   "execution_count": 4,
   "metadata": {},
   "outputs": [
    {
     "data": {
      "text/plain": [
       "array([[0.        , 3.70130214, 3.70130214, ..., 5.74189944, 1.17578831,\n",
       "        4.28343538],\n",
       "       [3.70130214, 0.        , 6.85058574, ..., 2.72219005, 4.28343538,\n",
       "        5.74189944],\n",
       "       [3.70130214, 6.85058574, 0.        , ..., 4.28343538, 2.72219005,\n",
       "        1.17578831],\n",
       "       ...,\n",
       "       [5.74189944, 2.72219005, 4.28343538, ..., 0.        , 6.3706946 ,\n",
       "        3.24457236],\n",
       "       [1.17578831, 4.28343538, 2.72219005, ..., 6.3706946 , 0.        ,\n",
       "        3.24457236],\n",
       "       [4.28343538, 5.74189944, 1.17578831, ..., 3.24457236, 3.24457236,\n",
       "        0.        ]])"
      ]
     },
     "execution_count": 4,
     "metadata": {},
     "output_type": "execute_result"
    }
   ],
   "source": [
    "unit_cell.get_all_distances(mic=True)"
   ]
  },
  {
   "cell_type": "code",
   "execution_count": null,
   "metadata": {},
   "outputs": [],
   "source": [
    "unit_cell.get_chemical_symbols()"
   ]
  },
  {
   "cell_type": "code",
   "execution_count": null,
   "metadata": {},
   "outputs": [],
   "source": [
    "unit_cell.get_scaled_positions()"
   ]
  },
  {
   "cell_type": "code",
   "execution_count": null,
   "metadata": {},
   "outputs": [],
   "source": [
    "# view(unit_cell, viewer='ngl')"
   ]
  },
  {
   "cell_type": "code",
   "execution_count": null,
   "metadata": {},
   "outputs": [],
   "source": [
    "node_feature_table = fetch_table('elements')[['atomic_number', 'atomic_radius', 'atomic_weight', 'electron_affinity']]\n",
    "node_feature_table['electron_affinity'].fillna(0.0, inplace=True)\n",
    "\n",
    "# Metals of interest\n",
    "metals = [atom.Symbol for atom in elements.Alkali_Metals] \n",
    "metals += [atom.Symbol for atom in elements.Alkaline_Earth_Metals] \n",
    "metals += [atom.Symbol for atom in elements.Transition_Metals] \n",
    "metals += [atom.Symbol for atom in elements.Metalloids] \n",
    "metals += [atom.Symbol for atom in elements.Others] # Post-transition metals\n",
    "metals += ['La', 'Ce', 'Pr', 'Nd', 'Pm', 'Sm', 'Eu', 'Gd', 'Tb',\n",
    "        'Dy', 'Ho', 'Er', 'Tm', 'Yb', 'Lu'] # Lanthanides\n",
    "\n",
    "# Remove elements that does not have a well defined radius or are rare in nanoparticles\n",
    "unwanted_elements = ['Fr', 'Po', 'Rf', 'Db', 'Sg', 'Bh', 'Hs', 'Mt', 'Uub', 'Uun', 'Uuu']\n",
    "for elm in unwanted_elements:\n",
    "    metals.remove(elm)\n",
    "    \n",
    "# Convert to atomic numbers\n",
    "metals = [element(metal).atomic_number for metal in metals]"
   ]
  },
  {
   "cell_type": "code",
   "execution_count": null,
   "metadata": {},
   "outputs": [],
   "source": [
    "import plotly.graph_objects as go\n",
    "\n",
    "def plot_atoms_and_bonds(node_pos_real, node_features, direction, edge_features):\n",
    "    \n",
    "    jmol_colors = [\n",
    "        \"#FFFFFF\", \"#8F8F8F\", \"#D9FFFF\", \"#CC80FF\", \"#C2FF00\", \"#FFB5B5\", \"#909090\", \"#3050F8\", \"#FF0D0D\", \"#90E050\",\n",
    "        \"#B3E3F5\", \"#AB5CF2\", \"#8AFF00\", \"#BFA6A6\", \"#F0C8A0\", \"#FF8000\", \"#FFFF30\", \"#1FF01F\", \"#80D1E3\", \"#8F40D4\",\n",
    "        \"#3DFF00\", \"#E6E6E6\", \"#BFC2C7\", \"#A6A6AB\", \"#8A99C7\", \"#9C7AC7\", \"#E06633\", \"#F090A0\", \"#50D050\", \"#C88033\",\n",
    "        \"#7D80B0\", \"#C28F8F\", \"#668F8F\", \"#BD80E3\", \"#FFA100\", \"#A62929\", \"#5CB8D1\", \"#702EB0\", \"#00FF00\", \"#94FFFF\",\n",
    "        \"#94E0E0\", \"#73C2C9\", \"#54B5B5\", \"#3B9E9E\", \"#248F8F\", \"#0A7D8C\", \"#006985\", \"#C0C0C0\", \"#FFD98F\", \"#A67573\",\n",
    "        \"#668080\", \"#9E63B5\", \"#D47A00\", \"#940094\", \"#429EB0\", \"#57178F\", \"#00C900\", \"#70D4FF\", \"#FFFFC7\", \"#D9FFC7\",\n",
    "        \"#C7FFC7\", \"#A3FFC7\", \"#8FFFC7\", \"#61FFC7\", \"#45FFC7\", \"#30FFC7\", \"#1FFFC7\", \"#00FF9C\", \"#00E675\", \"#00D452\",\n",
    "        \"#00BF38\", \"#00AB24\", \"#4DC2FF\", \"#4DA6FF\", \"#2194D6\", \"#267DAB\", \"#266696\", \"#175487\", \"#D0D0E0\", \"#FFD123\",\n",
    "        \"#B8B8D0\", \"#A6544D\", \"#575961\", \"#9E4FB5\", \"#AB5C00\", \"#754F45\", \"#428296\", \"#420066\", \"#007D00\", \"#70ABFA\",\n",
    "        \"#00BAFF\", \"#00A1FF\", \"#008FFF\", \"#0080FF\", \"#006BFF\", \"#545CF2\", \"#785CE3\", \"#8A4FE3\", \"#A136D4\", \"#B31FD4\",\n",
    "        \"#B31FBA\", \"#B30DA6\", \"#BD0D87\", \"#C70066\", \"#CC0059\", \"#D1004F\", \"#D90045\", \"#E00038\", \"#E6002E\", \"#EB0026\",\n",
    "        \"#EB0026\", \"#F1001E\"\n",
    "    ]\n",
    "    \n",
    "    # Create a figure\n",
    "    fig = go.Figure()\n",
    "    \n",
    "    # Add atoms to the figure\n",
    "    for i in range(len(node_pos_real)):\n",
    "        atom = node_pos_real[i]\n",
    "        fig.add_trace(go.Scatter3d(\n",
    "            x=[atom[0]],\n",
    "            y=[atom[1]],\n",
    "            z=[atom[2]],\n",
    "            mode='markers',\n",
    "            marker=dict(\n",
    "                size=5,\n",
    "                color=jmol_colors[int(node_features[i][0])],\n",
    "            ),\n",
    "            name=f'Atom {i+1}\\n({node_features[i][0]})'\n",
    "        ))\n",
    "\n",
    "    # Add bonds to the figure\n",
    "    for i in range(len(direction[0])):\n",
    "        atom1 = node_pos_real[direction[0][i]]\n",
    "        atom2 = node_pos_real[direction[1][i]]\n",
    "        fig.add_trace(go.Scatter3d(\n",
    "            x=[atom1[0], atom2[0]],\n",
    "            y=[atom1[1], atom2[1]],\n",
    "            z=[atom1[2], atom2[2]],\n",
    "            mode='lines',\n",
    "            line=dict(\n",
    "                color='black',\n",
    "                width=2\n",
    "            ),\n",
    "            name=f'Bond {i+1}\\n({edge_features[i]:.2f})'\n",
    "        ))\n",
    "\n",
    "    # Set layout\n",
    "    fig.update_layout(\n",
    "        scene=dict(\n",
    "            xaxis=dict(title='X'),\n",
    "            yaxis=dict(title='Y'),\n",
    "            zaxis=dict(title='Z')\n",
    "        ),\n",
    "        title='Atom Positions and Bonds',\n",
    "        showlegend=True\n",
    "    )\n",
    "\n",
    "    # Show the figure\n",
    "    fig.show()"
   ]
  },
  {
   "cell_type": "code",
   "execution_count": null,
   "metadata": {},
   "outputs": [],
   "source": [
    "start = timer()\n",
    "# Get distances with MIC (NOTE I don't think this makes a difference as long as pbc=True in the unit cell)\n",
    "unit_cell_dist = unit_cell.get_all_distances(mic=True)\n",
    "unit_cell_atoms = unit_cell.get_atomic_numbers().reshape(-1, 1)\n",
    "\n",
    "# Make supercell to get Lattice constant\n",
    "supercell = make_supercell(unit_cell, np.diag([2,2,2]))\n",
    "# supercell = unit_cell\n",
    "metal_distances = supercell[supercell.get_atomic_numbers() != 8].get_all_distances()\n",
    "lc = np.amin(metal_distances[metal_distances > 0.])\n",
    "\n",
    "# Create edges and node features\n",
    "lc_mask = (unit_cell_dist > 0) & (unit_cell_dist < lc)\n",
    "oxy_mask = np.outer(unit_cell_atoms == 8, unit_cell_atoms == 8)\n",
    "metal_mask = np.outer(unit_cell_atoms != 8, unit_cell_atoms !=8)\n",
    "direction = np.argwhere(lc_mask & ~oxy_mask & ~metal_mask).T\n",
    "\n",
    "edge_features = unit_cell_dist[direction[0], direction[1]]\n",
    "node_features = np.array([\n",
    "    node_feature_table.loc[atom[0]-1].values\n",
    "    for atom in unit_cell_atoms\n",
    "    ], dtype='float')\n",
    "node_pos_real = unit_cell.get_positions()\n",
    "node_pos_relative = unit_cell.get_scaled_positions()\n",
    "\n",
    "stop = timer()\n",
    "print(f'Time to create graph: {stop-start:.2e} s')\n",
    "print(f'Number of edges: {len(direction[0])}')\n",
    "# plot_atoms_and_bonds(node_pos_real, node_features, direction, edge_features)"
   ]
  },
  {
   "cell_type": "code",
   "execution_count": null,
   "metadata": {},
   "outputs": [],
   "source": [
    "start = timer()\n",
    "# Get distances with MIC (NOTE I don't think this makes a difference as long as pbc=True in the unit cell)\n",
    "unit_cell_dist = unit_cell.get_all_distances(mic=True)\n",
    "unit_cell_atoms = unit_cell.get_atomic_numbers().reshape(-1, 1)\n",
    "\n",
    "# metal_filter = np.isin(unit_cell_atoms, metals)\n",
    "\n",
    "# Find node features\n",
    "node_features = np.array([\n",
    "    node_feature_table.loc[atom[0]-1].values\n",
    "    for atom in unit_cell_atoms\n",
    "    ], dtype='float')\n",
    "\n",
    "# Create mask of threshold for bonds\n",
    "bond_threshold = np.zeros_like(unit_cell_dist)\n",
    "for i, r1 in enumerate(node_features[:,1]):\n",
    "    bond_threshold[i,:] = (r1 + node_features[:,1]) / 100 * 1.25\n",
    "np.fill_diagonal(bond_threshold, 0.)\n",
    "\n",
    "# Find edges\n",
    "direction = np.argwhere(unit_cell_dist < bond_threshold).T\n",
    "\n",
    "edge_features = unit_cell_dist[direction[0], direction[1]]\n",
    "\n",
    "node_pos_real = unit_cell.get_positions()\n",
    "node_pos_relative = unit_cell.get_scaled_positions()\n",
    "\n",
    "stop = timer()\n",
    "print(f'Time to create graph: {stop-start:.2e} s')\n",
    "print(f'Number of edges: {len(direction[0])}')\n",
    "# plot_atoms_and_bonds(node_pos_real, node_features, direction, edge_features)"
   ]
  },
  {
   "cell_type": "code",
   "execution_count": null,
   "metadata": {},
   "outputs": [],
   "source": [
    "unit_cell_atoms.T"
   ]
  },
  {
   "cell_type": "code",
   "execution_count": null,
   "metadata": {},
   "outputs": [],
   "source": [
    "direction"
   ]
  },
  {
   "cell_type": "code",
   "execution_count": null,
   "metadata": {},
   "outputs": [],
   "source": [
    "node_pos_relative"
   ]
  },
  {
   "cell_type": "code",
   "execution_count": null,
   "metadata": {},
   "outputs": [],
   "source": [
    "start = timer()\n",
    "# Get distances with MIC (NOTE I don't think this makes a difference as long as pbc=True in the unit cell)\n",
    "unit_cell_dist = unit_cell.get_all_distances(mic=True)\n",
    "unit_cell_atoms = unit_cell.get_atomic_numbers().reshape(-1, 1)\n",
    "\n",
    "# Create edges and node features\n",
    "struc = AseAtomsAdaptor.get_structure(unit_cell)\n",
    "crystal_nn = CrystalNN()\n",
    "strucGraph = StructureGraph.with_local_env_strategy(struc, crystal_nn)\n",
    "direction = np.array(strucGraph.graph.edges)[:,:2].T\n",
    "\n",
    "edge_features = unit_cell_dist[direction[0], direction[1]]\n",
    "node_features = np.array([\n",
    "    node_feature_table.loc[atom[0]-1].values\n",
    "    for atom in unit_cell_atoms\n",
    "    ], dtype='float')\n",
    "node_pos_real = unit_cell.get_positions()\n",
    "node_pos_relative = unit_cell.get_scaled_positions()\n",
    "\n",
    "stop = timer()\n",
    "print(f'Time to create graph: {stop-start:.2e} s')\n",
    "print(f'Number of edges: {len(direction[0])}')\n",
    "# plot_atoms_and_bonds(node_pos_real, node_features, direction, edge_features)"
   ]
  },
  {
   "cell_type": "code",
   "execution_count": null,
   "metadata": {},
   "outputs": [],
   "source": [
    "start = timer()\n",
    "# Get distances with MIC (NOTE I don't think this makes a difference as long as pbc=True in the unit cell)\n",
    "unit_cell_dist = unit_cell.get_all_distances(mic=True)\n",
    "unit_cell_atoms = unit_cell.get_atomic_numbers().reshape(-1, 1)\n",
    "\n",
    "# Create edges and node features\n",
    "struc = AseAtomsAdaptor.get_structure(unit_cell)\n",
    "crystal_nn = CrystalNN(distance_cutoffs=None, x_diff_weight=0.0, porous_adjustment=False)\n",
    "strucGraph = StructureGraph.with_local_env_strategy(struc, crystal_nn)\n",
    "direction = np.array(strucGraph.graph.edges)[:,:2].T\n",
    "\n",
    "edge_features = unit_cell_dist[direction[0], direction[1]]\n",
    "node_features = np.array([\n",
    "    node_feature_table.loc[atom[0]].values\n",
    "    for atom in unit_cell_atoms\n",
    "    ], dtype='float')\n",
    "node_pos_real = unit_cell.get_positions()\n",
    "node_pos_relative = unit_cell.get_scaled_positions()\n",
    "\n",
    "stop = timer()\n",
    "print(f'Time to create graph: {stop-start:.2e} s')\n",
    "print(f'Number of edges: {len(direction[0])}')\n",
    "# plot_atoms_and_bonds(node_pos_real, node_features, direction)"
   ]
  },
  {
   "cell_type": "code",
   "execution_count": null,
   "metadata": {},
   "outputs": [],
   "source": [
    "start = timer()\n",
    "# Get distances with MIC (NOTE I don't think this makes a difference as long as pbc=True in the unit cell)\n",
    "unit_cell_dist = unit_cell.get_all_distances(mic=True)\n",
    "unit_cell_atoms = unit_cell.get_atomic_numbers().reshape(-1, 1)\n",
    "\n",
    "# Create edges and node features\n",
    "struc = AseAtomsAdaptor.get_structure(unit_cell)\n",
    "minimum_nn = MinimumDistanceNN()\n",
    "strucGraph = StructureGraph.with_local_env_strategy(struc, minimum_nn)\n",
    "direction = np.array(strucGraph.graph.edges)[:,:2].T\n",
    "\n",
    "edge_features = unit_cell_dist[direction[0], direction[1]]\n",
    "node_features = np.array([\n",
    "    node_feature_table.loc[atom[0]-1].values\n",
    "    for atom in unit_cell_atoms\n",
    "    ], dtype='float')\n",
    "node_pos_real = unit_cell.get_positions()\n",
    "node_pos_relative = unit_cell.get_scaled_positions()\n",
    "\n",
    "stop = timer()\n",
    "print(f'Time to create graph: {stop-start:.2e} s')\n",
    "print(f'Number of edges: {len(direction[0])}')\n",
    "# plot_atoms_and_bonds(node_pos_real, node_features, direction, edge_features)"
   ]
  },
  {
   "cell_type": "markdown",
   "metadata": {},
   "source": [
    "## Create supercell graph"
   ]
  },
  {
   "cell_type": "code",
   "execution_count": null,
   "metadata": {},
   "outputs": [],
   "source": [
    "r_max = 10 # Maximum radius of the particle\n",
    "cell_dims = unit_cell.cell.cellpar()[:3] # Get the cell dimensions\n",
    "padding = 2 # Symmetric padding to ensure the particle does not exceed the supercell boundary\n",
    "supercell_matrix = np.diag((np.ceil(r_max / cell_dims)) * 2 + padding)\n",
    "supercell = make_supercell(prim=unit_cell, P=supercell_matrix)\n",
    "# supercell = make_supercell(unit_cell, np.diag([2,2,2]))\n",
    "# supercell.center(about=0)\n",
    "supercell.get_positions().max(axis=0)"
   ]
  },
  {
   "cell_type": "code",
   "execution_count": null,
   "metadata": {},
   "outputs": [],
   "source": [
    "cell_dims"
   ]
  },
  {
   "cell_type": "code",
   "execution_count": null,
   "metadata": {},
   "outputs": [],
   "source": [
    "unit_cell.get_positions().max(axis=0)"
   ]
  },
  {
   "cell_type": "code",
   "execution_count": null,
   "metadata": {},
   "outputs": [],
   "source": [
    "view(supercell, viewer='ngl')"
   ]
  },
  {
   "cell_type": "code",
   "execution_count": null,
   "metadata": {},
   "outputs": [],
   "source": [
    "from pymatgen.analysis.local_env import CrystalNN, MinimumDistanceNN, IsayevNN, JmolNN, MinimumOKeeffeNN, MinimumVIRENN, OpenBabelNN, VoronoiNN"
   ]
  },
  {
   "cell_type": "code",
   "execution_count": null,
   "metadata": {},
   "outputs": [],
   "source": [
    "# Setup of structure and local neighborhood strategies\n",
    "struc = AseAtomsAdaptor.get_structure(supercell)\n",
    "crystal_nn = CrystalNN()\n",
    "minDist_nn = MinimumDistanceNN()\n",
    "isayev_nn = IsayevNN()\n",
    "jmol_nn = JmolNN()\n",
    "keeffe_nn = MinimumOKeeffeNN()\n",
    "viree_nn = MinimumVIRENN()\n",
    "voronoi_nn = VoronoiNN()"
   ]
  },
  {
   "cell_type": "code",
   "execution_count": null,
   "metadata": {},
   "outputs": [],
   "source": [
    "# CrystalNN\n",
    "start_crystalNN = timer()\n",
    "# Find edges\n",
    "strucGraph = StructureGraph.with_local_env_strategy(struc, crystal_nn)\n",
    "stop_crystalNN = timer()\n",
    "# Save number of edges\n",
    "nEdges_crystalNN = np.array(strucGraph.graph.edges)[:,:2].T.shape[1]\n"
   ]
  },
  {
   "cell_type": "code",
   "execution_count": null,
   "metadata": {},
   "outputs": [],
   "source": [
    "# MinimumDistanceNN\n",
    "start_minDistNN = timer()\n",
    "# Find edges\n",
    "strucGraph = StructureGraph.with_local_env_strategy(struc, minDist_nn)\n",
    "stop_minDistNN = timer()\n",
    "# Save number of edges\n",
    "nEdges_minDistNN = np.array(strucGraph.graph.edges)[:,:2].T.shape[1]\n",
    "\n"
   ]
  },
  {
   "cell_type": "code",
   "execution_count": null,
   "metadata": {},
   "outputs": [],
   "source": [
    "# IsayevNN\n",
    "start_isayevNN = timer()\n",
    "# Find edges\n",
    "strucGraph = StructureGraph.with_local_env_strategy(struc, isayev_nn)\n",
    "stop_isayevNN = timer()\n",
    "# Save number of edges\n",
    "nEdges_isayevNN = np.array(strucGraph.graph.edges)[:,:2].T.shape[1]\n",
    "\n"
   ]
  },
  {
   "cell_type": "code",
   "execution_count": null,
   "metadata": {},
   "outputs": [],
   "source": [
    "# JmolNN\n",
    "start_jmolNN = timer()\n",
    "# Find edges\n",
    "strucGraph = StructureGraph.with_local_env_strategy(struc, jmol_nn)\n",
    "stop_jmolNN = timer()\n",
    "# Save number of edges\n",
    "nEdges_jmolNN = np.array(strucGraph.graph.edges)[:,:2].T.shape[1]\n",
    "\n"
   ]
  },
  {
   "cell_type": "code",
   "execution_count": null,
   "metadata": {},
   "outputs": [],
   "source": [
    "# MinimumOKeeffeNN\n",
    "start_okeeffeNN = timer()\n",
    "# Find edges\n",
    "strucGraph = StructureGraph.with_local_env_strategy(struc, keeffe_nn)\n",
    "stop_okeeffeNN = timer()\n",
    "# Save number of edges\n",
    "nEdges_okeeffeNN = np.array(strucGraph.graph.edges)[:,:2].T.shape[1]\n",
    "\n"
   ]
  },
  {
   "cell_type": "code",
   "execution_count": null,
   "metadata": {},
   "outputs": [],
   "source": [
    "# MinimumVIRENN\n",
    "start_vireeNN = timer()\n",
    "# Find edges\n",
    "strucGraph = StructureGraph.with_local_env_strategy(struc, viree_nn)\n",
    "stop_vireeNN = timer()\n",
    "# Save number of edges\n",
    "nEdges_vireeNN = np.array(strucGraph.graph.edges)[:,:2].T.shape[1]\n",
    "\n"
   ]
  },
  {
   "cell_type": "code",
   "execution_count": null,
   "metadata": {},
   "outputs": [],
   "source": [
    "# VoronoiNN\n",
    "start_voronoiNN = timer()\n",
    "# Find edges\n",
    "strucGraph = StructureGraph.with_local_env_strategy(struc, voronoi_nn)\n",
    "stop_voronoiNN = timer()\n",
    "# Save number of edges\n",
    "nEdges_voronoiNN = np.array(strucGraph.graph.edges)[:,:2].T.shape[1]\n",
    "\n"
   ]
  },
  {
   "cell_type": "code",
   "execution_count": null,
   "metadata": {},
   "outputs": [],
   "source": [
    "print('Timing results:')\n",
    "print('_________________________________________________________')\n",
    "print('Method | Time (s) | Number of edges')\n",
    "print('_________________________________________________________')\n",
    "print(f'CrystalNN | {stop_crystalNN-start_crystalNN:.2e} | {nEdges_crystalNN}')\n",
    "print(f'MinimumDistanceNN | {stop_minDistNN-start_minDistNN:.2e} | {nEdges_minDistNN}')\n",
    "# print(f'IsayevNN | {stop_isayevNN-start_isayevNN:.2e} | {nEdges_isayevNN}')\n",
    "print(f'JmolNN | {stop_jmolNN-start_jmolNN:.2e} | {nEdges_jmolNN}')\n",
    "print(f'MinimumOKeeffeNN | {stop_okeeffeNN-start_okeeffeNN:.2e} | {nEdges_okeeffeNN}')\n",
    "# print(f'MinimumVIRENN | {stop_vireeNN-start_vireeNN:.2e} | {nEdges_vireeNN}')\n",
    "# print(f'VoronoiNN | {stop_voronoiNN-start_voronoiNN:.2e} | {nEdges_voronoiNN}')\n",
    "print('_________________________________________________________')"
   ]
  },
  {
   "cell_type": "code",
   "execution_count": null,
   "metadata": {},
   "outputs": [],
   "source": [
    "start = timer()\n",
    "supercell_dist = supercell.get_all_distances(mic=False)\n",
    "supercell_atoms = supercell.get_atomic_numbers().reshape(-1, 1)\n",
    "\n",
    "# Create edges and node features\n",
    "struc = AseAtomsAdaptor.get_structure(supercell)\n",
    "crystal_nn = CrystalNN()\n",
    "strucGraph = StructureGraph.with_local_env_strategy(struc, crystal_nn)\n",
    "direction = np.array(strucGraph.graph.edges)[:,:2].T\n",
    "\n",
    "edge_features = supercell_dist[direction[0], direction[1]]\n",
    "node_features = np.array([\n",
    "    node_feature_table.loc[atom[0]].values\n",
    "    for atom in supercell_atoms\n",
    "    ], dtype='float')\n",
    "node_pos_real = supercell.get_positions()\n",
    "node_pos_relative = supercell.get_scaled_positions()\n",
    "\n",
    "stop = timer()\n",
    "print(f'Time to create graph: {stop-start:.2f} s')\n",
    "print(f'Number of edges: {len(direction[0])}')\n",
    "#plot_atoms_and_bonds(node_pos_real, node_features, direction)"
   ]
  },
  {
   "cell_type": "code",
   "execution_count": null,
   "metadata": {},
   "outputs": [],
   "source": [
    "start = timer()\n",
    "# Get distances with MIC (NOTE I don't think this makes a difference as long as pbc=True in the unit cell)\n",
    "supercell_dist = supercell.get_all_distances(mic=False)\n",
    "supercell_atoms = supercell.get_atomic_numbers().reshape(-1, 1)\n",
    "\n",
    "# metal_filter = np.isin(unit_cell_atoms, metals)\n",
    "\n",
    "# Find node features\n",
    "node_features = np.array([\n",
    "    node_feature_table.loc[atom[0]-1].values\n",
    "    for atom in supercell_atoms\n",
    "    ], dtype='float')\n",
    "\n",
    "# Create mask of threshold for bonds\n",
    "bond_threshold = np.zeros_like(supercell_dist)\n",
    "for i, r1 in enumerate(node_features[:,1]):\n",
    "    bond_threshold[i,:] = (r1 + node_features[:,1]) / 100 * 1.25\n",
    "np.fill_diagonal(bond_threshold, 0.)\n",
    "\n",
    "# Find edges\n",
    "direction = np.argwhere(supercell_dist < bond_threshold).T\n",
    "\n",
    "# Handle case with no edges\n",
    "if len(direction[0]) == 0:\n",
    "    min_dist = np.amin(supercell_dist[supercell_dist > 0])\n",
    "    direction = np.argwhere(supercell_dist < min_dist * 1.1).T\n",
    "    \n",
    "edge_features = supercell_dist[direction[0], direction[1]]\n",
    "\n",
    "node_pos_real = supercell.get_positions()\n",
    "node_pos_relative = supercell.get_scaled_positions()\n",
    "\n",
    "stop = timer()\n",
    "print(f'Time to create graph: {stop-start:.2e} s')\n",
    "print(f'Number of edges: {len(direction[0])}')\n",
    "#plot_atoms_and_bonds(node_pos_real, node_features, direction, edge_features)"
   ]
  },
  {
   "cell_type": "code",
   "execution_count": null,
   "metadata": {},
   "outputs": [],
   "source": [
    "len(direction[0])"
   ]
  },
  {
   "cell_type": "code",
   "execution_count": null,
   "metadata": {},
   "outputs": [],
   "source": [
    "start = timer()\n",
    "supercell_dist = supercell.get_all_distances(mic=False)\n",
    "supercell_atoms = supercell.get_atomic_numbers().reshape(-1, 1)\n",
    "\n",
    "# Create edges and node features\n",
    "struc = AseAtomsAdaptor.get_structure(supercell)\n",
    "crystal_nn = CrystalNN(distance_cutoffs=None, x_diff_weight=0.0, porous_adjustment=False)\n",
    "strucGraph = StructureGraph.with_local_env_strategy(struc, crystal_nn)\n",
    "direction = np.array(strucGraph.graph.edges)[:,:2].T\n",
    "\n",
    "edge_features = supercell_dist[direction[0], direction[1]]\n",
    "node_features = np.array([\n",
    "    node_feature_table.loc[atom[0]].values\n",
    "    for atom in supercell_atoms\n",
    "    ], dtype='float')\n",
    "node_pos_real = supercell.get_positions()\n",
    "node_pos_relative = supercell.get_scaled_positions()\n",
    "\n",
    "stop = timer()\n",
    "print(f'Time to create graph: {stop-start:.2f} s')\n",
    "print(f'Number of edges: {len(direction[0])}')\n",
    "#plot_atoms_and_bonds(node_pos_real, node_features, direction)"
   ]
  },
  {
   "cell_type": "code",
   "execution_count": null,
   "metadata": {},
   "outputs": [],
   "source": [
    "start = timer()\n",
    "supercell_dist = supercell.get_all_distances(mic=False)\n",
    "supercell_atoms = supercell.get_atomic_numbers().reshape(-1, 1)\n",
    "\n",
    "# Create edges and node features\n",
    "struc = AseAtomsAdaptor.get_structure(supercell)\n",
    "minDist_nn = MinimumDistanceNN()\n",
    "strucGraph = StructureGraph.with_local_env_strategy(struc, minDist_nn)\n",
    "direction = np.array(strucGraph.graph.edges)[:,:2].T\n",
    "\n",
    "edge_features = supercell_dist[direction[0], direction[1]]\n",
    "node_features = np.array([\n",
    "    node_feature_table.loc[atom[0]].values\n",
    "    for atom in supercell_atoms\n",
    "    ], dtype='float')\n",
    "node_pos_real = supercell.get_positions()\n",
    "node_pos_relative = supercell.get_scaled_positions()\n",
    "\n",
    "stop = timer()\n",
    "print(f'Time to create graph: {stop-start:.2f} s')\n",
    "print(f'Number of edges: {len(direction[0])}')\n",
    "#plot_atoms_and_bonds(node_pos_real, node_features, direction)\n"
   ]
  },
  {
   "cell_type": "markdown",
   "metadata": {},
   "source": [
    "## Misc"
   ]
  },
  {
   "cell_type": "code",
   "execution_count": null,
   "metadata": {},
   "outputs": [],
   "source": [
    "from mendeleev import element\n",
    "from mendeleev.fetch import fetch_table"
   ]
  },
  {
   "cell_type": "code",
   "execution_count": null,
   "metadata": {},
   "outputs": [],
   "source": [
    "node_feature_table = fetch_table('elements')[['atomic_number', 'atomic_radius', 'atomic_weight', 'electron_affinity']]"
   ]
  },
  {
   "cell_type": "code",
   "execution_count": null,
   "metadata": {},
   "outputs": [],
   "source": [
    "node_feature_table.describe()"
   ]
  },
  {
   "cell_type": "code",
   "execution_count": null,
   "metadata": {},
   "outputs": [],
   "source": [
    "node_feature_table['electron_affinity'].fillna(0.0, inplace=True)"
   ]
  },
  {
   "cell_type": "code",
   "execution_count": null,
   "metadata": {},
   "outputs": [],
   "source": [
    "node_feature_table['atomic_radius']"
   ]
  },
  {
   "cell_type": "code",
   "execution_count": null,
   "metadata": {},
   "outputs": [],
   "source": [
    "node_feature_table.describe()"
   ]
  },
  {
   "cell_type": "code",
   "execution_count": null,
   "metadata": {},
   "outputs": [],
   "source": [
    "import numpy as np\n",
    "\n",
    "# Define the element symbol\n",
    "element_symbol = 'O'\n",
    "\n",
    "# Get the row corresponding to the element symbol\n",
    "element_row = node_feature_table[node_feature_table['symbol'] == element_symbol]\n",
    "\n",
    "# Extract the required features as a numpy array\n",
    "element_features = element_row[['atomic_number', 'atomic_radius', 'atomic_weight', 'electron_affinity']].to_numpy()\n"
   ]
  },
  {
   "cell_type": "code",
   "execution_count": null,
   "metadata": {},
   "outputs": [],
   "source": [
    "element_features.flatten()"
   ]
  },
  {
   "cell_type": "markdown",
   "metadata": {},
   "source": [
    "# Load and inspect data"
   ]
  },
  {
   "cell_type": "code",
   "execution_count": 1,
   "metadata": {},
   "outputs": [],
   "source": [
    "from Code.datasetClass import InOrgMatDatasets\n",
    "from pathlib import Path\n",
    "import seaborn as sns\n",
    "import matplotlib.pyplot as plt\n",
    "import warnings\n",
    "from mendeleev import element\n",
    "from tqdm.auto import tqdm\n",
    "warnings.simplefilter(action='ignore') # , category=FutureWarning\n",
    "\n",
    "# dataset = InOrgMatDatasets('COD_subset_v4', root='./Dataset/')"
   ]
  },
  {
   "cell_type": "code",
   "execution_count": 2,
   "metadata": {},
   "outputs": [
    {
     "name": "stderr",
     "output_type": "stream",
     "text": [
      "Downloading https://sid.erda.dk/share_redirect/h6ktCBGzPF/COD_subset_v4.zip\n",
      "Extracting Dataset/COD_subset_v4/raw/COD_subset_v4.zip\n",
      "Processing...\n",
      "Done!\n",
      "Downloading https://sid.erda.dk/share_redirect/h6ktCBGzPF/Simulated_rmax60_v4.zip\n",
      "Extracting Dataset/Simulated_rmax60_v4/raw/Simulated_rmax60_v4.zip\n",
      "Processing...\n",
      "Done!\n"
     ]
    }
   ],
   "source": [
    "dataset = InOrgMatDatasets('COD_subset_v4', root='./Dataset/')\n",
    "dataset.create_data_split()\n",
    "\n",
    "dataset = InOrgMatDatasets('Simulated_rmax60_v4', root='./Dataset/')\n",
    "dataset.create_data_split()"
   ]
  },
  {
   "cell_type": "code",
   "execution_count": 1,
   "metadata": {},
   "outputs": [
    {
     "name": "stdout",
     "output_type": "stream",
     "text": [
      "\n",
      "Model: PMLP\n",
      "Dataset: Simulated_rmax60_v4\n",
      "Task: AtomClassification\n",
      "\n",
      "\n",
      "Number of training samples: 2544\n",
      "Number of validation samples: 318\n",
      "Number of test samples: 318\n",
      "\n",
      "\n",
      "Device: cuda\n",
      "\n",
      "Seed: 42\n",
      "\n",
      "Epoch: 1/2, Train Loss: 2.5341, Val Accuracy: 0.6088\n",
      "Epoch: 2/2, Train Loss: 2.3206, Val Accuracy: 0.6088\n",
      "Test Accuracy: 0.6043\n",
      "\n",
      "Seed: 43\n",
      "\n",
      "Epoch: 1/2, Train Loss: 2.5231, Val Accuracy: 0.6088\n",
      "Epoch: 2/2, Train Loss: 2.3276, Val Accuracy: 0.6088\n",
      "Test Accuracy: 0.6043\n",
      "\n",
      "Seed: 44\n",
      "\n",
      "Epoch: 1/2, Train Loss: 2.4862, Val Accuracy: 0.6088\n",
      "Epoch: 2/2, Train Loss: 2.3176, Val Accuracy: 0.6088\n",
      "Test Accuracy: 0.6043\n",
      "\n",
      "Model: EdgeCNN\n",
      "Dataset: Simulated_rmax60_v4\n",
      "Task: DistanceRegression\n",
      "\n",
      "\n",
      "Number of training samples: 2544\n",
      "Number of validation samples: 318\n",
      "Number of test samples: 318\n",
      "\n",
      "\n",
      "Device: cuda\n",
      "\n",
      "Seed: 42\n",
      "\n",
      "Epoch: 1/2, Train Loss: 1.0866, Val MAE: 0.1080\n",
      "Epoch: 2/2, Train Loss: 0.0691, Val MAE: 0.0464\n",
      "Test MAE: 0.0506\n",
      "\n",
      "Seed: 43\n",
      "\n",
      "Epoch: 1/2, Train Loss: 0.3355, Val MAE: 0.0765\n",
      "Epoch: 2/2, Train Loss: 0.0588, Val MAE: 0.0642\n",
      "Test MAE: 0.0669\n",
      "\n",
      "Seed: 44\n",
      "\n",
      "Epoch: 1/2, Train Loss: 1.0746, Val MAE: 0.0648\n",
      "Epoch: 2/2, Train Loss: 0.0616, Val MAE: 0.0771\n",
      "Test MAE: 0.0613\n",
      "\n",
      "Model: PMLP\n",
      "Dataset: Simulated_rmax60_v4\n",
      "Task: SpacegroupClassification\n",
      "\n",
      "\n",
      "Number of training samples: 2544\n",
      "Number of validation samples: 318\n",
      "Number of test samples: 318\n",
      "\n",
      "\n",
      "Device: cuda\n",
      "\n",
      "Seed: 42\n",
      "\n",
      "Epoch: 1/2, Train Loss: 181.1747, Val Accuracy: 0.0000\n",
      "Epoch: 2/2, Train Loss: 164.4248, Val Accuracy: 0.0063\n",
      "Test Accuracy: 0.0094\n",
      "\n",
      "Seed: 43\n",
      "\n",
      "Epoch: 1/2, Train Loss: 188.4511, Val Accuracy: 0.0063\n",
      "Epoch: 2/2, Train Loss: 184.2480, Val Accuracy: 0.0031\n",
      "Test Accuracy: 0.0094\n",
      "\n",
      "Seed: 44\n",
      "\n",
      "Epoch: 1/2, Train Loss: 184.4438, Val Accuracy: 0.0252\n",
      "Epoch: 2/2, Train Loss: 174.7256, Val Accuracy: 0.0094\n",
      "Test Accuracy: 0.0157\n",
      "\n",
      "Model: EdgeCNN\n",
      "Dataset: Simulated_rmax60_v4\n",
      "Task: PositionRegression\n",
      "\n",
      "\n",
      "Number of training samples: 2544\n",
      "Number of validation samples: 318\n",
      "Number of test samples: 318\n",
      "\n",
      "\n",
      "Device: cuda\n",
      "\n",
      "Seed: 42\n",
      "\n",
      "Epoch: 1/2, Train Loss: 7.7907, Val position MAE: 16.3596\n",
      "Epoch: 2/2, Train Loss: 7.7768, Val position MAE: 16.3596\n",
      "Test position MAE: 16.5916\n",
      "\n",
      "Seed: 43\n",
      "\n",
      "Epoch: 1/2, Train Loss: 7.7858, Val position MAE: 16.3596\n",
      "Epoch: 2/2, Train Loss: 7.7849, Val position MAE: 16.3596\n",
      "Test position MAE: 16.5916\n",
      "\n",
      "Seed: 44\n",
      "\n",
      "Epoch: 1/2, Train Loss: 7.8153, Val position MAE: 16.3596\n",
      "Epoch: 2/2, Train Loss: 7.7747, Val position MAE: 16.3596\n",
      "Test position MAE: 16.5916\n",
      "\n",
      "Model: GAT\n",
      "Dataset: Simulated_rmax60_v4\n",
      "Task: XRDRegression\n",
      "\n",
      "\n",
      "Number of training samples: 2544\n",
      "Number of validation samples: 318\n",
      "Number of test samples: 318\n",
      "\n",
      "\n",
      "Device: cuda\n",
      "\n",
      "Seed: 42\n",
      "\n",
      "Epoch: 1/2, Train Loss: 17.0267, Val MAE: 0.6267\n",
      "Epoch: 2/2, Train Loss: 0.3895, Val MAE: 0.4422\n",
      "Test MAE: 0.3911\n",
      "\n",
      "Seed: 43\n",
      "\n",
      "Epoch: 1/2, Train Loss: 36.7796, Val MAE: 4.7714\n",
      "Epoch: 2/2, Train Loss: 1.9164, Val MAE: 0.6309\n",
      "Test MAE: 0.6161\n",
      "\n",
      "Seed: 44\n",
      "\n",
      "Epoch: 1/2, Train Loss: 108.8493, Val MAE: 8.3167\n",
      "Epoch: 2/2, Train Loss: 4.8595, Val MAE: 2.8408\n",
      "Test MAE: 2.7732\n",
      "\n",
      "Model: PMLP\n",
      "Dataset: Simulated_rmax60_v4\n",
      "Task: SAXSRegression\n",
      "\n",
      "\n",
      "Number of training samples: 2544\n",
      "Number of validation samples: 318\n",
      "Number of test samples: 318\n",
      "\n",
      "\n",
      "Device: cuda\n",
      "\n",
      "Seed: 42\n",
      "\n",
      "Epoch: 1/2, Train Loss: 15.2613, Val MAE: 13.8544\n",
      "Epoch: 2/2, Train Loss: 12.1157, Val MAE: 12.6888\n",
      "Test MAE: 12.9909\n",
      "\n",
      "Seed: 43\n",
      "\n",
      "Epoch: 1/2, Train Loss: 16.8967, Val MAE: 15.0771\n",
      "Epoch: 2/2, Train Loss: 11.9567, Val MAE: 14.0677\n",
      "Test MAE: 13.9282\n",
      "\n",
      "Seed: 44\n",
      "\n",
      "Epoch: 1/2, Train Loss: 17.1371, Val MAE: 15.6164\n",
      "Epoch: 2/2, Train Loss: 10.9751, Val MAE: 13.4975\n",
      "Test MAE: 13.7027\n",
      "\n",
      "Model: GAT\n",
      "Dataset: Simulated_rmax60_v4\n",
      "Task: PositionRegression\n",
      "\n",
      "\n",
      "Number of training samples: 2544\n",
      "Number of validation samples: 318\n",
      "Number of test samples: 318\n",
      "\n",
      "\n",
      "Device: cuda\n",
      "\n",
      "Seed: 42\n",
      "\n",
      "Epoch: 1/2, Train Loss: 7.9726, Val position MAE: 16.3615\n",
      "Epoch: 2/2, Train Loss: 7.7906, Val position MAE: 16.3596\n",
      "Test position MAE: 16.5917\n",
      "\n",
      "Seed: 43\n",
      "\n",
      "Epoch: 1/2, Train Loss: 7.8221, Val position MAE: 16.3597\n",
      "Epoch: 2/2, Train Loss: 7.8138, Val position MAE: 16.3599\n",
      "Test position MAE: 16.5918\n",
      "\n",
      "Seed: 44\n",
      "\n",
      "Epoch: 1/2, Train Loss: 7.8241, Val position MAE: 16.3597\n",
      "Epoch: 2/2, Train Loss: 7.7679, Val position MAE: 16.3596\n",
      "Test position MAE: 16.5917\n",
      "\n",
      "Model: EdgeCNN\n",
      "Dataset: Simulated_rmax60_v4\n",
      "Task: CrystalSystemClassification\n",
      "\n",
      "\n",
      "Number of training samples: 2544\n",
      "Number of validation samples: 318\n",
      "Number of test samples: 318\n",
      "\n",
      "\n",
      "Device: cuda\n",
      "\n",
      "Seed: 42\n",
      "\n",
      "Epoch: 1/2, Train Loss: 41.7563, Val Accuracy: 0.1572\n",
      "Epoch: 2/2, Train Loss: 14.7069, Val Accuracy: 0.0692\n",
      "Test Accuracy: 0.0849\n",
      "\n",
      "Seed: 43\n",
      "\n"
     ]
    },
    {
     "ename": "KeyboardInterrupt",
     "evalue": "",
     "output_type": "error",
     "traceback": [
      "\u001b[0;31m---------------------------------------------------------------------------\u001b[0m",
      "\u001b[0;31mKeyboardInterrupt\u001b[0m                         Traceback (most recent call last)",
      "Cell \u001b[0;32mIn[1], line 11\u001b[0m\n\u001b[1;32m      9\u001b[0m \u001b[38;5;66;03m# Run the commands\u001b[39;00m\n\u001b[1;32m     10\u001b[0m \u001b[38;5;28;01mfor\u001b[39;00m command \u001b[38;5;129;01min\u001b[39;00m commands:\n\u001b[0;32m---> 11\u001b[0m     \u001b[43msubprocess\u001b[49m\u001b[38;5;241;43m.\u001b[39;49m\u001b[43mrun\u001b[49m\u001b[43m(\u001b[49m\u001b[43mcommand\u001b[49m\u001b[43m,\u001b[49m\u001b[43m \u001b[49m\u001b[43mshell\u001b[49m\u001b[38;5;241;43m=\u001b[39;49m\u001b[38;5;28;43;01mTrue\u001b[39;49;00m\u001b[43m)\u001b[49m\n",
      "File \u001b[0;32m~/anaconda3/envs/dataset_env/lib/python3.10/subprocess.py:505\u001b[0m, in \u001b[0;36mrun\u001b[0;34m(input, capture_output, timeout, check, *popenargs, **kwargs)\u001b[0m\n\u001b[1;32m    503\u001b[0m \u001b[38;5;28;01mwith\u001b[39;00m Popen(\u001b[38;5;241m*\u001b[39mpopenargs, \u001b[38;5;241m*\u001b[39m\u001b[38;5;241m*\u001b[39mkwargs) \u001b[38;5;28;01mas\u001b[39;00m process:\n\u001b[1;32m    504\u001b[0m     \u001b[38;5;28;01mtry\u001b[39;00m:\n\u001b[0;32m--> 505\u001b[0m         stdout, stderr \u001b[38;5;241m=\u001b[39m \u001b[43mprocess\u001b[49m\u001b[38;5;241;43m.\u001b[39;49m\u001b[43mcommunicate\u001b[49m\u001b[43m(\u001b[49m\u001b[38;5;28;43minput\u001b[39;49m\u001b[43m,\u001b[49m\u001b[43m \u001b[49m\u001b[43mtimeout\u001b[49m\u001b[38;5;241;43m=\u001b[39;49m\u001b[43mtimeout\u001b[49m\u001b[43m)\u001b[49m\n\u001b[1;32m    506\u001b[0m     \u001b[38;5;28;01mexcept\u001b[39;00m TimeoutExpired \u001b[38;5;28;01mas\u001b[39;00m exc:\n\u001b[1;32m    507\u001b[0m         process\u001b[38;5;241m.\u001b[39mkill()\n",
      "File \u001b[0;32m~/anaconda3/envs/dataset_env/lib/python3.10/subprocess.py:1146\u001b[0m, in \u001b[0;36mPopen.communicate\u001b[0;34m(self, input, timeout)\u001b[0m\n\u001b[1;32m   1144\u001b[0m         stderr \u001b[38;5;241m=\u001b[39m \u001b[38;5;28mself\u001b[39m\u001b[38;5;241m.\u001b[39mstderr\u001b[38;5;241m.\u001b[39mread()\n\u001b[1;32m   1145\u001b[0m         \u001b[38;5;28mself\u001b[39m\u001b[38;5;241m.\u001b[39mstderr\u001b[38;5;241m.\u001b[39mclose()\n\u001b[0;32m-> 1146\u001b[0m     \u001b[38;5;28;43mself\u001b[39;49m\u001b[38;5;241;43m.\u001b[39;49m\u001b[43mwait\u001b[49m\u001b[43m(\u001b[49m\u001b[43m)\u001b[49m\n\u001b[1;32m   1147\u001b[0m \u001b[38;5;28;01melse\u001b[39;00m:\n\u001b[1;32m   1148\u001b[0m     \u001b[38;5;28;01mif\u001b[39;00m timeout \u001b[38;5;129;01mis\u001b[39;00m \u001b[38;5;129;01mnot\u001b[39;00m \u001b[38;5;28;01mNone\u001b[39;00m:\n",
      "File \u001b[0;32m~/anaconda3/envs/dataset_env/lib/python3.10/subprocess.py:1209\u001b[0m, in \u001b[0;36mPopen.wait\u001b[0;34m(self, timeout)\u001b[0m\n\u001b[1;32m   1207\u001b[0m     endtime \u001b[38;5;241m=\u001b[39m _time() \u001b[38;5;241m+\u001b[39m timeout\n\u001b[1;32m   1208\u001b[0m \u001b[38;5;28;01mtry\u001b[39;00m:\n\u001b[0;32m-> 1209\u001b[0m     \u001b[38;5;28;01mreturn\u001b[39;00m \u001b[38;5;28;43mself\u001b[39;49m\u001b[38;5;241;43m.\u001b[39;49m\u001b[43m_wait\u001b[49m\u001b[43m(\u001b[49m\u001b[43mtimeout\u001b[49m\u001b[38;5;241;43m=\u001b[39;49m\u001b[43mtimeout\u001b[49m\u001b[43m)\u001b[49m\n\u001b[1;32m   1210\u001b[0m \u001b[38;5;28;01mexcept\u001b[39;00m \u001b[38;5;167;01mKeyboardInterrupt\u001b[39;00m:\n\u001b[1;32m   1211\u001b[0m     \u001b[38;5;66;03m# https://bugs.python.org/issue25942\u001b[39;00m\n\u001b[1;32m   1212\u001b[0m     \u001b[38;5;66;03m# The first keyboard interrupt waits briefly for the child to\u001b[39;00m\n\u001b[1;32m   1213\u001b[0m     \u001b[38;5;66;03m# exit under the common assumption that it also received the ^C\u001b[39;00m\n\u001b[1;32m   1214\u001b[0m     \u001b[38;5;66;03m# generated SIGINT and will exit rapidly.\u001b[39;00m\n\u001b[1;32m   1215\u001b[0m     \u001b[38;5;28;01mif\u001b[39;00m timeout \u001b[38;5;129;01mis\u001b[39;00m \u001b[38;5;129;01mnot\u001b[39;00m \u001b[38;5;28;01mNone\u001b[39;00m:\n",
      "File \u001b[0;32m~/anaconda3/envs/dataset_env/lib/python3.10/subprocess.py:1959\u001b[0m, in \u001b[0;36mPopen._wait\u001b[0;34m(self, timeout)\u001b[0m\n\u001b[1;32m   1957\u001b[0m \u001b[38;5;28;01mif\u001b[39;00m \u001b[38;5;28mself\u001b[39m\u001b[38;5;241m.\u001b[39mreturncode \u001b[38;5;129;01mis\u001b[39;00m \u001b[38;5;129;01mnot\u001b[39;00m \u001b[38;5;28;01mNone\u001b[39;00m:\n\u001b[1;32m   1958\u001b[0m     \u001b[38;5;28;01mbreak\u001b[39;00m  \u001b[38;5;66;03m# Another thread waited.\u001b[39;00m\n\u001b[0;32m-> 1959\u001b[0m (pid, sts) \u001b[38;5;241m=\u001b[39m \u001b[38;5;28;43mself\u001b[39;49m\u001b[38;5;241;43m.\u001b[39;49m\u001b[43m_try_wait\u001b[49m\u001b[43m(\u001b[49m\u001b[38;5;241;43m0\u001b[39;49m\u001b[43m)\u001b[49m\n\u001b[1;32m   1960\u001b[0m \u001b[38;5;66;03m# Check the pid and loop as waitpid has been known to\u001b[39;00m\n\u001b[1;32m   1961\u001b[0m \u001b[38;5;66;03m# return 0 even without WNOHANG in odd situations.\u001b[39;00m\n\u001b[1;32m   1962\u001b[0m \u001b[38;5;66;03m# http://bugs.python.org/issue14396.\u001b[39;00m\n\u001b[1;32m   1963\u001b[0m \u001b[38;5;28;01mif\u001b[39;00m pid \u001b[38;5;241m==\u001b[39m \u001b[38;5;28mself\u001b[39m\u001b[38;5;241m.\u001b[39mpid:\n",
      "File \u001b[0;32m~/anaconda3/envs/dataset_env/lib/python3.10/subprocess.py:1917\u001b[0m, in \u001b[0;36mPopen._try_wait\u001b[0;34m(self, wait_flags)\u001b[0m\n\u001b[1;32m   1915\u001b[0m \u001b[38;5;250m\u001b[39m\u001b[38;5;124;03m\"\"\"All callers to this function MUST hold self._waitpid_lock.\"\"\"\u001b[39;00m\n\u001b[1;32m   1916\u001b[0m \u001b[38;5;28;01mtry\u001b[39;00m:\n\u001b[0;32m-> 1917\u001b[0m     (pid, sts) \u001b[38;5;241m=\u001b[39m \u001b[43mos\u001b[49m\u001b[38;5;241;43m.\u001b[39;49m\u001b[43mwaitpid\u001b[49m\u001b[43m(\u001b[49m\u001b[38;5;28;43mself\u001b[39;49m\u001b[38;5;241;43m.\u001b[39;49m\u001b[43mpid\u001b[49m\u001b[43m,\u001b[49m\u001b[43m \u001b[49m\u001b[43mwait_flags\u001b[49m\u001b[43m)\u001b[49m\n\u001b[1;32m   1918\u001b[0m \u001b[38;5;28;01mexcept\u001b[39;00m \u001b[38;5;167;01mChildProcessError\u001b[39;00m:\n\u001b[1;32m   1919\u001b[0m     \u001b[38;5;66;03m# This happens if SIGCLD is set to be ignored or waiting\u001b[39;00m\n\u001b[1;32m   1920\u001b[0m     \u001b[38;5;66;03m# for child processes has otherwise been disabled for our\u001b[39;00m\n\u001b[1;32m   1921\u001b[0m     \u001b[38;5;66;03m# process.  This child is dead, we can't get the status.\u001b[39;00m\n\u001b[1;32m   1922\u001b[0m     pid \u001b[38;5;241m=\u001b[39m \u001b[38;5;28mself\u001b[39m\u001b[38;5;241m.\u001b[39mpid\n",
      "\u001b[0;31mKeyboardInterrupt\u001b[0m: "
     ]
    },
    {
     "name": "stdout",
     "output_type": "stream",
     "text": [
      "Epoch: 1/2, Train Loss: 40.4517, Val Accuracy: 0.1604\n",
      "Epoch: 2/2, Train Loss: 13.5714, Val Accuracy: 0.1478\n",
      "Test Accuracy: 0.1132\n",
      "\n",
      "Seed: 44\n",
      "\n",
      "Epoch: 1/2, Train Loss: 40.0438, Val Accuracy: 0.1352\n",
      "Epoch: 2/2, Train Loss: 13.8479, Val Accuracy: 0.0943\n",
      "Test Accuracy: 0.1667\n"
     ]
    }
   ],
   "source": [
    "# import subprocess\n",
    "# from pathlib import Path\n",
    "\n",
    "# # Define the command line commands\n",
    "# paths = ['./' + str(config_file) for config_file in Path('./benchmark_configs/').glob('*.yaml')]\n",
    "\n",
    "# commands = [f'python benchmarking.py --config={path}' for path in paths]\n",
    "\n",
    "# # Run the commands\n",
    "# for command in commands:\n",
    "#     subprocess.run(command, shell=True)\n"
   ]
  },
  {
   "cell_type": "code",
   "execution_count": 6,
   "metadata": {},
   "outputs": [],
   "source": [
    "dataset.create_data_split()\n",
    "# dataset.create_data_split(split_strategy='stratified', stratify_on='Space group (Number)')"
   ]
  },
  {
   "cell_type": "code",
   "execution_count": 3,
   "metadata": {},
   "outputs": [],
   "source": [
    "dataset.load_data_split(split_strategy='random', stratify_on='Space group (Number)')"
   ]
  },
  {
   "cell_type": "code",
   "execution_count": 4,
   "metadata": {},
   "outputs": [
    {
     "name": "stdout",
     "output_type": "stream",
     "text": [
      "3180\n",
      "tensor([ 8., 20.])\n",
      "Data(\n",
      "  x=[279, 4],\n",
      "  edge_index=[2, 1200],\n",
      "  edge_attr=[1200],\n",
      "  y={\n",
      "    crystal_type='CadmiumChloride',\n",
      "    space_group_symbol='C 2/m',\n",
      "    space_group_number=12,\n",
      "    crystal_system='Monoclinic',\n",
      "    crystal_system_number=2,\n",
      "    atomic_species=[2],\n",
      "    n_atomic_species=2,\n",
      "    np_size=23.96804428100586,\n",
      "    n_atoms=279,\n",
      "    n_bonds=1200,\n",
      "    cell_params=[6],\n",
      "    unit_cell_node_feat=[9, 4],\n",
      "    unit_cell_edge_index=[2, 12],\n",
      "    unit_cell_edge_feat=[12],\n",
      "    unit_cell_pos_abs=[9, 3],\n",
      "    unit_cell_pos_frac=[9, 3],\n",
      "    nd=[2, 580],\n",
      "    xrd=[2, 580],\n",
      "    nPDF=[2, 6000],\n",
      "    xPDF=[2, 6000],\n",
      "    sans=[2, 300],\n",
      "    saxs=[2, 300],\n",
      "  },\n",
      "  pos_frac=[279, 3],\n",
      "  pos_abs=[279, 3]\n",
      ")\n"
     ]
    }
   ],
   "source": [
    "idx = 1\n",
    "print(dataset.len())\n",
    "print(dataset.get(idx).y['atomic_species'])\n",
    "print(dataset.get(idx))"
   ]
  },
  {
   "cell_type": "code",
   "execution_count": 4,
   "metadata": {},
   "outputs": [
    {
     "name": "stdout",
     "output_type": "stream",
     "text": [
      "88641 11081 11081\n"
     ]
    },
    {
     "data": {
      "text/plain": [
       "Data(\n",
       "  x=[47, 4],\n",
       "  edge_index=[2, 108],\n",
       "  edge_attr=[47],\n",
       "  y={\n",
       "    crystal_type='Unknown',\n",
       "    space_group_symbol='I 41/a m d',\n",
       "    space_group_number=141,\n",
       "    atomic_species=[3],\n",
       "    n_atomic_species=3,\n",
       "    np_size=11.920214653015137,\n",
       "    n_atoms=47,\n",
       "    n_bonds=108,\n",
       "    cell_params=[6],\n",
       "    unit_cell_node_feat=[24, 4],\n",
       "    unit_cell_edge_index=[2, 112],\n",
       "    unit_cell_edge_feat=[112],\n",
       "    unit_cell_pos_abs=[24, 3],\n",
       "    unit_cell_pos_frac=[24, 3],\n",
       "    nd=[2, 580],\n",
       "    xrd=[2, 580],\n",
       "    nPDF=[2, 6000],\n",
       "    xPDF=[2, 6000],\n",
       "    sans=[2, 300],\n",
       "    saxs=[2, 300],\n",
       "  },\n",
       "  pos_frac=[47, 3],\n",
       "  pos_abs=[47, 3]\n",
       ")"
      ]
     },
     "execution_count": 4,
     "metadata": {},
     "output_type": "execute_result"
    }
   ],
   "source": [
    "print(dataset.len(split='train'), dataset.len(split='validation'), dataset.len(split='test'))\n",
    "dataset.get(1, split='test')"
   ]
  },
  {
   "cell_type": "markdown",
   "metadata": {},
   "source": [
    "## Create .xyz file"
   ]
  },
  {
   "cell_type": "code",
   "execution_count": null,
   "metadata": {},
   "outputs": [],
   "source": [
    "# Loop over all indices in the dataset\n",
    "for idx in tqdm(range(dataset.len())):\n",
    "    # Get the sample at an index\n",
    "    # idx = 9\n",
    "    sample = dataset.get(idx)\n",
    "\n",
    "    # Extract the absolute coordinates and atomic numbers\n",
    "    coords = sample.pos_abs.numpy()\n",
    "    atomic_numbers = sample.x[:,0].numpy().astype(int)\n",
    "    n_atoms = sample.y['n_atoms']\n",
    "\n",
    "    # Write the .xyz file\n",
    "    with open(f'./Dataset/xyz/SimulatedTest2/{idx}.xyz', 'w') as f:\n",
    "        f.write(f'{n_atoms}\\n')\n",
    "        f.write('\\n')\n",
    "        for i in range(n_atoms):\n",
    "            f.write(f'{element(int(atomic_numbers[i])).symbol} {coords[i,0]} {coords[i,1]} {coords[i,2]}\\n')\n"
   ]
  },
  {
   "cell_type": "markdown",
   "metadata": {},
   "source": [
    "## Plotting and statistics"
   ]
  },
  {
   "cell_type": "code",
   "execution_count": null,
   "metadata": {},
   "outputs": [],
   "source": [
    "plt.figure(figsize=(10, 6))\n",
    "plt.plot(*dataset.get(540, split='train').y['xPDF'])\n",
    "plt.ylabel('Intensity (a.u.)')\n",
    "plt.xlabel('r ($\\AA$)')\n",
    "plt.show()"
   ]
  },
  {
   "cell_type": "code",
   "execution_count": 5,
   "metadata": {},
   "outputs": [
    {
     "data": {
      "text/html": [
       "<div>\n",
       "<style scoped>\n",
       "    .dataframe tbody tr th:only-of-type {\n",
       "        vertical-align: middle;\n",
       "    }\n",
       "\n",
       "    .dataframe tbody tr th {\n",
       "        vertical-align: top;\n",
       "    }\n",
       "\n",
       "    .dataframe thead th {\n",
       "        text-align: right;\n",
       "    }\n",
       "</style>\n",
       "<table border=\"1\" class=\"dataframe\">\n",
       "  <thead>\n",
       "    <tr style=\"text-align: right;\">\n",
       "      <th></th>\n",
       "      <th>idx</th>\n",
       "      <th># of nodes</th>\n",
       "      <th># of edges</th>\n",
       "      <th># of elements</th>\n",
       "      <th>Space group (Symbol)</th>\n",
       "      <th>Space group (Number)</th>\n",
       "      <th>Crystal type</th>\n",
       "      <th>NP size (Å)</th>\n",
       "      <th>Elements</th>\n",
       "      <th>Random data split</th>\n",
       "    </tr>\n",
       "  </thead>\n",
       "  <tbody>\n",
       "    <tr>\n",
       "      <th>0</th>\n",
       "      <td>0</td>\n",
       "      <td>31.0</td>\n",
       "      <td>108.0</td>\n",
       "      <td>2.0</td>\n",
       "      <td>C 2/m</td>\n",
       "      <td>12.0</td>\n",
       "      <td>CadmiumChloride</td>\n",
       "      <td>10.817969</td>\n",
       "      <td>[tensor(8.), tensor(20.)]</td>\n",
       "      <td>Test</td>\n",
       "    </tr>\n",
       "    <tr>\n",
       "      <th>1</th>\n",
       "      <td>1</td>\n",
       "      <td>279.0</td>\n",
       "      <td>1200.0</td>\n",
       "      <td>2.0</td>\n",
       "      <td>C 2/m</td>\n",
       "      <td>12.0</td>\n",
       "      <td>CadmiumChloride</td>\n",
       "      <td>23.968044</td>\n",
       "      <td>[tensor(8.), tensor(20.)]</td>\n",
       "      <td>Train</td>\n",
       "    </tr>\n",
       "    <tr>\n",
       "      <th>2</th>\n",
       "      <td>2</td>\n",
       "      <td>875.0</td>\n",
       "      <td>4188.0</td>\n",
       "      <td>2.0</td>\n",
       "      <td>C 2/m</td>\n",
       "      <td>12.0</td>\n",
       "      <td>CadmiumChloride</td>\n",
       "      <td>34.560139</td>\n",
       "      <td>[tensor(8.), tensor(20.)]</td>\n",
       "      <td>Train</td>\n",
       "    </tr>\n",
       "    <tr>\n",
       "      <th>3</th>\n",
       "      <td>3</td>\n",
       "      <td>2005.0</td>\n",
       "      <td>10188.0</td>\n",
       "      <td>2.0</td>\n",
       "      <td>C 2/m</td>\n",
       "      <td>12.0</td>\n",
       "      <td>CadmiumChloride</td>\n",
       "      <td>43.835541</td>\n",
       "      <td>[tensor(8.), tensor(20.)]</td>\n",
       "      <td>Train</td>\n",
       "    </tr>\n",
       "    <tr>\n",
       "      <th>4</th>\n",
       "      <td>4</td>\n",
       "      <td>3927.0</td>\n",
       "      <td>20604.0</td>\n",
       "      <td>2.0</td>\n",
       "      <td>C 2/m</td>\n",
       "      <td>12.0</td>\n",
       "      <td>CadmiumChloride</td>\n",
       "      <td>54.064667</td>\n",
       "      <td>[tensor(8.), tensor(20.)]</td>\n",
       "      <td>Train</td>\n",
       "    </tr>\n",
       "  </tbody>\n",
       "</table>\n",
       "</div>"
      ],
      "text/plain": [
       "   idx  # of nodes  # of edges  # of elements Space group (Symbol)  \\\n",
       "0    0        31.0       108.0            2.0                C 2/m   \n",
       "1    1       279.0      1200.0            2.0                C 2/m   \n",
       "2    2       875.0      4188.0            2.0                C 2/m   \n",
       "3    3      2005.0     10188.0            2.0                C 2/m   \n",
       "4    4      3927.0     20604.0            2.0                C 2/m   \n",
       "\n",
       "   Space group (Number)     Crystal type  NP size (Å)  \\\n",
       "0                  12.0  CadmiumChloride    10.817969   \n",
       "1                  12.0  CadmiumChloride    23.968044   \n",
       "2                  12.0  CadmiumChloride    34.560139   \n",
       "3                  12.0  CadmiumChloride    43.835541   \n",
       "4                  12.0  CadmiumChloride    54.064667   \n",
       "\n",
       "                    Elements Random data split  \n",
       "0  [tensor(8.), tensor(20.)]              Test  \n",
       "1  [tensor(8.), tensor(20.)]             Train  \n",
       "2  [tensor(8.), tensor(20.)]             Train  \n",
       "3  [tensor(8.), tensor(20.)]             Train  \n",
       "4  [tensor(8.), tensor(20.)]             Train  "
      ]
     },
     "execution_count": 5,
     "metadata": {},
     "output_type": "execute_result"
    }
   ],
   "source": [
    "stats = dataset.get_statistics(return_dataframe=True)\n",
    "stats.head()"
   ]
  },
  {
   "cell_type": "code",
   "execution_count": 6,
   "metadata": {},
   "outputs": [
    {
     "data": {
      "text/html": [
       "<div>\n",
       "<style scoped>\n",
       "    .dataframe tbody tr th:only-of-type {\n",
       "        vertical-align: middle;\n",
       "    }\n",
       "\n",
       "    .dataframe tbody tr th {\n",
       "        vertical-align: top;\n",
       "    }\n",
       "\n",
       "    .dataframe thead th {\n",
       "        text-align: right;\n",
       "    }\n",
       "</style>\n",
       "<table border=\"1\" class=\"dataframe\">\n",
       "  <thead>\n",
       "    <tr style=\"text-align: right;\">\n",
       "      <th></th>\n",
       "      <th>idx</th>\n",
       "      <th># of nodes</th>\n",
       "      <th># of edges</th>\n",
       "      <th># of elements</th>\n",
       "      <th>Space group (Number)</th>\n",
       "      <th>NP size (Å)</th>\n",
       "    </tr>\n",
       "  </thead>\n",
       "  <tbody>\n",
       "    <tr>\n",
       "      <th>count</th>\n",
       "      <td>3180.000000</td>\n",
       "      <td>3180.000000</td>\n",
       "      <td>3180.000000</td>\n",
       "      <td>3180.0</td>\n",
       "      <td>3180.000000</td>\n",
       "      <td>3180.000000</td>\n",
       "    </tr>\n",
       "    <tr>\n",
       "      <th>mean</th>\n",
       "      <td>1589.500000</td>\n",
       "      <td>2188.391509</td>\n",
       "      <td>15605.169811</td>\n",
       "      <td>2.0</td>\n",
       "      <td>151.583333</td>\n",
       "      <td>33.304232</td>\n",
       "    </tr>\n",
       "    <tr>\n",
       "      <th>std</th>\n",
       "      <td>918.131254</td>\n",
       "      <td>2319.871145</td>\n",
       "      <td>19372.138747</td>\n",
       "      <td>0.0</td>\n",
       "      <td>89.485164</td>\n",
       "      <td>14.699663</td>\n",
       "    </tr>\n",
       "    <tr>\n",
       "      <th>min</th>\n",
       "      <td>0.000000</td>\n",
       "      <td>7.000000</td>\n",
       "      <td>7.000000</td>\n",
       "      <td>2.0</td>\n",
       "      <td>12.000000</td>\n",
       "      <td>7.363739</td>\n",
       "    </tr>\n",
       "    <tr>\n",
       "      <th>25%</th>\n",
       "      <td>794.750000</td>\n",
       "      <td>367.000000</td>\n",
       "      <td>1560.000000</td>\n",
       "      <td>2.0</td>\n",
       "      <td>56.250000</td>\n",
       "      <td>22.601038</td>\n",
       "    </tr>\n",
       "    <tr>\n",
       "      <th>50%</th>\n",
       "      <td>1589.500000</td>\n",
       "      <td>1377.000000</td>\n",
       "      <td>7212.000000</td>\n",
       "      <td>2.0</td>\n",
       "      <td>218.500000</td>\n",
       "      <td>33.498924</td>\n",
       "    </tr>\n",
       "    <tr>\n",
       "      <th>75%</th>\n",
       "      <td>2384.250000</td>\n",
       "      <td>3428.000000</td>\n",
       "      <td>23712.000000</td>\n",
       "      <td>2.0</td>\n",
       "      <td>225.000000</td>\n",
       "      <td>44.043523</td>\n",
       "    </tr>\n",
       "    <tr>\n",
       "      <th>max</th>\n",
       "      <td>3179.000000</td>\n",
       "      <td>14793.000000</td>\n",
       "      <td>118258.000000</td>\n",
       "      <td>2.0</td>\n",
       "      <td>227.000000</td>\n",
       "      <td>56.690269</td>\n",
       "    </tr>\n",
       "  </tbody>\n",
       "</table>\n",
       "</div>"
      ],
      "text/plain": [
       "               idx    # of nodes     # of edges  # of elements  \\\n",
       "count  3180.000000   3180.000000    3180.000000         3180.0   \n",
       "mean   1589.500000   2188.391509   15605.169811            2.0   \n",
       "std     918.131254   2319.871145   19372.138747            0.0   \n",
       "min       0.000000      7.000000       7.000000            2.0   \n",
       "25%     794.750000    367.000000    1560.000000            2.0   \n",
       "50%    1589.500000   1377.000000    7212.000000            2.0   \n",
       "75%    2384.250000   3428.000000   23712.000000            2.0   \n",
       "max    3179.000000  14793.000000  118258.000000            2.0   \n",
       "\n",
       "       Space group (Number)  NP size (Å)  \n",
       "count           3180.000000  3180.000000  \n",
       "mean             151.583333    33.304232  \n",
       "std               89.485164    14.699663  \n",
       "min               12.000000     7.363739  \n",
       "25%               56.250000    22.601038  \n",
       "50%              218.500000    33.498924  \n",
       "75%              225.000000    44.043523  \n",
       "max              227.000000    56.690269  "
      ]
     },
     "execution_count": 6,
     "metadata": {},
     "output_type": "execute_result"
    }
   ],
   "source": [
    "stats.describe()"
   ]
  },
  {
   "cell_type": "code",
   "execution_count": 7,
   "metadata": {},
   "outputs": [
    {
     "data": {
      "text/html": [
       "<div>\n",
       "<style scoped>\n",
       "    .dataframe tbody tr th:only-of-type {\n",
       "        vertical-align: middle;\n",
       "    }\n",
       "\n",
       "    .dataframe tbody tr th {\n",
       "        vertical-align: top;\n",
       "    }\n",
       "\n",
       "    .dataframe thead th {\n",
       "        text-align: right;\n",
       "    }\n",
       "</style>\n",
       "<table border=\"1\" class=\"dataframe\">\n",
       "  <thead>\n",
       "    <tr style=\"text-align: right;\">\n",
       "      <th></th>\n",
       "      <th>idx</th>\n",
       "      <th># of nodes</th>\n",
       "      <th># of edges</th>\n",
       "      <th># of elements</th>\n",
       "      <th>Space group (Symbol)</th>\n",
       "      <th>Space group (Number)</th>\n",
       "      <th>Crystal type</th>\n",
       "      <th>NP size (Å)</th>\n",
       "      <th>Elements</th>\n",
       "      <th>Random data split</th>\n",
       "    </tr>\n",
       "  </thead>\n",
       "  <tbody>\n",
       "  </tbody>\n",
       "</table>\n",
       "</div>"
      ],
      "text/plain": [
       "Empty DataFrame\n",
       "Columns: [idx, # of nodes, # of edges, # of elements, Space group (Symbol), Space group (Number), Crystal type, NP size (Å), Elements, Random data split]\n",
       "Index: []"
      ]
     },
     "execution_count": 7,
     "metadata": {},
     "output_type": "execute_result"
    }
   ],
   "source": [
    "stats[stats['# of edges'] == 0]"
   ]
  },
  {
   "cell_type": "code",
   "execution_count": null,
   "metadata": {},
   "outputs": [],
   "source": [
    "sns.scatterplot(data=stats, x='# of nodes', y='# of edges', hue='Crystal type')\n",
    "plt.show()"
   ]
  },
  {
   "cell_type": "code",
   "execution_count": null,
   "metadata": {},
   "outputs": [],
   "source": [
    "palette = sns.color_palette('tab10')\n",
    "color_dict = {'Train': palette[0], 'Validation': palette[1], 'Test': palette[2]}\n",
    "hue_order = ['Train', 'Validation', 'Test']"
   ]
  },
  {
   "cell_type": "code",
   "execution_count": null,
   "metadata": {},
   "outputs": [],
   "source": [
    "plt.figure(figsize=(15,5))\n",
    "ax = sns.histplot(data=stats, x='NP size (Å)', binwidth=0.5, hue='Random data split', multiple='layer',kde=True, kde_kws=dict(bw_method=0.1), line_kws=dict(linewidth=2), stat='count', palette=color_dict, hue_order=hue_order)\n",
    "sns.move_legend(ax, loc='lower center', bbox_to_anchor=(0.5, 1), ncol=3)\n",
    "plt.tight_layout()\n",
    "# plt.savefig('./test_stats_sizeDist.png', format='png', dpi=300)\n",
    "plt.show()\n",
    "\n",
    "plt.figure(figsize=(15,5))\n",
    "ax = sns.histplot(data=stats, x='NP size (Å)', binwidth=0.5, hue='Stratified data split (Crystal type)', multiple='layer',kde=True, kde_kws=dict(bw_method=0.1), line_kws=dict(linewidth=2), stat='count', palette=color_dict, hue_order=hue_order)\n",
    "sns.move_legend(ax, loc='lower center', bbox_to_anchor=(0.5, 1), ncol=3)\n",
    "plt.tight_layout()\n",
    "# plt.savefig('./test_stats_sizeDist.png', format='png', dpi=300)\n",
    "plt.show()"
   ]
  },
  {
   "cell_type": "code",
   "execution_count": null,
   "metadata": {},
   "outputs": [],
   "source": [
    "plt.figure(figsize=(10,5))\n",
    "ax = sns.histplot(data=stats, x='Crystal type', hue='Random data split', multiple='dodge', palette=color_dict, hue_order=hue_order)\n",
    "# ax = sns.histplot(data=stats, x='Crystal type', hue='Stratified data split (Crystal type)', multiple='dodge', palette=color_dict, hue_order=hue_order)\n",
    "sns.move_legend(ax, loc='lower center', bbox_to_anchor=(0.5, 1), ncol=3)\n",
    "plt.tight_layout()\n",
    "# plt.savefig('./test_stats_crystalTypes.png', format='png', dpi=300)\n",
    "plt.show()\n",
    "\n",
    "plt.figure(figsize=(10,5))\n",
    "#ax = sns.histplot(data=stats, x='Crystal type', hue='Random data split', multiple='dodge', palette=color_dict, hue_order=hue_order)\n",
    "ax = sns.histplot(data=stats, x='Crystal type', hue='Stratified data split (Crystal type)', multiple='dodge', palette=color_dict, hue_order=hue_order)\n",
    "sns.move_legend(ax, loc='lower center', bbox_to_anchor=(0.5, 1), ncol=3)\n",
    "plt.tight_layout()\n",
    "# plt.savefig('./test_stats_crystalTypes.png', format='png', dpi=300)\n",
    "plt.show()"
   ]
  },
  {
   "cell_type": "code",
   "execution_count": null,
   "metadata": {},
   "outputs": [],
   "source": [
    "ax = sns.pairplot(data=stats.drop('Elements', axis=1), hue='Random data split', diag_kws=dict(bw_method=0.1), palette=color_dict, hue_order=hue_order)\n",
    "# ax = sns.pairplot(data=stats.drop('Elements', axis=1), hue='Stratified data split (Crystal type)', diag_kws=dict(bw_method=0.1), palette=color_dict, hue_order=hue_order)\n",
    "# ax = sns.pairplot(data=stats.drop('Elements', axis=1), diag_kws=dict(bw_method=0.1))\n",
    "sns.move_legend(ax, loc='lower center', bbox_to_anchor=(0.5, 1), ncol=3)\n",
    "plt.tight_layout()\n",
    "# plt.savefig('./test_stats_pairplot.png', format='png', dpi=300)\n",
    "plt.show()\n",
    "\n",
    "#ax = sns.pairplot(data=stats, hue='Random data split', diag_kws=dict(bw_method=0.1))\n",
    "ax = sns.pairplot(data=stats.drop('Elements', axis=1), hue='Stratified data split (Crystal type)', diag_kws=dict(bw_method=0.1), palette=color_dict, hue_order=hue_order)\n",
    "# ax = sns.pairplot(data=stats.drop('Elements', axis=1), diag_kws=dict(bw_method=0.1))\n",
    "sns.move_legend(ax, loc='lower center', bbox_to_anchor=(0.5, 1), ncol=3)\n",
    "plt.tight_layout()\n",
    "# plt.savefig('./test_stats_pairplot.png', format='png', dpi=300)\n",
    "plt.show()"
   ]
  },
  {
   "cell_type": "code",
   "execution_count": null,
   "metadata": {},
   "outputs": [],
   "source": [
    "stats.columns"
   ]
  }
 ],
 "metadata": {
  "kernelspec": {
   "display_name": "cvae",
   "language": "python",
   "name": "python3"
  },
  "language_info": {
   "codemirror_mode": {
    "name": "ipython",
    "version": 3
   },
   "file_extension": ".py",
   "mimetype": "text/x-python",
   "name": "python",
   "nbconvert_exporter": "python",
   "pygments_lexer": "ipython3",
   "version": "3.10.13"
  },
  "orig_nbformat": 4
 },
 "nbformat": 4,
 "nbformat_minor": 2
}
