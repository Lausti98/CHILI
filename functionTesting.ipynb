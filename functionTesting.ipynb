{
 "cells": [
  {
   "cell_type": "code",
   "execution_count": 1,
   "metadata": {},
   "outputs": [],
   "source": [
    "# Imports\n",
    "# from Code.h5Constructor import h5Constructor"
   ]
  },
  {
   "cell_type": "code",
   "execution_count": 2,
   "metadata": {},
   "outputs": [],
   "source": [
    "# gc = h5Constructor('./Dataset/CIFs/Train/', './Dataset/h5/Train/')"
   ]
  },
  {
   "cell_type": "code",
   "execution_count": 3,
   "metadata": {},
   "outputs": [],
   "source": [
    "# gc.gen_h5s(parallelize=False)"
   ]
  },
  {
   "cell_type": "code",
   "execution_count": 4,
   "metadata": {},
   "outputs": [
    {
     "name": "stderr",
     "output_type": "stream",
     "text": [
      "Processing...\n",
      "Done!\n"
     ]
    }
   ],
   "source": [
    "from Code.datasetClass import InOrgMatDatasets\n",
    "\n",
    "test = InOrgMatDatasets('DatasetTest', root='./Dataset/')"
   ]
  },
  {
   "cell_type": "code",
   "execution_count": 5,
   "metadata": {},
   "outputs": [
    {
     "data": {
      "text/plain": [
       "['Train/ReO3_CoO3.h5',\n",
       " 'Train/AntiFlourite_Ir2O.h5',\n",
       " 'Train/NaCl_FeO.h5',\n",
       " 'Train/Flourite_MoO2.h5',\n",
       " 'Train/Rutile_MoO2.h5',\n",
       " 'Train/NaCl_CoO.h5',\n",
       " 'Train/Flourite_IrO2.h5',\n",
       " 'Train/CdI2_IrO2.h5',\n",
       " 'Train/CdI2_FeO2.h5',\n",
       " 'Train/ReO3_IrO3.h5',\n",
       " 'Train/Rutile_CoO2.h5',\n",
       " 'Train/NaCl_IrO.h5',\n",
       " 'Train/Spinel_CoCo2O4.h5',\n",
       " 'Train/ReO3_MoO3.h5',\n",
       " 'Train/AntiFlourite_Fe2O.h5',\n",
       " 'Train/Spinel_MoMo2O4.h5',\n",
       " 'Train/CdI2_CoO2.h5',\n",
       " 'Train/Spinel_FeFe2O4.h5',\n",
       " 'Train/AntiFlourite_Co2O.h5',\n",
       " 'Train/ReO3_FeO3.h5',\n",
       " 'Train/Flourite_FeO2.h5',\n",
       " 'Train/AntiFlourite_Mo2O.h5',\n",
       " 'Train/CdI2_MoO2.h5',\n",
       " 'Train/Flourite_CoO2.h5',\n",
       " 'Train/Rutile_FeO2.h5',\n",
       " 'Train/Spinel_IrIr2O4.h5',\n",
       " 'Train/Rutile_IrO2.h5',\n",
       " 'Train/NaCl_MoO.h5']"
      ]
     },
     "execution_count": 5,
     "metadata": {},
     "output_type": "execute_result"
    }
   ],
   "source": [
    "test.raw_file_names"
   ]
  },
  {
   "cell_type": "code",
   "execution_count": 7,
   "metadata": {},
   "outputs": [
    {
     "data": {
      "text/plain": [
       "Data(\n",
       "  x=[12, 4],\n",
       "  edge_index=[2, 64],\n",
       "  edge_attr=[88],\n",
       "  y={\n",
       "    np_size=11.35,\n",
       "    nd=[580],\n",
       "    xrd=[580],\n",
       "    nPDF=[301],\n",
       "    xPDF=[301],\n",
       "    sans=[300],\n",
       "    saxs=[300]\n",
       "  }\n",
       ")"
      ]
     },
     "execution_count": 7,
     "metadata": {},
     "output_type": "execute_result"
    }
   ],
   "source": [
    "test.get(100)"
   ]
  }
 ],
 "metadata": {
  "kernelspec": {
   "display_name": "cvae",
   "language": "python",
   "name": "python3"
  },
  "language_info": {
   "codemirror_mode": {
    "name": "ipython",
    "version": 3
   },
   "file_extension": ".py",
   "mimetype": "text/x-python",
   "name": "python",
   "nbconvert_exporter": "python",
   "pygments_lexer": "ipython3",
   "version": "3.7.16"
  },
  "orig_nbformat": 4
 },
 "nbformat": 4,
 "nbformat_minor": 2
}
